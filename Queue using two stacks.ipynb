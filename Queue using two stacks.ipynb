{
 "cells": [
  {
   "cell_type": "markdown",
   "id": "4f220de1",
   "metadata": {},
   "source": [
    "# Implementing Queue using two stacks"
   ]
  },
  {
   "cell_type": "code",
   "execution_count": 1,
   "id": "59dacc94",
   "metadata": {},
   "outputs": [],
   "source": [
    "stack1=[]\n",
    "stack2=[]\n",
    "def add(elemArray):\n",
    "    for elem in elemArray:\n",
    "        stack1.append(elem)\n",
    "    print(stack1)\n",
    "    print(stack2)\n",
    "    while(len(stack1)>0):\n",
    "        current=stack1.pop()\n",
    "        stack2.append(current)\n",
    "    print(stack1)\n",
    "    print(stack2)\n",
    "def delelem():\n",
    "    current=stack2.pop()\n",
    "    return current"
   ]
  },
  {
   "cell_type": "code",
   "execution_count": 2,
   "id": "28bfd48c",
   "metadata": {},
   "outputs": [
    {
     "name": "stdout",
     "output_type": "stream",
     "text": [
      "[1, 2, 3, 4, 5, 6]\n",
      "[]\n",
      "[]\n",
      "[6, 5, 4, 3, 2, 1]\n"
     ]
    }
   ],
   "source": [
    "elements=[1,2,3,4,5,6]\n",
    "add(elements)"
   ]
  },
  {
   "cell_type": "code",
   "execution_count": 3,
   "id": "3767cdb4",
   "metadata": {},
   "outputs": [
    {
     "data": {
      "text/plain": [
       "1"
      ]
     },
     "execution_count": 3,
     "metadata": {},
     "output_type": "execute_result"
    }
   ],
   "source": [
    "delelem()"
   ]
  },
  {
   "cell_type": "code",
   "execution_count": 91,
   "id": "32691d13",
   "metadata": {},
   "outputs": [],
   "source": [
    "#Class code\n",
    "class Queue:\n",
    "    def __init__(self,name):\n",
    "        self.name=name\n",
    "        self.stack1=[]\n",
    "        self.stack2=[]\n",
    "        self.pushcount=0\n",
    "        self.popcount=0\n",
    "        \n",
    "    def addQ(self,name,elemArray):\n",
    "        for elem in elemArray:\n",
    "            self.stack1.append(elem)\n",
    "            self.pushcount+=1\n",
    "        while(len(self.stack1)>0):\n",
    "            self.current=self.stack1.pop()\n",
    "            self.popcount+=1\n",
    "            self.stack2.append(self.current)\n",
    "            self.pushcount+=1\n",
    "    \n",
    "    def delelem(self):\n",
    "        self.current=self.stack2.pop()\n",
    "        self.popcount+=1\n",
    "        return self.current\n",
    "    \n",
    "    def printQueue(self):\n",
    "        for elem in self.stack2[::-1]:\n",
    "            print(elem,end=\" \")\n",
    "    \n",
    "    def printNumberOfOperations(self):\n",
    "        print(\"Number of push operations till now: \",self.pushcount)\n",
    "        print(\"Number of pop operations till now: \",self.popcount)"
   ]
  },
  {
   "cell_type": "code",
   "execution_count": 92,
   "id": "d0d18937",
   "metadata": {},
   "outputs": [],
   "source": [
    "Q=Queue('Q')"
   ]
  },
  {
   "cell_type": "code",
   "execution_count": 93,
   "id": "144f0f77",
   "metadata": {},
   "outputs": [],
   "source": [
    "elements=[1,2,3,4,5,6]"
   ]
  },
  {
   "cell_type": "code",
   "execution_count": 94,
   "id": "8af98609",
   "metadata": {},
   "outputs": [],
   "source": [
    "Q.addQ('Q',elements)"
   ]
  },
  {
   "cell_type": "code",
   "execution_count": 95,
   "id": "9b89a425",
   "metadata": {},
   "outputs": [
    {
     "data": {
      "text/plain": [
       "1"
      ]
     },
     "execution_count": 95,
     "metadata": {},
     "output_type": "execute_result"
    }
   ],
   "source": [
    "Q.delelem()"
   ]
  },
  {
   "cell_type": "code",
   "execution_count": 96,
   "id": "fbc5e05e",
   "metadata": {},
   "outputs": [
    {
     "name": "stdout",
     "output_type": "stream",
     "text": [
      "2 3 4 5 6 "
     ]
    }
   ],
   "source": [
    "Q.printQueue()"
   ]
  },
  {
   "cell_type": "code",
   "execution_count": 97,
   "id": "94a1eee7",
   "metadata": {},
   "outputs": [
    {
     "name": "stdout",
     "output_type": "stream",
     "text": [
      "Number of push operations till now:  12\n",
      "Number of pop operations till now:  7\n"
     ]
    }
   ],
   "source": [
    "Q.printNumberOfOperations()"
   ]
  },
  {
   "cell_type": "code",
   "execution_count": 81,
   "id": "8d27f165",
   "metadata": {},
   "outputs": [
    {
     "name": "stdout",
     "output_type": "stream",
     "text": [
      "[1, 2, 3, 4, 5, 6, 7]\n",
      "[]\n",
      "[]\n",
      "[7, 6, 5, 4, 3, 2, 1]\n"
     ]
    }
   ],
   "source": [
    "P=Queue('P')\n",
    "elem=[1,2,3,4,5,6,7]\n",
    "P.addQ('P',elem)"
   ]
  },
  {
   "cell_type": "code",
   "execution_count": 61,
   "id": "9e62d354",
   "metadata": {},
   "outputs": [
    {
     "data": {
      "text/plain": [
       "1"
      ]
     },
     "execution_count": 61,
     "metadata": {},
     "output_type": "execute_result"
    }
   ],
   "source": [
    "P.delelem()"
   ]
  },
  {
   "cell_type": "markdown",
   "id": "386e9436",
   "metadata": {},
   "source": [
    "# Implementing stack using two queues"
   ]
  },
  {
   "cell_type": "code",
   "execution_count": 104,
   "id": "b8532c58",
   "metadata": {},
   "outputs": [],
   "source": [
    "queue1=[]\n",
    "queue2=[]\n",
    "\n",
    "def push(elemArray):\n",
    "    for elem in elemArray:\n",
    "        queue1.append(elem)\n",
    "    \n",
    "    print(queue1)\n",
    "    print(queue2)\n",
    "    \n",
    "    while(len(queue1)>0):\n",
    "        current=queue1.pop(0)\n",
    "        queue2.append(current)\n",
    "    print(queue1)\n",
    "    print(queue2)\n",
    "    \n",
    "def popS():\n",
    "    current=queue2.pop(-1)\n",
    "    return current\n"
   ]
  },
  {
   "cell_type": "code",
   "execution_count": 105,
   "id": "4626600d",
   "metadata": {},
   "outputs": [
    {
     "name": "stdout",
     "output_type": "stream",
     "text": [
      "[1, 2, 3, 4, 5, 6]\n",
      "[]\n",
      "[]\n",
      "[1, 2, 3, 4, 5, 6]\n"
     ]
    }
   ],
   "source": [
    "elements=[1,2,3,4,5,6]\n",
    "push(elements)"
   ]
  },
  {
   "cell_type": "code",
   "execution_count": 106,
   "id": "f185e593",
   "metadata": {},
   "outputs": [
    {
     "data": {
      "text/plain": [
       "6"
      ]
     },
     "execution_count": 106,
     "metadata": {},
     "output_type": "execute_result"
    }
   ],
   "source": [
    "popS()"
   ]
  },
  {
   "cell_type": "code",
   "execution_count": null,
   "id": "09a77dc2",
   "metadata": {},
   "outputs": [],
   "source": []
  }
 ],
 "metadata": {
  "kernelspec": {
   "display_name": "Python 3",
   "language": "python",
   "name": "python3"
  },
  "language_info": {
   "codemirror_mode": {
    "name": "ipython",
    "version": 3
   },
   "file_extension": ".py",
   "mimetype": "text/x-python",
   "name": "python",
   "nbconvert_exporter": "python",
   "pygments_lexer": "ipython3",
   "version": "3.8.8"
  }
 },
 "nbformat": 4,
 "nbformat_minor": 5
}
