{
 "cells": [
  {
   "cell_type": "markdown",
   "id": "638897e9",
   "metadata": {},
   "source": [
    "## Presenting nodes in form of a adjacency list"
   ]
  },
  {
   "cell_type": "markdown",
   "id": "efb1777b",
   "metadata": {},
   "source": [
    "The keys of the dictionary used are the nodes of our graph and the corresponding values are lists with each nodes, which are connecting by an edge. \n",
    "\n",
    "This simple graph has six nodes (a-f) and five arcs: \n",
    " \n",
    "a -> c\n",
    "\n",
    "b -> c\n",
    "\n",
    "b -> e\n",
    "\n",
    "c -> a\n",
    "\n",
    "c -> b\n",
    "\n",
    "c -> d\n",
    "\n",
    "c -> e\n",
    "\n",
    "d -> c\n",
    "\n",
    "e -> c\n",
    "\n",
    "e -> b\n",
    "\n",
    "It can be represented by the following Python data structure. This is a dictionary whose keys are the nodes of the graph. For each key, the corresponding value is a list containing the nodes that are connected by a direct arc from this node. \n",
    " "
   ]
  },
  {
   "cell_type": "code",
   "execution_count": 1,
   "id": "4be9289c",
   "metadata": {},
   "outputs": [],
   "source": [
    "graph = { \"a\" : [\"c\"],\n",
    "          \"b\" : [\"c\", \"e\"],\n",
    "          \"c\" : [\"a\", \"b\", \"d\", \"e\"],\n",
    "          \"d\" : [\"c\"],\n",
    "          \"e\" : [\"c\", \"b\"],\n",
    "          \"f\" : []\n",
    "        } "
   ]
  },
  {
   "cell_type": "markdown",
   "id": "9e0c8b89",
   "metadata": {},
   "source": [
    "<center><h1>Graphical presentation</h1></center>\n",
    "\n",
    "<img src=\"Graph Presentation.jpg\" alt=\"Graph pic\" style=\"height: 400px; width:400px;\"/>"
   ]
  },
  {
   "cell_type": "markdown",
   "id": "f081b792",
   "metadata": {},
   "source": [
    "## Converting a graph into list of edges"
   ]
  },
  {
   "cell_type": "code",
   "execution_count": 44,
   "id": "d411706b",
   "metadata": {},
   "outputs": [
    {
     "name": "stdout",
     "output_type": "stream",
     "text": [
      "[['a', 'c'], ['b', 'c'], ['b', 'e'], ['c', 'd'], ['c', 'e'], ['c', 'a'], ['c', 'b'], ['e', 'b'], ['e', 'c'], ['d', 'c']]\n"
     ]
    }
   ],
   "source": [
    "#Code from geeks for geeks for generating a graph\n",
    "# Python program for\n",
    "# validation of a graph\n",
    " \n",
    "# import dictionary for graph\n",
    "from collections import defaultdict\n",
    " \n",
    "# function for adding edge to graph\n",
    "graph = defaultdict(list)\n",
    "def addEdge(graph,u,v):\n",
    "    graph[u].append(v)\n",
    "#definition of function\n",
    "def generate_edges(graph):\n",
    "    edges = []\n",
    " \n",
    "    # for each node in graph\n",
    "    for node in graph:\n",
    "         \n",
    "        # for each neighbour node of a single node\n",
    "        for neighbour in graph[node]:\n",
    "             \n",
    "            # if edge exists then append\n",
    "            edges.append([node, neighbour])\n",
    "    return edges\n",
    " \n",
    "# declaration of graph as dictionary\n",
    "addEdge(graph,'a','c')\n",
    "addEdge(graph,'b','c')\n",
    "addEdge(graph,'b','e')\n",
    "addEdge(graph,'c','d')\n",
    "addEdge(graph,'c','e')\n",
    "addEdge(graph,'c','a')\n",
    "addEdge(graph,'c','b')\n",
    "addEdge(graph,'e','b')\n",
    "addEdge(graph,'d','c')\n",
    "addEdge(graph,'e','c')\n",
    " \n",
    "# Driver Function call\n",
    "# to print generated graph\n",
    "print(generate_edges(graph))"
   ]
  },
  {
   "cell_type": "code",
   "execution_count": 4,
   "id": "c86a4055",
   "metadata": {},
   "outputs": [],
   "source": [
    "#Let us suppose a graph with given neighbours.\n",
    "# a,b,c,d,e,f\n",
    "graph = { \"a\" : [\"c\",\"b\"],\n",
    "          \"b\" : [\"d\"],\n",
    "          \"c\" : [\"e\"],\n",
    "          \"d\" : [\"f\"],\n",
    "          \"e\" : [],\n",
    "          \"f\" : []\n",
    "        }\n",
    "#The above graph can easily be understood\n",
    "# b and c are the neighbours of a \n",
    "# e is the neighbour of c\n",
    "#f is the neighnour of d\n",
    "# e and f have no other neighbours coming from them.\n",
    "# So the above given graph is a directed one."
   ]
  },
  {
   "cell_type": "markdown",
   "id": "825a0e7f",
   "metadata": {},
   "source": [
    "## Depth first search\n",
    "Depth-first search (DFS) is an algorithm for traversing or searching tree or graph data structures. The algorithm starts at the root node (selecting some arbitrary node as the root node in the case of a graph) and explores as far as possible along each branch before backtracking.\n",
    "\n",
    "DFS uses Stack for the purpose of storing nodes.\n",
    "\n",
    "Follow the link for more on DFS:-\n",
    "\n",
    "https://www.youtube.com/watch?v=pcKY4hjDrxk\n",
    "\n",
    "https://www.youtube.com/watch?v=tWVWeAqZ0WU"
   ]
  },
  {
   "cell_type": "markdown",
   "id": "10cca528",
   "metadata": {},
   "source": [
    "### Iterative approach"
   ]
  },
  {
   "cell_type": "code",
   "execution_count": 7,
   "id": "79219c33",
   "metadata": {},
   "outputs": [
    {
     "name": "stdout",
     "output_type": "stream",
     "text": [
      "a\n",
      "b\n",
      "d\n",
      "f\n",
      "c\n",
      "e\n"
     ]
    }
   ],
   "source": [
    "#Implementing DFS\n",
    "#Iterative approach\n",
    "\n",
    "def Depth_First_Search(graph,start_node):\n",
    "    stack=[start_node] #The start node will be pushed first into the stack\n",
    "    while(len(stack)>0):\n",
    "            current=stack.pop()\n",
    "            print(current)\n",
    "        \n",
    "            for neighbour in graph[current]:\n",
    "                stack.append(neighbour)\n",
    "Depth_First_Search(graph,'a') #Expected output abdfce \n",
    "    "
   ]
  },
  {
   "cell_type": "code",
   "execution_count": 8,
   "id": "6094b7a6",
   "metadata": {},
   "outputs": [],
   "source": [
    "graph = { \"a\" : [\"b\",\"c\"],\n",
    "          \"b\" : [\"d\"],\n",
    "          \"c\" : [\"e\"],\n",
    "          \"d\" : [\"f\"],\n",
    "          \"e\" : [],\n",
    "          \"f\" : []\n",
    "        }\n"
   ]
  },
  {
   "cell_type": "code",
   "execution_count": 10,
   "id": "29c74745",
   "metadata": {},
   "outputs": [
    {
     "name": "stdout",
     "output_type": "stream",
     "text": [
      "a\n",
      "c\n",
      "e\n",
      "b\n",
      "d\n",
      "f\n"
     ]
    }
   ],
   "source": [
    "Depth_First_Search(graph,'a') #Expected output acebdf"
   ]
  },
  {
   "cell_type": "markdown",
   "id": "5ea240ac",
   "metadata": {},
   "source": [
    "### Recursive approach"
   ]
  },
  {
   "cell_type": "code",
   "execution_count": 12,
   "id": "d5b9f77d",
   "metadata": {},
   "outputs": [
    {
     "name": "stdout",
     "output_type": "stream",
     "text": [
      "a\n",
      "b\n",
      "d\n",
      "f\n",
      "c\n",
      "e\n"
     ]
    }
   ],
   "source": [
    "#Printing the node and then visiting next neighbour\n",
    "def Depth_First_SearchR(graph,start_node):\n",
    "    print(start_node)\n",
    "    for neighbour in graph[start_node]:\n",
    "        Depth_First_Search(graph,neighbour)\n",
    "Depth_First_SearchR(graph,'a')"
   ]
  },
  {
   "cell_type": "markdown",
   "id": "f2e59616",
   "metadata": {},
   "source": [
    "## Breadth First Search\n",
    "\n",
    "BFS stands for Breadth First Search is a vertex based technique for finding a shortest path in graph. It uses a Queue data structure which follows first in first out. In BFS, one vertex is selected at a time when it is visited and marked then its adjacent are visited and stored in the queue. It is slower than DFS.\n",
    "\n",
    "BFS uses queue for the purpose of storing nodes.\n",
    "\n",
    "Using python deque for this:-\n",
    "\n",
    "https://www.geeksforgeeks.org/python-removing-first-element-of-list/"
   ]
  },
  {
   "cell_type": "markdown",
   "id": "a7e84357",
   "metadata": {},
   "source": [
    "### Iterative Approach"
   ]
  },
  {
   "cell_type": "code",
   "execution_count": 43,
   "id": "8082339e",
   "metadata": {},
   "outputs": [],
   "source": [
    "def Breadth_First_Search(graph,start_node):\n",
    "    queue=[start_node]\n",
    "    while(len(queue)>0):\n",
    "        current=queue.pop(0) #Popping from front\n",
    "        print(current)\n",
    "        \n",
    "        for neighbour in graph[current]:\n",
    "            queue.append(neighbour) #Inserting from back\n"
   ]
  },
  {
   "cell_type": "code",
   "execution_count": 44,
   "id": "4b6153d5",
   "metadata": {},
   "outputs": [
    {
     "data": {
      "text/plain": [
       "{'a': ['b', 'c'], 'b': ['d'], 'c': ['e'], 'd': ['f'], 'e': [], 'f': []}"
      ]
     },
     "execution_count": 44,
     "metadata": {},
     "output_type": "execute_result"
    }
   ],
   "source": [
    "graph"
   ]
  },
  {
   "cell_type": "code",
   "execution_count": 45,
   "id": "4ea508af",
   "metadata": {},
   "outputs": [
    {
     "name": "stdout",
     "output_type": "stream",
     "text": [
      "a\n",
      "b\n",
      "c\n",
      "d\n",
      "e\n",
      "f\n"
     ]
    }
   ],
   "source": [
    "Breadth_First_Search(graph,'a')"
   ]
  },
  {
   "cell_type": "markdown",
   "id": "f9af793d",
   "metadata": {},
   "source": [
    "The BFS has no recursice alternative in this case."
   ]
  },
  {
   "cell_type": "markdown",
   "id": "558375ed",
   "metadata": {},
   "source": [
    "## hasPath Problem\n",
    "\n",
    "Find whether in the given acyclic graph there exists a path from source to destination given."
   ]
  },
  {
   "cell_type": "code",
   "execution_count": 2,
   "id": "89a66712",
   "metadata": {},
   "outputs": [],
   "source": [
    "#Given graph\n",
    "graph={ 'f':['g','i'],\n",
    "        'g':['h'],\n",
    "        'h':[],\n",
    "        'i':['g','k'],\n",
    "        'j':['i'],\n",
    "        'k':[]\n",
    "      }\n",
    "#Using DFS\n",
    "#f is in the stack\n",
    "#f is returned\n",
    "#g is pushed next followed by i\n",
    "#g->i \n",
    "#i is poped out\n",
    "#g->g->k\n",
    "#k is poped out\n",
    "# k is the destination node\n"
   ]
  },
  {
   "cell_type": "markdown",
   "id": "a22bd6e3",
   "metadata": {},
   "source": [
    "Time and Space Complexity of best case\n",
    "\n",
    "Time: O(E)\n",
    "\n",
    "Space: O(N)\n",
    "\n",
    "Of Worst Case:\n",
    "\n",
    "Time:O(n<sup>2</sup>)\n",
    "\n",
    "Space:O(n)"
   ]
  },
  {
   "cell_type": "code",
   "execution_count": 1,
   "id": "e08a891c",
   "metadata": {},
   "outputs": [],
   "source": [
    "#Using DFS recursively\n",
    "def hasPathD(graph,start,dst):\n",
    "    if(start==dst):\n",
    "        return True\n",
    "    for neighbour in graph[start]:\n",
    "        if hasPathD(graph,neighbour,dst)==True:\n",
    "            return True\n",
    "    return False"
   ]
  },
  {
   "cell_type": "code",
   "execution_count": 3,
   "id": "0db066c1",
   "metadata": {},
   "outputs": [
    {
     "data": {
      "text/plain": [
       "True"
      ]
     },
     "execution_count": 3,
     "metadata": {},
     "output_type": "execute_result"
    }
   ],
   "source": [
    "hasPathD(graph,'f','k')"
   ]
  },
  {
   "cell_type": "code",
   "execution_count": 4,
   "id": "2f9cf1f2",
   "metadata": {},
   "outputs": [
    {
     "data": {
      "text/plain": [
       "False"
      ]
     },
     "execution_count": 4,
     "metadata": {},
     "output_type": "execute_result"
    }
   ],
   "source": [
    "hasPathD(graph,'k','f')"
   ]
  },
  {
   "cell_type": "code",
   "execution_count": 8,
   "id": "760fd059",
   "metadata": {},
   "outputs": [],
   "source": [
    "#Using BFS\n",
    "def hasPathB(graph,src,dst):\n",
    "    queue=[src]\n",
    "    \n",
    "    while(len(queue)>0):\n",
    "        current=queue.pop(0)\n",
    "        print(current)\n",
    "        if(current==dst):\n",
    "            return True\n",
    "        for neighbour in graph[current]:\n",
    "            queue.append(neighbour)\n",
    "            \n",
    "    return False\n"
   ]
  },
  {
   "cell_type": "code",
   "execution_count": 14,
   "id": "8a7dadc1",
   "metadata": {},
   "outputs": [
    {
     "name": "stdout",
     "output_type": "stream",
     "text": [
      "f\n",
      "g\n",
      "i\n",
      "h\n",
      "g\n",
      "k\n"
     ]
    },
    {
     "data": {
      "text/plain": [
       "True"
      ]
     },
     "execution_count": 14,
     "metadata": {},
     "output_type": "execute_result"
    }
   ],
   "source": [
    "hasPathB(graph,'f','k')\n",
    "#Following BFS\n",
    "#f is in the queue\n",
    "#f->g->i\n",
    "#f gets returned\n",
    "#g->i\n",
    "#g->i->h\n",
    "#g gets returned\n",
    "#i->h\n",
    "#i->h->g->k\n",
    "#i gets returned\n",
    "#h->g->k\n",
    "#h is returned\n",
    "#g->k\n",
    "#g is returned\n",
    "#k->h\n",
    "#k is returned and found it was our destination node\n",
    "#The path formed :- f->g->i->h->g->k"
   ]
  },
  {
   "cell_type": "code",
   "execution_count": 10,
   "id": "f6406201",
   "metadata": {},
   "outputs": [
    {
     "name": "stdout",
     "output_type": "stream",
     "text": [
      "k\n"
     ]
    },
    {
     "data": {
      "text/plain": [
       "False"
      ]
     },
     "execution_count": 10,
     "metadata": {},
     "output_type": "execute_result"
    }
   ],
   "source": [
    "hasPathB(graph,'k','f')"
   ]
  },
  {
   "cell_type": "code",
   "execution_count": 11,
   "id": "0cf71c61",
   "metadata": {},
   "outputs": [],
   "source": [
    "#Using DFS Iterative approach\n",
    "def hasPathDI(graph,src,dst):\n",
    "    stack=[src]\n",
    "    \n",
    "    while(len(stack)>0):\n",
    "        current=stack.pop()\n",
    "        print(current)\n",
    "        if(current==dst):\n",
    "            return True\n",
    "        for neighbour in graph[current]:\n",
    "            stack.append(neighbour)\n",
    "    return False"
   ]
  },
  {
   "cell_type": "code",
   "execution_count": 15,
   "id": "9c87349b",
   "metadata": {},
   "outputs": [
    {
     "name": "stdout",
     "output_type": "stream",
     "text": [
      "f\n",
      "i\n",
      "k\n"
     ]
    },
    {
     "data": {
      "text/plain": [
       "True"
      ]
     },
     "execution_count": 15,
     "metadata": {},
     "output_type": "execute_result"
    }
   ],
   "source": [
    "hasPathDI(graph,'f','k')\n",
    "#Using DFS\n",
    "#f is in the stack\n",
    "#f is returned\n",
    "#g is pushed next followed by i\n",
    "#g->i \n",
    "#i is poped out\n",
    "#g->g->k\n",
    "#k is poped out\n",
    "# k is the destination node\n",
    "#The path is :f->i->k"
   ]
  },
  {
   "cell_type": "code",
   "execution_count": 13,
   "id": "1fb6bbea",
   "metadata": {},
   "outputs": [
    {
     "name": "stdout",
     "output_type": "stream",
     "text": [
      "k\n"
     ]
    },
    {
     "data": {
      "text/plain": [
       "False"
      ]
     },
     "execution_count": 13,
     "metadata": {},
     "output_type": "execute_result"
    }
   ],
   "source": [
    "hasPathDI(graph,'k','f')"
   ]
  },
  {
   "cell_type": "markdown",
   "id": "c3c0a615",
   "metadata": {},
   "source": [
    "## Undirected Path Problem\n",
    "\n",
    "We have a undirected graph so we can move back and forth edges more than once depending on order.\n",
    "\n",
    "edge list is given-\n",
    "\n",
    "edges: [ [i,j] , [k,i] , [m,k] , [k,l] , [o,n] ]\n",
    "\n",
    "Converting this edge list into adjacency list\n",
    "\n",
    "graph:{\n",
    "\n",
    "       i:[j,k],\n",
    "       \n",
    "       j:[i],\n",
    "       \n",
    "       k:[i,m,l],\n",
    "       \n",
    "       m:[k],\n",
    "       \n",
    "       l:[k],\n",
    "       \n",
    "       o:[n],\n",
    "       \n",
    "       n:[o]\n",
    "}\n",
    "\n",
    "<center><h1>The Graph</h1></center>\n",
    "\n",
    "<img src=\"GrapghImage1.jpeg\" alt=\"Graph pic\" style=\"height: 400px; width:400px;\"/>\n",
    "\n",
    "We need to find out if there exists a path between the two given start and dst nodes.\n",
    "\n",
    "Suppose start=i and dst=l\n",
    "\n",
    "So we need to return the path. If there exists one\n",
    "\n",
    "Time:O(n)\n",
    "\n",
    "Space:O(E)"
   ]
  },
  {
   "cell_type": "code",
   "execution_count": 40,
   "id": "584cdd9d",
   "metadata": {},
   "outputs": [],
   "source": [
    "def undirectedPath(edges,nodeA,nodeB):\n",
    "    graph=buildGraph(edges)  #Should return an adjacency list\n",
    "    #Using DFS recursively for traversal\n",
    "    visited=[]\n",
    "    return hasPath(graph,nodeA,nodeB,visited)    #Adding a visited list or set into it"
   ]
  },
  {
   "cell_type": "code",
   "execution_count": 39,
   "id": "d5e8a5eb",
   "metadata": {},
   "outputs": [],
   "source": [
    "def hasPath(graph,start,dst,visited):\n",
    "    if(start==dst):\n",
    "        return True\n",
    "    if start in visited:  #If the node is in visited\n",
    "        return False\n",
    "    \n",
    "    visited.append(start) #Add the node to visited if it is visited for the first time\n",
    "    print(visited)\n",
    "    for neighbour in graph[start]:\n",
    "        if hasPath(graph,neighbour,dst,visited)==True:\n",
    "            return True\n",
    "    return False"
   ]
  },
  {
   "cell_type": "code",
   "execution_count": 41,
   "id": "bb7856ed",
   "metadata": {},
   "outputs": [],
   "source": [
    "#Building a graph from edges\n",
    "def buildGraph(edges):\n",
    "    graph={} #empty dictionary\n",
    "    \n",
    "    for edge in edges: #Iterating through all the edges\n",
    "        [a,b]=edge     #unpacking list\n",
    "        if(not(a in graph)):  #If the given node is not in graph already. Create one\n",
    "            graph[a]=[]       #Assign it an empty list\n",
    "        if(not(b in graph)):  \n",
    "            graph[b]=[]\n",
    "        graph[a].append(b)   #The two unpocked nodes must be neighbour so insert them as neighbours\n",
    "        graph[b].append(a)\n",
    "    \n",
    "    return graph"
   ]
  },
  {
   "cell_type": "code",
   "execution_count": 37,
   "id": "c982bb04",
   "metadata": {},
   "outputs": [
    {
     "name": "stdout",
     "output_type": "stream",
     "text": [
      "{'i': ['j', 'k'], 'j': ['i'], 'k': ['i', 'm', 'l'], 'm': ['k'], 'l': ['k'], 'o': ['n'], 'n': ['o']}\n"
     ]
    }
   ],
   "source": [
    "edges= [ ['i','j'] , ['k','i'] , ['m','k'] , ['k','l'] , ['o','n'] ]\n",
    "g=buildGraph(edges)\n",
    "print(g)"
   ]
  },
  {
   "cell_type": "code",
   "execution_count": 25,
   "id": "8cf03787",
   "metadata": {},
   "outputs": [],
   "source": [
    "edges= [ ['i','j'] , ['k','i'] , ['m','k'] , ['k','l'] , ['o','n'] ]"
   ]
  },
  {
   "cell_type": "code",
   "execution_count": 30,
   "id": "89001151",
   "metadata": {},
   "outputs": [
    {
     "ename": "RecursionError",
     "evalue": "maximum recursion depth exceeded in comparison",
     "output_type": "error",
     "traceback": [
      "\u001b[1;31m---------------------------------------------------------------------------\u001b[0m",
      "\u001b[1;31mRecursionError\u001b[0m                            Traceback (most recent call last)",
      "\u001b[1;32m<ipython-input-30-f7ac4a92592e>\u001b[0m in \u001b[0;36m<module>\u001b[1;34m\u001b[0m\n\u001b[1;32m----> 1\u001b[1;33m \u001b[0mundirectedPath\u001b[0m\u001b[1;33m(\u001b[0m\u001b[0medges\u001b[0m\u001b[1;33m,\u001b[0m\u001b[1;34m'k'\u001b[0m\u001b[1;33m,\u001b[0m\u001b[1;34m'n'\u001b[0m\u001b[1;33m)\u001b[0m \u001b[1;31m#Before adding the aviod cycle functionality to our code\u001b[0m\u001b[1;33m\u001b[0m\u001b[1;33m\u001b[0m\u001b[0m\n\u001b[0m",
      "\u001b[1;32m<ipython-input-24-4d913b704163>\u001b[0m in \u001b[0;36mundirectedPath\u001b[1;34m(edges, nodeA, nodeB)\u001b[0m\n\u001b[0;32m      2\u001b[0m     \u001b[0mgraph\u001b[0m\u001b[1;33m=\u001b[0m\u001b[0mbuildGraph\u001b[0m\u001b[1;33m(\u001b[0m\u001b[0medges\u001b[0m\u001b[1;33m)\u001b[0m  \u001b[1;31m#Should return an adjacency list\u001b[0m\u001b[1;33m\u001b[0m\u001b[1;33m\u001b[0m\u001b[0m\n\u001b[0;32m      3\u001b[0m     \u001b[1;31m#Using DFS recursively for traversal\u001b[0m\u001b[1;33m\u001b[0m\u001b[1;33m\u001b[0m\u001b[1;33m\u001b[0m\u001b[0m\n\u001b[1;32m----> 4\u001b[1;33m     \u001b[1;32mreturn\u001b[0m \u001b[0mhasPath\u001b[0m\u001b[1;33m(\u001b[0m\u001b[0mgraph\u001b[0m\u001b[1;33m,\u001b[0m\u001b[0mnodeA\u001b[0m\u001b[1;33m,\u001b[0m\u001b[0mnodeB\u001b[0m\u001b[1;33m)\u001b[0m\u001b[1;33m\u001b[0m\u001b[1;33m\u001b[0m\u001b[0m\n\u001b[0m",
      "\u001b[1;32m<ipython-input-27-4e2587e3ab5d>\u001b[0m in \u001b[0;36mhasPath\u001b[1;34m(graph, start, dst)\u001b[0m\n\u001b[0;32m      3\u001b[0m         \u001b[1;32mreturn\u001b[0m \u001b[1;32mTrue\u001b[0m\u001b[1;33m\u001b[0m\u001b[1;33m\u001b[0m\u001b[0m\n\u001b[0;32m      4\u001b[0m     \u001b[1;32mfor\u001b[0m \u001b[0mneighbour\u001b[0m \u001b[1;32min\u001b[0m \u001b[0mgraph\u001b[0m\u001b[1;33m[\u001b[0m\u001b[0mstart\u001b[0m\u001b[1;33m]\u001b[0m\u001b[1;33m:\u001b[0m\u001b[1;33m\u001b[0m\u001b[1;33m\u001b[0m\u001b[0m\n\u001b[1;32m----> 5\u001b[1;33m         \u001b[1;32mif\u001b[0m \u001b[0mhasPath\u001b[0m\u001b[1;33m(\u001b[0m\u001b[0mgraph\u001b[0m\u001b[1;33m,\u001b[0m\u001b[0mneighbour\u001b[0m\u001b[1;33m,\u001b[0m\u001b[0mdst\u001b[0m\u001b[1;33m)\u001b[0m\u001b[1;33m==\u001b[0m\u001b[1;32mTrue\u001b[0m\u001b[1;33m:\u001b[0m\u001b[1;33m\u001b[0m\u001b[1;33m\u001b[0m\u001b[0m\n\u001b[0m\u001b[0;32m      6\u001b[0m             \u001b[1;32mreturn\u001b[0m \u001b[1;32mTrue\u001b[0m\u001b[1;33m\u001b[0m\u001b[1;33m\u001b[0m\u001b[0m\n\u001b[0;32m      7\u001b[0m     \u001b[1;32mreturn\u001b[0m \u001b[1;32mFalse\u001b[0m\u001b[1;33m\u001b[0m\u001b[1;33m\u001b[0m\u001b[0m\n",
      "... last 1 frames repeated, from the frame below ...\n",
      "\u001b[1;32m<ipython-input-27-4e2587e3ab5d>\u001b[0m in \u001b[0;36mhasPath\u001b[1;34m(graph, start, dst)\u001b[0m\n\u001b[0;32m      3\u001b[0m         \u001b[1;32mreturn\u001b[0m \u001b[1;32mTrue\u001b[0m\u001b[1;33m\u001b[0m\u001b[1;33m\u001b[0m\u001b[0m\n\u001b[0;32m      4\u001b[0m     \u001b[1;32mfor\u001b[0m \u001b[0mneighbour\u001b[0m \u001b[1;32min\u001b[0m \u001b[0mgraph\u001b[0m\u001b[1;33m[\u001b[0m\u001b[0mstart\u001b[0m\u001b[1;33m]\u001b[0m\u001b[1;33m:\u001b[0m\u001b[1;33m\u001b[0m\u001b[1;33m\u001b[0m\u001b[0m\n\u001b[1;32m----> 5\u001b[1;33m         \u001b[1;32mif\u001b[0m \u001b[0mhasPath\u001b[0m\u001b[1;33m(\u001b[0m\u001b[0mgraph\u001b[0m\u001b[1;33m,\u001b[0m\u001b[0mneighbour\u001b[0m\u001b[1;33m,\u001b[0m\u001b[0mdst\u001b[0m\u001b[1;33m)\u001b[0m\u001b[1;33m==\u001b[0m\u001b[1;32mTrue\u001b[0m\u001b[1;33m:\u001b[0m\u001b[1;33m\u001b[0m\u001b[1;33m\u001b[0m\u001b[0m\n\u001b[0m\u001b[0;32m      6\u001b[0m             \u001b[1;32mreturn\u001b[0m \u001b[1;32mTrue\u001b[0m\u001b[1;33m\u001b[0m\u001b[1;33m\u001b[0m\u001b[0m\n\u001b[0;32m      7\u001b[0m     \u001b[1;32mreturn\u001b[0m \u001b[1;32mFalse\u001b[0m\u001b[1;33m\u001b[0m\u001b[1;33m\u001b[0m\u001b[0m\n",
      "\u001b[1;31mRecursionError\u001b[0m: maximum recursion depth exceeded in comparison"
     ]
    }
   ],
   "source": [
    "undirectedPath(edges,'k','n') #Before adding the aviod cycle functionality to our code"
   ]
  },
  {
   "cell_type": "code",
   "execution_count": 42,
   "id": "9055b011",
   "metadata": {},
   "outputs": [
    {
     "name": "stdout",
     "output_type": "stream",
     "text": [
      "['k']\n",
      "['k', 'i']\n",
      "['k', 'i', 'j']\n",
      "['k', 'i', 'j', 'm']\n",
      "['k', 'i', 'j', 'm', 'l']\n"
     ]
    },
    {
     "data": {
      "text/plain": [
       "False"
      ]
     },
     "execution_count": 42,
     "metadata": {},
     "output_type": "execute_result"
    }
   ],
   "source": [
    "undirectedPath(edges,'k','n')"
   ]
  },
  {
   "cell_type": "code",
   "execution_count": 43,
   "id": "c8157e94",
   "metadata": {},
   "outputs": [
    {
     "name": "stdout",
     "output_type": "stream",
     "text": [
      "['k']\n",
      "['k', 'i']\n",
      "['k', 'i', 'j']\n"
     ]
    },
    {
     "data": {
      "text/plain": [
       "True"
      ]
     },
     "execution_count": 43,
     "metadata": {},
     "output_type": "execute_result"
    }
   ],
   "source": [
    "undirectedPath(edges,'k','m')"
   ]
  },
  {
   "cell_type": "markdown",
   "id": "82a58a1c",
   "metadata": {},
   "source": [
    "# Connected Components Count\n",
    "\n",
    "Given Graph\n",
    "\n",
    "graph:{\n",
    "\n",
    "       3:[],\n",
    "       \n",
    "       4:[6],\n",
    "       \n",
    "       6:[4,5,7,8],\n",
    "       \n",
    "       8:[6],\n",
    "       \n",
    "       7:[6],\n",
    "       \n",
    "       5:[6],\n",
    "       \n",
    "       1:[2],\n",
    "       \n",
    "       2:[1]\n",
    "       \n",
    "       }\n",
    "\n",
    "<center><h1>The Graph</h1></center>\n",
    "\n",
    "<img src=\"Graph2a.jpeg\" alt=\"Graph pic\" style=\"height: 400px; width:400px;\"/>\n",
    "\n",
    "We need to find the number of connected components. Nodes connected by edges.\n",
    "\n",
    "Note:- We need to avoid loop so use visited\n",
    "\n",
    "Hint:- Take all the given nodes and traverse as far as possible and keep increasing the count.\n",
    "\n",
    "The number of connected components=3 (Answer to above problem)\n",
    "\n",
    "Time: O(E)\n",
    "\n",
    "Space:O(N)\n",
    "\n"
   ]
  },
  {
   "cell_type": "code",
   "execution_count": 5,
   "id": "1c90999b",
   "metadata": {},
   "outputs": [],
   "source": [
    "graph1={\n",
    "\n",
    "   '3':[],\n",
    "\n",
    "   '4':['6'],\n",
    "\n",
    "   '6':['4','5','7','8'],\n",
    "\n",
    "   '8':['6'],\n",
    "\n",
    "   '7':['6'],\n",
    "\n",
    "   '5':['6'],\n",
    "\n",
    "   '1':['2'],\n",
    "\n",
    "   '2':['1']\n",
    "\n",
    "   }"
   ]
  },
  {
   "cell_type": "code",
   "execution_count": 6,
   "id": "1da481b4",
   "metadata": {},
   "outputs": [],
   "source": [
    "def connectedComponents(graph):\n",
    "    visited=[]\n",
    "    count=0\n",
    "    for node in graph:\n",
    "        if explore(graph,node,visited)==True: #Perform DFS as fas as possible, if returns true means that new component is being visited now\n",
    "            count+=1\n",
    "    return count"
   ]
  },
  {
   "cell_type": "code",
   "execution_count": 7,
   "id": "96c8922e",
   "metadata": {},
   "outputs": [],
   "source": [
    "def explore(graph,current,visited):\n",
    "    if(current in visited): #If the current node is in visited then return False\n",
    "        return False\n",
    "    visited.append(current) #Add nodes to visited if it is a new node\n",
    "#     print(visited)\n",
    "    for neighbour in graph[current]: #Visit the next neighbour\n",
    "        explore(graph,neighbour,visited)\n",
    "    \n",
    "    return True #After all the neighbours of the graph are visited return True to mark that all the nodes have been explored"
   ]
  },
  {
   "cell_type": "code",
   "execution_count": 8,
   "id": "8defe36b",
   "metadata": {},
   "outputs": [
    {
     "name": "stdout",
     "output_type": "stream",
     "text": [
      "['3']\n",
      "['3', '4']\n",
      "['3', '4', '6']\n",
      "['3', '4', '6', '5']\n",
      "['3', '4', '6', '5', '7']\n",
      "['3', '4', '6', '5', '7', '8']\n",
      "['3', '4', '6', '5', '7', '8', '1']\n",
      "['3', '4', '6', '5', '7', '8', '1', '2']\n",
      "3\n"
     ]
    }
   ],
   "source": [
    "c=connectedComponents(graph1)\n",
    "print(c)"
   ]
  },
  {
   "cell_type": "markdown",
   "id": "e4afb5b9",
   "metadata": {},
   "source": [
    "# Largest Component\n",
    "\n",
    "Find the graph with maximum number of connected nodes.\n",
    "\n",
    "Time:O(E)\n",
    "\n",
    "Space:O(N)\n",
    "\n",
    "<img src=\"Graph2a.jpeg\" alt=\"Graph pic\" style=\"height: 400px; width:400px;\"/>\n",
    "\n",
    "The Answer is : 5"
   ]
  },
  {
   "cell_type": "code",
   "execution_count": 18,
   "id": "55fc615f",
   "metadata": {},
   "outputs": [],
   "source": [
    "def largestComponent(graph):\n",
    "    visited=[]\n",
    "    large=0\n",
    "    for node in graph:\n",
    "        size=exploreSize(graph,node,visited)\n",
    "        if(size>large):\n",
    "            large=size\n",
    "    return large       "
   ]
  },
  {
   "cell_type": "code",
   "execution_count": 17,
   "id": "e8d8ef36",
   "metadata": {},
   "outputs": [],
   "source": [
    "def exploreSize(graph,current,visited):\n",
    "    if(current in visited):\n",
    "        return 0         #If the node is already visited then it will return size 0\n",
    "    \n",
    "    visited.append(current)\n",
    "    \n",
    "    size=1   #if the node is visited for the first time the size is 1. Represents the current node\n",
    "    \n",
    "    for neighbour in graph[current]:\n",
    "        size += exploreSize(graph,neighbour,visited)  #Just add the size to the number returned\n",
    "    \n",
    "    return size"
   ]
  },
  {
   "cell_type": "code",
   "execution_count": 19,
   "id": "43b784d4",
   "metadata": {},
   "outputs": [],
   "source": [
    "graph1={\n",
    "\n",
    "   '3':[],\n",
    "\n",
    "   '4':['6'],\n",
    "\n",
    "   '6':['4','5','7','8'],\n",
    "\n",
    "   '8':['6'],\n",
    "\n",
    "   '7':['6'],\n",
    "\n",
    "   '5':['6'],\n",
    "\n",
    "   '1':['2'],\n",
    "\n",
    "   '2':['1']\n",
    "\n",
    "   }"
   ]
  },
  {
   "cell_type": "code",
   "execution_count": 20,
   "id": "963fbe5d",
   "metadata": {},
   "outputs": [
    {
     "data": {
      "text/plain": [
       "5"
      ]
     },
     "execution_count": 20,
     "metadata": {},
     "output_type": "execute_result"
    }
   ],
   "source": [
    "largestComponent(graph1)"
   ]
  },
  {
   "cell_type": "markdown",
   "id": "b3e078cb",
   "metadata": {},
   "source": [
    "# Shortest Path\n",
    "\n",
    "Given an edge list:\n",
    "\n",
    "edges:[\n",
    "\n",
    "        ['w','x'],\n",
    "        \n",
    "        ['x','y'],\n",
    "        \n",
    "        ['z','y'],\n",
    "        \n",
    "        ['z','v'],\n",
    "        \n",
    "        ['w','v']\n",
    "\n",
    "      ]\n",
    "\n",
    "Converting it into adjacency list:\n",
    "\n",
    "graph={\n",
    "\n",
    "        'w': ['x', 'v'],\n",
    "        \n",
    "        'x': ['w', 'y'],\n",
    "        \n",
    "        'y': ['x', 'z'],\n",
    "        \n",
    "        'z': ['y', 'v'],\n",
    "        \n",
    "        'v': ['z', 'w']\n",
    "        \n",
    "       }\n",
    "       \n",
    "<center><h1>The Graph</h1></center>       \n",
    "       \n",
    "<img src=\"Graph3a.jpeg\" alt=\"Graph pic\" style=\"height: 400px; width:400px;\"/>\n",
    " \n",
    "Given two nodes start and end. Find the shortest path between them.\n",
    "\n",
    "If Start=w and end=z. The Shortest Path is going to be w->v->z.\n",
    "\n",
    "Note:- The weight over each node is not given like shortest path algorithms."
   ]
  },
  {
   "cell_type": "code",
   "execution_count": 27,
   "id": "38d8c83b",
   "metadata": {},
   "outputs": [],
   "source": [
    "#We are going to use BFS as it is going to traverse at each edge rather than depth.\n",
    "#DFS will keep on going until absolute depth is reached so BFS is preferred\n",
    "def shortestPath(edges,nodeA,nodeB):\n",
    "    graph=buildGraph(edges)\n",
    "    \n",
    "    visited=[]\n",
    "    \n",
    "    visited.append(nodeA)  #Store the first node in visited\n",
    "    \n",
    "    queue=[[nodeA,0]] #Zero is the distance of the node from nodeA. Starting node\n",
    "    \n",
    "    while(len(queue)>0):\n",
    "        \n",
    "        [node,distance]=queue.pop(0)   #BFS rule\n",
    "        \n",
    "        if node==nodeB:\n",
    "            \n",
    "            return distance\n",
    "        \n",
    "        for neighbour in graph[node]:\n",
    "            \n",
    "            if(neighbour not in visited):   #If the node is not present in visited then push it into the queue\n",
    "                \n",
    "                visited.append(neighbour)\n",
    "                \n",
    "                queue.append([neighbour,distance+1]) #Incrementing the distance by 1\n",
    "    return -1  #If there is no path return -1\n",
    "        "
   ]
  },
  {
   "cell_type": "code",
   "execution_count": 24,
   "id": "1ea12579",
   "metadata": {},
   "outputs": [],
   "source": [
    "def buildGraph(edges):\n",
    "    graph={}\n",
    "    for edge in edges:\n",
    "        [a,b]=edge\n",
    "        if(not(a in graph)):\n",
    "            graph[a]=[]\n",
    "        if(not(b in graph)):\n",
    "            graph[b]=[]\n",
    "        graph[a].append(b)\n",
    "        graph[b].append(a)\n",
    "    \n",
    "    return graph"
   ]
  },
  {
   "cell_type": "code",
   "execution_count": 25,
   "id": "b0b04be5",
   "metadata": {},
   "outputs": [],
   "source": [
    "edges=[\n",
    "\n",
    "        ['w','x'],\n",
    "        \n",
    "        ['x','y'],\n",
    "        \n",
    "        ['z','y'],\n",
    "        \n",
    "        ['z','v'],\n",
    "        \n",
    "        ['w','v']\n",
    "\n",
    "      ]"
   ]
  },
  {
   "cell_type": "code",
   "execution_count": 26,
   "id": "3c39796b",
   "metadata": {},
   "outputs": [
    {
     "data": {
      "text/plain": [
       "{'w': ['x', 'v'],\n",
       " 'x': ['w', 'y'],\n",
       " 'y': ['x', 'z'],\n",
       " 'z': ['y', 'v'],\n",
       " 'v': ['z', 'w']}"
      ]
     },
     "execution_count": 26,
     "metadata": {},
     "output_type": "execute_result"
    }
   ],
   "source": [
    "buildGraph(edges)"
   ]
  },
  {
   "cell_type": "code",
   "execution_count": 28,
   "id": "97eb79a2",
   "metadata": {},
   "outputs": [
    {
     "data": {
      "text/plain": [
       "2"
      ]
     },
     "execution_count": 28,
     "metadata": {},
     "output_type": "execute_result"
    }
   ],
   "source": [
    "shortestPath(edges,'w','z')"
   ]
  },
  {
   "cell_type": "code",
   "execution_count": 29,
   "id": "28180a83",
   "metadata": {},
   "outputs": [],
   "source": [
    "#Using the above graph\n",
    "edges=[ ['i','j'] , ['k','i'] , ['m','k'] , ['k','l'] , ['o','n'] ]"
   ]
  },
  {
   "cell_type": "code",
   "execution_count": 32,
   "id": "38118284",
   "metadata": {},
   "outputs": [
    {
     "data": {
      "text/plain": [
       "2"
      ]
     },
     "execution_count": 32,
     "metadata": {},
     "output_type": "execute_result"
    }
   ],
   "source": [
    "shortestPath(edges,'i','l')"
   ]
  },
  {
   "cell_type": "code",
   "execution_count": 33,
   "id": "102b47ce",
   "metadata": {},
   "outputs": [],
   "source": [
    "#Converting a adjacency list into edge array\n",
    "def buildEdge(graph):\n",
    "    edges=[]\n",
    "    for node in graph:\n",
    "        for neighbour in graph[node]:\n",
    "            edges.append([node,neighbour])\n",
    "\n",
    "    return edges"
   ]
  },
  {
   "cell_type": "code",
   "execution_count": 34,
   "id": "1a2e3b58",
   "metadata": {},
   "outputs": [],
   "source": [
    "graph={\n",
    "\n",
    "        'w': ['x', 'v'],\n",
    "        \n",
    "        'x': ['w', 'y'],\n",
    "        \n",
    "        'y': ['x', 'z'],\n",
    "        \n",
    "        'z': ['y', 'v'],\n",
    "        \n",
    "        'v': ['z', 'w']\n",
    "        \n",
    "       }"
   ]
  },
  {
   "cell_type": "code",
   "execution_count": 36,
   "id": "3e4e8429",
   "metadata": {},
   "outputs": [
    {
     "name": "stdout",
     "output_type": "stream",
     "text": [
      "[['w', 'x'], ['w', 'v'], ['x', 'w'], ['x', 'y'], ['y', 'x'], ['y', 'z'], ['z', 'y'], ['z', 'v'], ['v', 'z'], ['v', 'w']]\n"
     ]
    }
   ],
   "source": [
    "edgeList=buildEdge(graph)\n",
    "print(edgeList)"
   ]
  },
  {
   "cell_type": "code",
   "execution_count": 37,
   "id": "a339b558",
   "metadata": {},
   "outputs": [],
   "source": [
    "graph1={\n",
    "\n",
    "   '3':[],\n",
    "\n",
    "   '4':['6'],\n",
    "\n",
    "   '6':['4','5','7','8'],\n",
    "\n",
    "   '8':['6'],\n",
    "\n",
    "   '7':['6'],\n",
    "\n",
    "   '5':['6'],\n",
    "\n",
    "   '1':['2'],\n",
    "\n",
    "   '2':['1']\n",
    "\n",
    "   }"
   ]
  },
  {
   "cell_type": "code",
   "execution_count": 38,
   "id": "86bf38bf",
   "metadata": {},
   "outputs": [
    {
     "name": "stdout",
     "output_type": "stream",
     "text": [
      "[['4', '6'], ['6', '4'], ['6', '5'], ['6', '7'], ['6', '8'], ['8', '6'], ['7', '6'], ['5', '6'], ['1', '2'], ['2', '1']]\n"
     ]
    }
   ],
   "source": [
    "edgeList=buildEdge(graph1)\n",
    "print(edgeList)"
   ]
  },
  {
   "cell_type": "markdown",
   "id": "0cf08e57",
   "metadata": {},
   "source": [
    "<img src='DijkistraAlgo.png' height=400px width=400px/>"
   ]
  },
  {
   "cell_type": "code",
   "execution_count": 40,
   "id": "9df84d7b",
   "metadata": {},
   "outputs": [
    {
     "data": {
      "text/plain": [
       "{'A': [['B', 4], ['C', 2]],\n",
       " 'B': [['A', 4], ['C', 5], ['D', 10]],\n",
       " 'C': [['A', 2], ['B', 5], ['E', 3]],\n",
       " 'D': [['B', 10], ['E', 4], ['F', 11]],\n",
       " 'E': [['C', 3], ['D', 4]],\n",
       " 'F': [['D', 11]]}"
      ]
     },
     "execution_count": 40,
     "metadata": {},
     "output_type": "execute_result"
    }
   ],
   "source": [
    "edgeList=[['A','B',4],['A','C',2],['B','C',5],['B','D',10],['C','E',3],['E','D',4],['D','F',11]]\n",
    "#Converting the edge list into adjacency list\n",
    "def convertGraph(edgeList):\n",
    "    graph={}\n",
    "    for edge in edgeList:\n",
    "        [a,b,w]=edge\n",
    "        if(not(a in graph)):\n",
    "            graph[a]=[]\n",
    "        if(not(b in graph)):\n",
    "            graph[b]=[]\n",
    "        graph[a].append([b,w])\n",
    "        graph[b].append([a,w])\n",
    "    return graph\n",
    "convertGraph(edgeList)"
   ]
  },
  {
   "cell_type": "markdown",
   "id": "2e45189f",
   "metadata": {},
   "source": [
    "## Dijkistra Algorithm\n",
    "Dijkstra's algorithm is the iterative algorithmic process to provide us with the shortest path from one specific starting node to all other nodes of a graph. It is different from the minimum spanning tree as the shortest distance among two vertices might not involve all the vertices of the graph.\n",
    "**Code in progress**"
   ]
  },
  {
   "cell_type": "code",
   "execution_count": 106,
   "id": "8eae1cfa",
   "metadata": {},
   "outputs": [],
   "source": [
    "def DijkistraAlgo(graph,nodeA):\n",
    "    #Using BFS for Dijkistra Algo\n",
    "    result=[]    #Stores all the distances from particular node\n",
    "    queue=[[nodeA,0]]\n",
    "\n",
    "    visited=[]\n",
    "    visited.append(nodeA)\n",
    "    \n",
    "    while(len(queue)>0):\n",
    "        \n",
    "        [node,distance]=queue.pop(0)\n",
    "        for neighbour,d in graph[node]:\n",
    "            \n",
    "            if(neighbour not in visited):\n",
    "                alt=d+distance\n",
    "                visited.append(neighbour)\n",
    "                if(alt<distance):\n",
    "                    distance=alt\n",
    "                queue.append([neighbour,alt])\n",
    "                result.append([neighbour,alt])\n",
    "    print('Distance of nodes from: ',nodeA)\n",
    "    print(visited)\n",
    "    print(result)\n",
    "    "
   ]
  },
  {
   "cell_type": "code",
   "execution_count": 107,
   "id": "0541137b",
   "metadata": {},
   "outputs": [],
   "source": [
    "g=convertGraph(edgeList)"
   ]
  },
  {
   "cell_type": "code",
   "execution_count": 108,
   "id": "c7a5379a",
   "metadata": {},
   "outputs": [
    {
     "name": "stdout",
     "output_type": "stream",
     "text": [
      "Distance of nodes from:  A\n",
      "['A', 'B', 'C', 'D', 'E', 'F']\n",
      "[['B', 4], ['C', 2], ['D', 14], ['E', 5], ['F', 25]]\n"
     ]
    }
   ],
   "source": [
    "DijkistraAlgo(g,'A')"
   ]
  },
  {
   "cell_type": "markdown",
   "id": "b4264dc7",
   "metadata": {},
   "source": [
    "## Island Count Problem\n",
    "\n",
    "Given a 2-D array return the number of islands represented by L.\n",
    "\n",
    "An island is a vertical or horizontal connected nodes here (L).\n",
    "\n"
   ]
  },
  {
   "cell_type": "code",
   "execution_count": 57,
   "id": "d8e26478",
   "metadata": {},
   "outputs": [],
   "source": [
    "def islandCount(grid):\n",
    "    m=len(grid)\n",
    "    n=len(grid[0])\n",
    "    \n",
    "    count=0\n",
    "    visited=[]\n",
    "    for i in range(m):\n",
    "        for j in range(n):\n",
    "            if explore(grid,i,j,visited)==True:\n",
    "                count+=1\n",
    "    \n",
    "    return count"
   ]
  },
  {
   "cell_type": "code",
   "execution_count": 58,
   "id": "b8e9bb5a",
   "metadata": {},
   "outputs": [],
   "source": [
    "def explore(grid,m,n,visited):\n",
    "    rowInBounds=0 <= m and m < len(grid)\n",
    "    colInBounds=0 <= n and n < len(grid[0])\n",
    "    if(not(rowInBounds) or not(colInBounds)):\n",
    "        return False\n",
    "    if grid[m][n]=='W':\n",
    "        return False\n",
    "    \n",
    "    pos=str(m)+','+str(n)\n",
    "    if pos in visited:\n",
    "        return False\n",
    "    visited.append(pos)\n",
    "\n",
    "    explore(grid,m+1,n,visited)\n",
    "    explore(grid,m-1,n,visited)\n",
    "    explore(grid,m,n+1,visited)\n",
    "    explore(grid,m,n-1,visited)\n",
    "    \n",
    "    return True"
   ]
  },
  {
   "cell_type": "code",
   "execution_count": 59,
   "id": "82143ee8",
   "metadata": {},
   "outputs": [
    {
     "data": {
      "text/plain": [
       "1"
      ]
     },
     "execution_count": 59,
     "metadata": {},
     "output_type": "execute_result"
    }
   ],
   "source": [
    "islandCount([['W','W','W'],['L','W','W'],['W','W','W']])"
   ]
  },
  {
   "cell_type": "markdown",
   "id": "99069386",
   "metadata": {},
   "source": [
    "# Minimum Island\n",
    "\n",
    "Given a 2-D grid find the smallest island"
   ]
  },
  {
   "cell_type": "code",
   "execution_count": 63,
   "id": "9676714a",
   "metadata": {},
   "outputs": [],
   "source": [
    "def islandMinimum(grid):\n",
    "    m=len(grid)\n",
    "    n=len(grid[0])\n",
    "    mini=9999\n",
    "    visited=[]\n",
    "    for i in range(m):\n",
    "        for j in range(n):\n",
    "            size = explore(grid,i,j,visited)\n",
    "            if(size<mini and size>0):\n",
    "                mini=size\n",
    "                \n",
    "    \n",
    "    return mini"
   ]
  },
  {
   "cell_type": "code",
   "execution_count": 64,
   "id": "1f687cbc",
   "metadata": {},
   "outputs": [],
   "source": [
    "def explore(grid,m,n,visited):\n",
    "    rowInBounds=0 <= m and m < len(grid)\n",
    "    colInBounds=0 <= n and n < len(grid[0])\n",
    "    if(not(rowInBounds) or not(colInBounds)):\n",
    "        return 0\n",
    "    if grid[m][n]=='W':\n",
    "        return 0\n",
    "    \n",
    "    pos=str(m)+','+str(n)\n",
    "    if pos in visited:\n",
    "        return 0\n",
    "    visited.append(pos)\n",
    "    size=1\n",
    "    size+=explore(grid,m+1,n,visited)\n",
    "    size+=explore(grid,m-1,n,visited)\n",
    "    size+=explore(grid,m,n+1,visited)\n",
    "    size+=explore(grid,m,n-1,visited)\n",
    "    \n",
    "    return size"
   ]
  },
  {
   "cell_type": "code",
   "execution_count": 66,
   "id": "1c8b9e50",
   "metadata": {},
   "outputs": [
    {
     "data": {
      "text/plain": [
       "2"
      ]
     },
     "execution_count": 66,
     "metadata": {},
     "output_type": "execute_result"
    }
   ],
   "source": [
    "islandMinimum([['L','L','L'],['W','W','W'],['W','L','L']])"
   ]
  },
  {
   "cell_type": "code",
   "execution_count": null,
   "id": "a1be11bd",
   "metadata": {},
   "outputs": [],
   "source": []
  }
 ],
 "metadata": {
  "kernelspec": {
   "display_name": "Python 3",
   "language": "python",
   "name": "python3"
  },
  "language_info": {
   "codemirror_mode": {
    "name": "ipython",
    "version": 3
   },
   "file_extension": ".py",
   "mimetype": "text/x-python",
   "name": "python",
   "nbconvert_exporter": "python",
   "pygments_lexer": "ipython3",
   "version": "3.8.8"
  }
 },
 "nbformat": 4,
 "nbformat_minor": 5
}
