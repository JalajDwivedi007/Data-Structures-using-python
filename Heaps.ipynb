{
 "cells": [
  {
   "cell_type": "markdown",
   "id": "c2332e5d",
   "metadata": {},
   "source": [
    "# Heaps\n",
    "Heap data structure is a complete binary tree that satisfies the heap property, where any given node is\n",
    "\n",
    "<ul><li>always greater than its child node/s and the key of the root node is the largest among all other nodes. This property is also called max heap property.</li>\n",
    "<li>always smaller than the child node/s and the key of the root node is the smallest among all other nodes. This property is also called min heap property.</li></ul>\n",
    "\n",
    "<center><h6>Max Heap</h6></center>\n",
    "<img src='Max-Heap.png' alt='Max-Heap' width=400px height=400px/>\n",
    "<center><h6>Min Heap</h6></center>\n",
    "<img src='Max-Heap.png' alt='Min_Heap' width=400px height=400px/>\n",
    "\n",
    "This type of data structure is also called a **binary heap.**\n",
    "\n",
    "## Heap Operations\n",
    "\n",
    "### 1. Heapify\n",
    "Heapify is the process of creating a heap data structure from a binary tree. It is used to create a Min-Heap or a Max-Heap.\n",
    "\n",
    "1-Let the input array be:-\n",
    "  <img src='ArrayImage.png' alt='Array-Heap' width=400px height=400px/>\n",
    "2-Create a complete binary tree from the array.\n",
    "  <img src='Heap-Binary.png' alt='Binary-Heap' width=400px height=400px/>\n",
    "3-Start from the first index of non-leaf node whose index is given by n/2 - 1.\n",
    "  <img src='Heap-Binary-1.png' alt='Binary-Heap-1' width=400px height=400px/>\n",
    "4-Set current element i as largest.\n",
    "  \n",
    "5-The index of left child is given by 2i + 1 and the right child is given by 2i + 2.\n",
    "\n",
    "  If leftChild is greater than currentElement (i.e. element at ith index), set leftChildIndex as largest.\n",
    "  \n",
    "  If rightChild is greater than element in largest, set rightChildIndex as largest.\n",
    "  \n",
    "6-Swap largest with currentElement.\n",
    "  <img src='Heap-Binary-2.png' alt='Binary-Heap-2' width=400px height=400px/>\n",
    "7-Repeat steps 3-7 until the subtrees are also heapified.\n",
    "\n",
    "**Algorithm**\n",
    "\n",
    "Heapify(array, size, i)\n",
    "\n",
    "  set i as largest\n",
    "  \n",
    "  leftChild = 2i + 1\n",
    "  \n",
    "  rightChild = 2i + 2\n",
    "  \n",
    "  if leftChild > array[largest]\n",
    "  \n",
    "    set leftChildIndex as largest\n",
    "    \n",
    "  if rightChild > array[largest]\n",
    "  \n",
    "    set rightChildIndex as largest\n",
    "\n",
    "  swap array[i] and array[largest]"
   ]
  },
  {
   "cell_type": "code",
   "execution_count": 5,
   "id": "47420aa3",
   "metadata": {},
   "outputs": [],
   "source": [
    "def Heapify(arr,size,i):\n",
    "    largest=i\n",
    "    leftChild=2*i+1\n",
    "    rightChild=2*i+2\n",
    "    \n",
    "    if leftChild<size and arr[leftChild]>arr[i]:\n",
    "        largest=leftChild\n",
    "    if rightChild<size and arr[rightChild]>arr[i]:\n",
    "        largest=rightChild\n",
    "        \n",
    "    if not(largest==i):\n",
    "        arr[i],arr[largest]=arr[largest],arr[i]\n",
    "        Heapify(arr,size,largest)"
   ]
  },
  {
   "cell_type": "code",
   "execution_count": 7,
   "id": "e67417c9",
   "metadata": {},
   "outputs": [],
   "source": [
    "arr=[3,9,2,1,4,5]\n",
    "Heapify(arr,6,2)"
   ]
  },
  {
   "cell_type": "code",
   "execution_count": 8,
   "id": "8eed4899",
   "metadata": {},
   "outputs": [
    {
     "data": {
      "text/plain": [
       "[3, 9, 5, 1, 4, 2]"
      ]
     },
     "execution_count": 8,
     "metadata": {},
     "output_type": "execute_result"
    }
   ],
   "source": [
    "arr"
   ]
  },
  {
   "cell_type": "code",
   "execution_count": 9,
   "id": "1fdbc958",
   "metadata": {},
   "outputs": [],
   "source": [
    "def insert(array, newNum):\n",
    "    size = len(array)\n",
    "    if size == 0:\n",
    "        array.append(newNum)\n",
    "    else:\n",
    "        array.append(newNum);\n",
    "        for i in range((size//2)-1, -1, -1):\n",
    "            Heapify(array, size, i)"
   ]
  },
  {
   "cell_type": "code",
   "execution_count": null,
   "id": "61d49c28",
   "metadata": {},
   "outputs": [],
   "source": []
  },
  {
   "cell_type": "code",
   "execution_count": 10,
   "id": "1b4a2559",
   "metadata": {},
   "outputs": [
    {
     "name": "stdout",
     "output_type": "stream",
     "text": [
      "[9, 4, 2, 1, 3, 5]\n"
     ]
    }
   ],
   "source": [
    "arr=[]\n",
    "insert(arr,3)\n",
    "insert(arr,9)\n",
    "insert(arr,2)\n",
    "insert(arr,1)\n",
    "insert(arr,4)\n",
    "insert(arr,5)\n",
    "print(arr)"
   ]
  },
  {
   "cell_type": "code",
   "execution_count": null,
   "id": "9a48d1f6",
   "metadata": {},
   "outputs": [],
   "source": []
  }
 ],
 "metadata": {
  "kernelspec": {
   "display_name": "Python 3",
   "language": "python",
   "name": "python3"
  },
  "language_info": {
   "codemirror_mode": {
    "name": "ipython",
    "version": 3
   },
   "file_extension": ".py",
   "mimetype": "text/x-python",
   "name": "python",
   "nbconvert_exporter": "python",
   "pygments_lexer": "ipython3",
   "version": "3.8.8"
  }
 },
 "nbformat": 4,
 "nbformat_minor": 5
}
