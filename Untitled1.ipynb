{
 "cells": [
  {
   "cell_type": "code",
   "execution_count": 20,
   "id": "e4677b96",
   "metadata": {},
   "outputs": [],
   "source": [
    "#Function to convert numbers into string\n",
    "def convert_to_string(num):\n",
    "    l=len(num)\n",
    "    if(l==0):\n",
    "        return ''\n",
    "    if(l>4):\n",
    "        print(\"Not Supported!\")\n",
    "        return\n",
    "    single_digits=['zero','one','two','three','four','five','six','seven','eight','nine']\n",
    "    two_digits=['','ten','eleven','twelve','thirteen','fourteen','fifteen','sixteen','seventeen','eighteen','nineteen']\n",
    "    tens=['','','twenty','thirty','fourty','fifty','sixty','seventy','eighty','ninety']\n",
    "    powers=['hundred','thousand']\n",
    "    if(l==1):\n",
    "        res=single_digits[ord(num[0])-48]\n",
    "        print(res)\n",
    "        return\n",
    "    x=0\n",
    "    while(x<len(num)):\n",
    "        if(l>=3):\n",
    "            if(ord(num[x])-48)!=0:\n",
    "                print(single_digits[ord(num[0])-48],end=' ')\n",
    "                print(powers[l-3],end=' ')\n",
    "            l-=1\n",
    "        else:\n",
    "            if(ord(num[x])-48)==1:\n",
    "                s=(ord(num[x])-48)+(ord(num[x+1])-48)\n",
    "                print(two_digits[s],end=' ')\n",
    "                return\n",
    "            elif(ord(num[x])-48==2) and (ord(num[x+1])-48)==0:\n",
    "                print('twenty')\n",
    "                return\n",
    "            else:\n",
    "                i=ord(num[x])-48\n",
    "                if(i>1):\n",
    "                    print(tens[i],end=' ')\n",
    "                else:\n",
    "                    print(' ',end=' ')\n",
    "                x+=1\n",
    "                if(ord(num[x])!=0):\n",
    "                    print(single_digits[ord(num[x])-48],end=' ')\n",
    "        x+=1\n",
    "            \n",
    "            "
   ]
  },
  {
   "cell_type": "code",
   "execution_count": 21,
   "id": "abb2afa3",
   "metadata": {},
   "outputs": [
    {
     "name": "stdout",
     "output_type": "stream",
     "text": [
      "nine\n"
     ]
    }
   ],
   "source": [
    "convert_to_string('9')"
   ]
  },
  {
   "cell_type": "code",
   "execution_count": 22,
   "id": "fd7de49d",
   "metadata": {},
   "outputs": [
    {
     "name": "stdout",
     "output_type": "stream",
     "text": [
      "seventeen "
     ]
    }
   ],
   "source": [
    "convert_to_string('17')"
   ]
  },
  {
   "cell_type": "code",
   "execution_count": 24,
   "id": "e4d1edc7",
   "metadata": {},
   "outputs": [
    {
     "name": "stdout",
     "output_type": "stream",
     "text": [
      "two hundred   zero "
     ]
    }
   ],
   "source": [
    "convert_to_string('200')"
   ]
  },
  {
   "cell_type": "code",
   "execution_count": null,
   "id": "15fad5af",
   "metadata": {},
   "outputs": [],
   "source": []
  }
 ],
 "metadata": {
  "kernelspec": {
   "display_name": "Python 3",
   "language": "python",
   "name": "python3"
  },
  "language_info": {
   "codemirror_mode": {
    "name": "ipython",
    "version": 3
   },
   "file_extension": ".py",
   "mimetype": "text/x-python",
   "name": "python",
   "nbconvert_exporter": "python",
   "pygments_lexer": "ipython3",
   "version": "3.8.8"
  }
 },
 "nbformat": 4,
 "nbformat_minor": 5
}
