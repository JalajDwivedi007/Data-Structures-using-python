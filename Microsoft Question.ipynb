{
 "cells": [
  {
   "cell_type": "code",
   "execution_count": 6,
   "id": "8b3fc6a7",
   "metadata": {},
   "outputs": [],
   "source": [
    "def solution(R):\n",
    "    m=len(R)\n",
    "    n=len(R[0])\n",
    "    count=0\n",
    "    visited=[]\n",
    "    if R[0][0]=='.':\n",
    "        count=1\n",
    "    for i in range(1,m):\n",
    "        for j in range(1,n):\n",
    "            pos=str(i)+','+str(j)\n",
    "            if pos not in visited:\n",
    "                if R[i][j]=='.':\n",
    "                    count+=1\n",
    "                visited.append(pos)\n",
    "    return count"
   ]
  },
  {
   "cell_type": "code",
   "execution_count": 7,
   "id": "dfc9e964",
   "metadata": {},
   "outputs": [
    {
     "data": {
      "text/plain": [
       "8"
      ]
     },
     "execution_count": 7,
     "metadata": {},
     "output_type": "execute_result"
    }
   ],
   "source": [
    "solution(['...X..','....XX','..X...'])"
   ]
  },
  {
   "cell_type": "code",
   "execution_count": 2,
   "id": "19792169",
   "metadata": {},
   "outputs": [],
   "source": [
    "def gridTraversalBlockF(arr):\n",
    "    m=len(arr)\n",
    "    n=len(arr[0])\n",
    "    return gridTraversalBlockHelper(arr,0,0,m,n)\n",
    "def gridTraversalBlockHelper(arr,i,j,m,n):\n",
    "    if(i==m or j==n):         #If we reach the max depth and width\n",
    "        return 0\n",
    "    if(arr[i][j]=='X'):\n",
    "        return 0\n",
    "    \n",
    "    if(i==m-1 and j==n-1):    #Base case\n",
    "        return 1\n",
    "    \n",
    "    return (gridTraversalBlockHelper(arr,i+1,j,m,n) \n",
    "             + gridTraversalBlockHelper(arr,i,j+1,m,n) \n",
    "             + gridTraversalBlockHelper(arr,i-1,j,m,n)\n",
    "             + gridTraversalBlockHelper(arr,i,j-1,m,n))"
   ]
  },
  {
   "cell_type": "code",
   "execution_count": 3,
   "id": "e2afd53c",
   "metadata": {},
   "outputs": [
    {
     "ename": "RecursionError",
     "evalue": "maximum recursion depth exceeded in comparison",
     "output_type": "error",
     "traceback": [
      "\u001b[1;31m---------------------------------------------------------------------------\u001b[0m",
      "\u001b[1;31mRecursionError\u001b[0m                            Traceback (most recent call last)",
      "\u001b[1;32m<ipython-input-3-821ec2258e42>\u001b[0m in \u001b[0;36m<module>\u001b[1;34m\u001b[0m\n\u001b[1;32m----> 1\u001b[1;33m \u001b[0mgridTraversalBlockF\u001b[0m\u001b[1;33m(\u001b[0m\u001b[1;33m[\u001b[0m\u001b[1;34m'...X..'\u001b[0m\u001b[1;33m,\u001b[0m\u001b[1;34m'....XX'\u001b[0m\u001b[1;33m,\u001b[0m\u001b[1;34m'..X...'\u001b[0m\u001b[1;33m]\u001b[0m\u001b[1;33m)\u001b[0m\u001b[1;33m\u001b[0m\u001b[1;33m\u001b[0m\u001b[0m\n\u001b[0m",
      "\u001b[1;32m<ipython-input-2-e38716217fec>\u001b[0m in \u001b[0;36mgridTraversalBlockF\u001b[1;34m(arr)\u001b[0m\n\u001b[0;32m      2\u001b[0m     \u001b[0mm\u001b[0m\u001b[1;33m=\u001b[0m\u001b[0mlen\u001b[0m\u001b[1;33m(\u001b[0m\u001b[0marr\u001b[0m\u001b[1;33m)\u001b[0m\u001b[1;33m\u001b[0m\u001b[1;33m\u001b[0m\u001b[0m\n\u001b[0;32m      3\u001b[0m     \u001b[0mn\u001b[0m\u001b[1;33m=\u001b[0m\u001b[0mlen\u001b[0m\u001b[1;33m(\u001b[0m\u001b[0marr\u001b[0m\u001b[1;33m[\u001b[0m\u001b[1;36m0\u001b[0m\u001b[1;33m]\u001b[0m\u001b[1;33m)\u001b[0m\u001b[1;33m\u001b[0m\u001b[1;33m\u001b[0m\u001b[0m\n\u001b[1;32m----> 4\u001b[1;33m     \u001b[1;32mreturn\u001b[0m \u001b[0mgridTraversalBlockHelper\u001b[0m\u001b[1;33m(\u001b[0m\u001b[0marr\u001b[0m\u001b[1;33m,\u001b[0m\u001b[1;36m0\u001b[0m\u001b[1;33m,\u001b[0m\u001b[1;36m0\u001b[0m\u001b[1;33m,\u001b[0m\u001b[0mm\u001b[0m\u001b[1;33m,\u001b[0m\u001b[0mn\u001b[0m\u001b[1;33m)\u001b[0m\u001b[1;33m\u001b[0m\u001b[1;33m\u001b[0m\u001b[0m\n\u001b[0m\u001b[0;32m      5\u001b[0m \u001b[1;32mdef\u001b[0m \u001b[0mgridTraversalBlockHelper\u001b[0m\u001b[1;33m(\u001b[0m\u001b[0marr\u001b[0m\u001b[1;33m,\u001b[0m\u001b[0mi\u001b[0m\u001b[1;33m,\u001b[0m\u001b[0mj\u001b[0m\u001b[1;33m,\u001b[0m\u001b[0mm\u001b[0m\u001b[1;33m,\u001b[0m\u001b[0mn\u001b[0m\u001b[1;33m)\u001b[0m\u001b[1;33m:\u001b[0m\u001b[1;33m\u001b[0m\u001b[1;33m\u001b[0m\u001b[0m\n\u001b[0;32m      6\u001b[0m     \u001b[1;32mif\u001b[0m\u001b[1;33m(\u001b[0m\u001b[0mi\u001b[0m\u001b[1;33m==\u001b[0m\u001b[0mm\u001b[0m \u001b[1;32mor\u001b[0m \u001b[0mj\u001b[0m\u001b[1;33m==\u001b[0m\u001b[0mn\u001b[0m\u001b[1;33m)\u001b[0m\u001b[1;33m:\u001b[0m         \u001b[1;31m#If we reach the max depth and width\u001b[0m\u001b[1;33m\u001b[0m\u001b[1;33m\u001b[0m\u001b[0m\n",
      "\u001b[1;32m<ipython-input-2-e38716217fec>\u001b[0m in \u001b[0;36mgridTraversalBlockHelper\u001b[1;34m(arr, i, j, m, n)\u001b[0m\n\u001b[0;32m     12\u001b[0m         \u001b[1;32mreturn\u001b[0m \u001b[1;36m1\u001b[0m\u001b[1;33m\u001b[0m\u001b[1;33m\u001b[0m\u001b[0m\n\u001b[0;32m     13\u001b[0m \u001b[1;33m\u001b[0m\u001b[0m\n\u001b[1;32m---> 14\u001b[1;33m     return (gridTraversalBlockHelper(arr,i+1,j,m,n) \n\u001b[0m\u001b[0;32m     15\u001b[0m              \u001b[1;33m+\u001b[0m \u001b[0mgridTraversalBlockHelper\u001b[0m\u001b[1;33m(\u001b[0m\u001b[0marr\u001b[0m\u001b[1;33m,\u001b[0m\u001b[0mi\u001b[0m\u001b[1;33m,\u001b[0m\u001b[0mj\u001b[0m\u001b[1;33m+\u001b[0m\u001b[1;36m1\u001b[0m\u001b[1;33m,\u001b[0m\u001b[0mm\u001b[0m\u001b[1;33m,\u001b[0m\u001b[0mn\u001b[0m\u001b[1;33m)\u001b[0m\u001b[1;33m\u001b[0m\u001b[1;33m\u001b[0m\u001b[0m\n\u001b[0;32m     16\u001b[0m              \u001b[1;33m+\u001b[0m \u001b[0mgridTraversalBlockHelper\u001b[0m\u001b[1;33m(\u001b[0m\u001b[0marr\u001b[0m\u001b[1;33m,\u001b[0m\u001b[0mi\u001b[0m\u001b[1;33m-\u001b[0m\u001b[1;36m1\u001b[0m\u001b[1;33m,\u001b[0m\u001b[0mj\u001b[0m\u001b[1;33m,\u001b[0m\u001b[0mm\u001b[0m\u001b[1;33m,\u001b[0m\u001b[0mn\u001b[0m\u001b[1;33m)\u001b[0m\u001b[1;33m\u001b[0m\u001b[1;33m\u001b[0m\u001b[0m\n",
      "\u001b[1;32m<ipython-input-2-e38716217fec>\u001b[0m in \u001b[0;36mgridTraversalBlockHelper\u001b[1;34m(arr, i, j, m, n)\u001b[0m\n\u001b[0;32m     12\u001b[0m         \u001b[1;32mreturn\u001b[0m \u001b[1;36m1\u001b[0m\u001b[1;33m\u001b[0m\u001b[1;33m\u001b[0m\u001b[0m\n\u001b[0;32m     13\u001b[0m \u001b[1;33m\u001b[0m\u001b[0m\n\u001b[1;32m---> 14\u001b[1;33m     return (gridTraversalBlockHelper(arr,i+1,j,m,n) \n\u001b[0m\u001b[0;32m     15\u001b[0m              \u001b[1;33m+\u001b[0m \u001b[0mgridTraversalBlockHelper\u001b[0m\u001b[1;33m(\u001b[0m\u001b[0marr\u001b[0m\u001b[1;33m,\u001b[0m\u001b[0mi\u001b[0m\u001b[1;33m,\u001b[0m\u001b[0mj\u001b[0m\u001b[1;33m+\u001b[0m\u001b[1;36m1\u001b[0m\u001b[1;33m,\u001b[0m\u001b[0mm\u001b[0m\u001b[1;33m,\u001b[0m\u001b[0mn\u001b[0m\u001b[1;33m)\u001b[0m\u001b[1;33m\u001b[0m\u001b[1;33m\u001b[0m\u001b[0m\n\u001b[0;32m     16\u001b[0m              \u001b[1;33m+\u001b[0m \u001b[0mgridTraversalBlockHelper\u001b[0m\u001b[1;33m(\u001b[0m\u001b[0marr\u001b[0m\u001b[1;33m,\u001b[0m\u001b[0mi\u001b[0m\u001b[1;33m-\u001b[0m\u001b[1;36m1\u001b[0m\u001b[1;33m,\u001b[0m\u001b[0mj\u001b[0m\u001b[1;33m,\u001b[0m\u001b[0mm\u001b[0m\u001b[1;33m,\u001b[0m\u001b[0mn\u001b[0m\u001b[1;33m)\u001b[0m\u001b[1;33m\u001b[0m\u001b[1;33m\u001b[0m\u001b[0m\n",
      "\u001b[1;32m<ipython-input-2-e38716217fec>\u001b[0m in \u001b[0;36mgridTraversalBlockHelper\u001b[1;34m(arr, i, j, m, n)\u001b[0m\n\u001b[0;32m     13\u001b[0m \u001b[1;33m\u001b[0m\u001b[0m\n\u001b[0;32m     14\u001b[0m     return (gridTraversalBlockHelper(arr,i+1,j,m,n) \n\u001b[1;32m---> 15\u001b[1;33m              \u001b[1;33m+\u001b[0m \u001b[0mgridTraversalBlockHelper\u001b[0m\u001b[1;33m(\u001b[0m\u001b[0marr\u001b[0m\u001b[1;33m,\u001b[0m\u001b[0mi\u001b[0m\u001b[1;33m,\u001b[0m\u001b[0mj\u001b[0m\u001b[1;33m+\u001b[0m\u001b[1;36m1\u001b[0m\u001b[1;33m,\u001b[0m\u001b[0mm\u001b[0m\u001b[1;33m,\u001b[0m\u001b[0mn\u001b[0m\u001b[1;33m)\u001b[0m\u001b[1;33m\u001b[0m\u001b[1;33m\u001b[0m\u001b[0m\n\u001b[0m\u001b[0;32m     16\u001b[0m              \u001b[1;33m+\u001b[0m \u001b[0mgridTraversalBlockHelper\u001b[0m\u001b[1;33m(\u001b[0m\u001b[0marr\u001b[0m\u001b[1;33m,\u001b[0m\u001b[0mi\u001b[0m\u001b[1;33m-\u001b[0m\u001b[1;36m1\u001b[0m\u001b[1;33m,\u001b[0m\u001b[0mj\u001b[0m\u001b[1;33m,\u001b[0m\u001b[0mm\u001b[0m\u001b[1;33m,\u001b[0m\u001b[0mn\u001b[0m\u001b[1;33m)\u001b[0m\u001b[1;33m\u001b[0m\u001b[1;33m\u001b[0m\u001b[0m\n\u001b[0;32m     17\u001b[0m              + gridTraversalBlockHelper(arr,i,j-1,m,n))\n",
      "\u001b[1;32m<ipython-input-2-e38716217fec>\u001b[0m in \u001b[0;36mgridTraversalBlockHelper\u001b[1;34m(arr, i, j, m, n)\u001b[0m\n\u001b[0;32m     14\u001b[0m     return (gridTraversalBlockHelper(arr,i+1,j,m,n) \n\u001b[0;32m     15\u001b[0m              \u001b[1;33m+\u001b[0m \u001b[0mgridTraversalBlockHelper\u001b[0m\u001b[1;33m(\u001b[0m\u001b[0marr\u001b[0m\u001b[1;33m,\u001b[0m\u001b[0mi\u001b[0m\u001b[1;33m,\u001b[0m\u001b[0mj\u001b[0m\u001b[1;33m+\u001b[0m\u001b[1;36m1\u001b[0m\u001b[1;33m,\u001b[0m\u001b[0mm\u001b[0m\u001b[1;33m,\u001b[0m\u001b[0mn\u001b[0m\u001b[1;33m)\u001b[0m\u001b[1;33m\u001b[0m\u001b[1;33m\u001b[0m\u001b[0m\n\u001b[1;32m---> 16\u001b[1;33m              \u001b[1;33m+\u001b[0m \u001b[0mgridTraversalBlockHelper\u001b[0m\u001b[1;33m(\u001b[0m\u001b[0marr\u001b[0m\u001b[1;33m,\u001b[0m\u001b[0mi\u001b[0m\u001b[1;33m-\u001b[0m\u001b[1;36m1\u001b[0m\u001b[1;33m,\u001b[0m\u001b[0mj\u001b[0m\u001b[1;33m,\u001b[0m\u001b[0mm\u001b[0m\u001b[1;33m,\u001b[0m\u001b[0mn\u001b[0m\u001b[1;33m)\u001b[0m\u001b[1;33m\u001b[0m\u001b[1;33m\u001b[0m\u001b[0m\n\u001b[0m\u001b[0;32m     17\u001b[0m              + gridTraversalBlockHelper(arr,i,j-1,m,n))\n",
      "\u001b[1;32m<ipython-input-2-e38716217fec>\u001b[0m in \u001b[0;36mgridTraversalBlockHelper\u001b[1;34m(arr, i, j, m, n)\u001b[0m\n\u001b[0;32m     12\u001b[0m         \u001b[1;32mreturn\u001b[0m \u001b[1;36m1\u001b[0m\u001b[1;33m\u001b[0m\u001b[1;33m\u001b[0m\u001b[0m\n\u001b[0;32m     13\u001b[0m \u001b[1;33m\u001b[0m\u001b[0m\n\u001b[1;32m---> 14\u001b[1;33m     return (gridTraversalBlockHelper(arr,i+1,j,m,n) \n\u001b[0m\u001b[0;32m     15\u001b[0m              \u001b[1;33m+\u001b[0m \u001b[0mgridTraversalBlockHelper\u001b[0m\u001b[1;33m(\u001b[0m\u001b[0marr\u001b[0m\u001b[1;33m,\u001b[0m\u001b[0mi\u001b[0m\u001b[1;33m,\u001b[0m\u001b[0mj\u001b[0m\u001b[1;33m+\u001b[0m\u001b[1;36m1\u001b[0m\u001b[1;33m,\u001b[0m\u001b[0mm\u001b[0m\u001b[1;33m,\u001b[0m\u001b[0mn\u001b[0m\u001b[1;33m)\u001b[0m\u001b[1;33m\u001b[0m\u001b[1;33m\u001b[0m\u001b[0m\n\u001b[0;32m     16\u001b[0m              \u001b[1;33m+\u001b[0m \u001b[0mgridTraversalBlockHelper\u001b[0m\u001b[1;33m(\u001b[0m\u001b[0marr\u001b[0m\u001b[1;33m,\u001b[0m\u001b[0mi\u001b[0m\u001b[1;33m-\u001b[0m\u001b[1;36m1\u001b[0m\u001b[1;33m,\u001b[0m\u001b[0mj\u001b[0m\u001b[1;33m,\u001b[0m\u001b[0mm\u001b[0m\u001b[1;33m,\u001b[0m\u001b[0mn\u001b[0m\u001b[1;33m)\u001b[0m\u001b[1;33m\u001b[0m\u001b[1;33m\u001b[0m\u001b[0m\n",
      "... last 2 frames repeated, from the frame below ...\n",
      "\u001b[1;32m<ipython-input-2-e38716217fec>\u001b[0m in \u001b[0;36mgridTraversalBlockHelper\u001b[1;34m(arr, i, j, m, n)\u001b[0m\n\u001b[0;32m     14\u001b[0m     return (gridTraversalBlockHelper(arr,i+1,j,m,n) \n\u001b[0;32m     15\u001b[0m              \u001b[1;33m+\u001b[0m \u001b[0mgridTraversalBlockHelper\u001b[0m\u001b[1;33m(\u001b[0m\u001b[0marr\u001b[0m\u001b[1;33m,\u001b[0m\u001b[0mi\u001b[0m\u001b[1;33m,\u001b[0m\u001b[0mj\u001b[0m\u001b[1;33m+\u001b[0m\u001b[1;36m1\u001b[0m\u001b[1;33m,\u001b[0m\u001b[0mm\u001b[0m\u001b[1;33m,\u001b[0m\u001b[0mn\u001b[0m\u001b[1;33m)\u001b[0m\u001b[1;33m\u001b[0m\u001b[1;33m\u001b[0m\u001b[0m\n\u001b[1;32m---> 16\u001b[1;33m              \u001b[1;33m+\u001b[0m \u001b[0mgridTraversalBlockHelper\u001b[0m\u001b[1;33m(\u001b[0m\u001b[0marr\u001b[0m\u001b[1;33m,\u001b[0m\u001b[0mi\u001b[0m\u001b[1;33m-\u001b[0m\u001b[1;36m1\u001b[0m\u001b[1;33m,\u001b[0m\u001b[0mj\u001b[0m\u001b[1;33m,\u001b[0m\u001b[0mm\u001b[0m\u001b[1;33m,\u001b[0m\u001b[0mn\u001b[0m\u001b[1;33m)\u001b[0m\u001b[1;33m\u001b[0m\u001b[1;33m\u001b[0m\u001b[0m\n\u001b[0m\u001b[0;32m     17\u001b[0m              + gridTraversalBlockHelper(arr,i,j-1,m,n))\n",
      "\u001b[1;31mRecursionError\u001b[0m: maximum recursion depth exceeded in comparison"
     ]
    }
   ],
   "source": [
    "gridTraversalBlockF(['...X..','....XX','..X...'])"
   ]
  },
  {
   "cell_type": "markdown",
   "id": "7cc3c375",
   "metadata": {},
   "source": [
    "## Grid Traversal Problem"
   ]
  },
  {
   "cell_type": "code",
   "execution_count": 170,
   "id": "dc45710a",
   "metadata": {},
   "outputs": [],
   "source": [
    "import numpy as np\n",
    "def solution(arr):\n",
    "    step=0\n",
    "    step1=0\n",
    "    visited=[]\n",
    "    boolArray=[[False]*(len(arr[0]))]*len(arr)\n",
    "    for i in range(len(arr)):\n",
    "        for j in range(len(arr[0])):\n",
    "            if explore(arr,i,j,visited,boolArray)==True:\n",
    "                step+=1\n",
    "            else:\n",
    "                step1+=1\n",
    "    print(step1)\n",
    "    print(step)\n",
    "    boolArray=np.array(boolArray)\n",
    "    print(boolArray)\n",
    "    step2=step-step1\n",
    "    return step"
   ]
  },
  {
   "cell_type": "code",
   "execution_count": 194,
   "id": "051c6907",
   "metadata": {},
   "outputs": [],
   "source": [
    "def explore(arr,r,c,visited,boolArray):\n",
    "    rowInBound= 0<=r and r<len(arr)-1\n",
    "    colInBound= 0<=c and c<len(arr[0])-1\n",
    "    \n",
    "    if(not(rowInBound) or not(colInBound)):\n",
    "        return False\n",
    "    pos=str(r)+','+str(c)\n",
    "    if pos in visited:\n",
    "        return False\n",
    "    visited.append(pos)\n",
    "    if(arr[r][c]=='X'):\n",
    "        boolArray[r][c]=False\n",
    "        return False\n",
    "    if(arr[r][c]=='.'):\n",
    "        boolArray[r][c]=True\n",
    "        return True\n",
    "    if(arr[r+1][c]=='X'):\n",
    "        explore(arr,r,c-1,visited,boolArray)\n",
    "    if(arr[r][c+1]=='X'):\n",
    "        explore(arr,r+1,c,visited,boolArray)\n",
    "    if(arr[r-1][c]=='X'):\n",
    "        explore(arr,r,c+1,visited,boolArray)\n",
    "    if(arr[r][c-1]=='X'):\n",
    "        explore(arr,r-1,c,visited,boolArray)\n",
    "    return False\n",
    "    "
   ]
  },
  {
   "cell_type": "code",
   "execution_count": 195,
   "id": "3de1c69b",
   "metadata": {},
   "outputs": [
    {
     "name": "stdout",
     "output_type": "stream",
     "text": [
      "['...X..' '....XX' '..X...']\n",
      "10\n",
      "8\n",
      "[[ True  True  True  True False False]\n",
      " [ True  True  True  True False False]\n",
      " [ True  True  True  True False False]]\n"
     ]
    },
    {
     "data": {
      "text/plain": [
       "8"
      ]
     },
     "execution_count": 195,
     "metadata": {},
     "output_type": "execute_result"
    }
   ],
   "source": [
    "print(np.array(['...X..','....XX','..X...']))\n",
    "solution(['...X..','....XX','..X...'])"
   ]
  },
  {
   "cell_type": "code",
   "execution_count": 196,
   "id": "3609ec6b",
   "metadata": {},
   "outputs": [
    {
     "name": "stdout",
     "output_type": "stream",
     "text": [
      "13\n",
      "15\n",
      "[[ True  True  True  True  True False False]\n",
      " [ True  True  True  True  True False False]\n",
      " [ True  True  True  True  True False False]\n",
      " [ True  True  True  True  True False False]]\n"
     ]
    },
    {
     "data": {
      "text/plain": [
       "15"
      ]
     },
     "execution_count": 196,
     "metadata": {},
     "output_type": "execute_result"
    }
   ],
   "source": [
    "solution(['....X..','X......','.....X.','.......'])"
   ]
  },
  {
   "cell_type": "code",
   "execution_count": 197,
   "id": "e1c95bbc",
   "metadata": {},
   "outputs": [
    {
     "name": "stdout",
     "output_type": "stream",
     "text": [
      "11\n",
      "9\n",
      "[[False  True  True  True False]\n",
      " [False  True  True  True False]\n",
      " [False  True  True  True False]\n",
      " [False  True  True  True False]]\n"
     ]
    },
    {
     "data": {
      "text/plain": [
       "9"
      ]
     },
     "execution_count": 197,
     "metadata": {},
     "output_type": "execute_result"
    }
   ],
   "source": [
    "solution(['...X.','.X..X','X...X','..X..'])"
   ]
  },
  {
   "cell_type": "code",
   "execution_count": 198,
   "id": "cc3d9182",
   "metadata": {},
   "outputs": [
    {
     "name": "stdout",
     "output_type": "stream",
     "text": [
      "1\n",
      "0\n",
      "[[False]]\n"
     ]
    },
    {
     "data": {
      "text/plain": [
       "0"
      ]
     },
     "execution_count": 198,
     "metadata": {},
     "output_type": "execute_result"
    }
   ],
   "source": [
    "solution(['.'])"
   ]
  },
  {
   "cell_type": "code",
   "execution_count": null,
   "id": "47aa7067",
   "metadata": {},
   "outputs": [],
   "source": []
  },
  {
   "cell_type": "code",
   "execution_count": null,
   "id": "707c4790",
   "metadata": {},
   "outputs": [],
   "source": []
  }
 ],
 "metadata": {
  "kernelspec": {
   "display_name": "Python 3",
   "language": "python",
   "name": "python3"
  },
  "language_info": {
   "codemirror_mode": {
    "name": "ipython",
    "version": 3
   },
   "file_extension": ".py",
   "mimetype": "text/x-python",
   "name": "python",
   "nbconvert_exporter": "python",
   "pygments_lexer": "ipython3",
   "version": "3.8.8"
  }
 },
 "nbformat": 4,
 "nbformat_minor": 5
}
