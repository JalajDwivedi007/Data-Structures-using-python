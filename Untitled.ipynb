{
 "cells": [
  {
   "cell_type": "code",
   "execution_count": 17,
   "id": "f7a75ac6",
   "metadata": {},
   "outputs": [],
   "source": [
    "class Solution:\n",
    "    def explore(self,grid,i,j,visited):\n",
    "        rowInBound= 0 <= i and i< len(grid)\n",
    "        colInBound= 0 <= j and j< len(grid[0])\n",
    "        if(not(rowInBound) or not(colInBound)):\n",
    "            return False\n",
    "        \n",
    "        \n",
    "        if(grid[i][j]=='0'):\n",
    "            return False\n",
    "        \n",
    "        pos=str(i)+','+str(j)\n",
    "        if pos in visited:\n",
    "            return False\n",
    "        \n",
    "        visited.append(pos)\n",
    "        \n",
    "        self.explore(grid,i+1,j,visited)\n",
    "        self.explore(grid,i-1,j,visited)\n",
    "        self.explore(grid,i,j+1,visited)\n",
    "        self.explore(grid,i,j-1,visited)\n",
    "        \n",
    "        return True\n",
    "    def numIslands(self, grid):\n",
    "        m=len(grid)\n",
    "        n=len(grid[0])\n",
    "        count=0\n",
    "        visited=[]\n",
    "        for i in range(m):\n",
    "            for j in range(n):\n",
    "                if self.explore(grid,i,j,visited)==True:\n",
    "                    count+=1\n",
    "        return count"
   ]
  },
  {
   "cell_type": "code",
   "execution_count": 18,
   "id": "99f4281a",
   "metadata": {},
   "outputs": [],
   "source": [
    "S=Solution()"
   ]
  },
  {
   "cell_type": "code",
   "execution_count": 19,
   "id": "0118b125",
   "metadata": {},
   "outputs": [],
   "source": [
    "grid = [\n",
    "  [\"1\",\"1\",\"1\",\"1\",\"0\"],\n",
    "  [\"1\",\"1\",\"0\",\"1\",\"0\"],\n",
    "  [\"1\",\"1\",\"0\",\"0\",\"0\"],\n",
    "  [\"0\",\"0\",\"0\",\"0\",\"0\"]\n",
    "]"
   ]
  },
  {
   "cell_type": "code",
   "execution_count": 20,
   "id": "12b10978",
   "metadata": {},
   "outputs": [
    {
     "data": {
      "text/plain": [
       "1"
      ]
     },
     "execution_count": 20,
     "metadata": {},
     "output_type": "execute_result"
    }
   ],
   "source": [
    "S.numIslands(grid)"
   ]
  },
  {
   "cell_type": "code",
   "execution_count": null,
   "id": "f3fd9592",
   "metadata": {},
   "outputs": [],
   "source": [
    "def explore(grid):\n",
    "    visited=[]\n",
    "    \n",
    "    for i in range(len(grid)):\n",
    "        for j in range(len(grid[0])):\n",
    "            pos=str(i)+','+str[j]\n",
    "            visited.append(pos)\n",
    "            \n",
    "            queue=[[i,j]]\n",
    "            \n",
    "            while(len(queue)>0):\n",
    "                [row,col]=queue.pop(0)\n",
    "                \n",
    "                if(grid[row+1][col]=='1'):\n",
    "                    pos=str(row+1)+','+str[col]\n",
    "                    if pos not in visited:\n",
    "                        \n",
    "    \n",
    "        "
   ]
  },
  {
   "cell_type": "code",
   "execution_count": 5,
   "id": "4be92c04",
   "metadata": {},
   "outputs": [],
   "source": [
    "def sumGP(n):\n",
    "    if n==0:\n",
    "        return 0\n",
    "    return 2**n+sumGP(n-1)"
   ]
  },
  {
   "cell_type": "code",
   "execution_count": 6,
   "id": "9aa05b72",
   "metadata": {},
   "outputs": [
    {
     "data": {
      "text/plain": [
       "62"
      ]
     },
     "execution_count": 6,
     "metadata": {},
     "output_type": "execute_result"
    }
   ],
   "source": [
    "sumGP(5)"
   ]
  },
  {
   "cell_type": "code",
   "execution_count": null,
   "id": "1501a51b",
   "metadata": {},
   "outputs": [],
   "source": []
  }
 ],
 "metadata": {
  "kernelspec": {
   "display_name": "Python 3",
   "language": "python",
   "name": "python3"
  },
  "language_info": {
   "codemirror_mode": {
    "name": "ipython",
    "version": 3
   },
   "file_extension": ".py",
   "mimetype": "text/x-python",
   "name": "python",
   "nbconvert_exporter": "python",
   "pygments_lexer": "ipython3",
   "version": "3.8.8"
  }
 },
 "nbformat": 4,
 "nbformat_minor": 5
}
