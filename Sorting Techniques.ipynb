{
 "cells": [
  {
   "cell_type": "markdown",
   "id": "4074a741",
   "metadata": {},
   "source": [
    "# Bubble Sort\n",
    "Bubble Sort is the simplest sorting algorithm that works by repeatedly swapping the adjacent elements if they are in wrong order.\n",
    "\n",
    "**Worst and Average Case Time Complexity:** O(n*n). Worst case occurs when array is reverse sorted.\n",
    "\n",
    "**Best Case Time Complexity:** O(n). Best case occurs when array is already sorted.\n",
    "\n",
    "**Auxiliary Space**: O(1)"
   ]
  },
  {
   "cell_type": "code",
   "execution_count": 9,
   "id": "73c2ca62",
   "metadata": {},
   "outputs": [],
   "source": [
    "def bubbleSort(arr):\n",
    "    m=len(arr)\n",
    "    for i in range(m):\n",
    "        for j in range(0,m-i-1):\n",
    "            if(arr[j]>arr[j+1]):\n",
    "                temp=arr[j]\n",
    "                arr[j]=arr[j+1]\n",
    "                arr[j+1]=temp\n",
    "    return arr"
   ]
  },
  {
   "cell_type": "code",
   "execution_count": 10,
   "id": "b609fbf3",
   "metadata": {},
   "outputs": [
    {
     "data": {
      "text/plain": [
       "[1, 2, 4, 6, 7, 8, 9]"
      ]
     },
     "execution_count": 10,
     "metadata": {},
     "output_type": "execute_result"
    }
   ],
   "source": [
    "bubbleSort([9,4,2,8,6,7,1])"
   ]
  },
  {
   "cell_type": "markdown",
   "id": "5005077a",
   "metadata": {},
   "source": [
    "# Recursive Bubble Sort"
   ]
  },
  {
   "cell_type": "code",
   "execution_count": 15,
   "id": "ed891202",
   "metadata": {},
   "outputs": [],
   "source": [
    "def BubbleSortR(arr,n):\n",
    "    if n==0:\n",
    "        return 0\n",
    "    if n==1:\n",
    "        return arr\n",
    "    for i in range(n-1):\n",
    "        if(arr[i]>arr[i+1]):\n",
    "            arr[i],arr[i+1]=arr[i+1],arr[i]\n",
    "    return BubbleSortR(arr,n-1)"
   ]
  },
  {
   "cell_type": "code",
   "execution_count": 16,
   "id": "584dab50",
   "metadata": {},
   "outputs": [
    {
     "data": {
      "text/plain": [
       "[1, 2, 4, 6, 7, 8, 9]"
      ]
     },
     "execution_count": 16,
     "metadata": {},
     "output_type": "execute_result"
    }
   ],
   "source": [
    "arr=[9,4,2,8,6,7,1]\n",
    "n=len(arr)\n",
    "BubbleSortR(arr,n)"
   ]
  },
  {
   "cell_type": "markdown",
   "id": "419fd23d",
   "metadata": {},
   "source": [
    "# Insertion Sort\n",
    "Insertion sort is a simple sorting algorithm that works similar to the way you sort playing cards in your hands. The array is virtually split into a sorted and an unsorted part. Values from the unsorted part are picked and placed at the correct position in the sorted part.\n",
    "\n",
    "**Algorithm**\n",
    "\n",
    "To sort an array of size n in ascending order:\n",
    "\n",
    "1: Iterate from arr[1] to arr[n] over the array. \n",
    "\n",
    "2: Compare the current element (key) to its predecessor. \n",
    "\n",
    "3: If the key element is smaller than its predecessor, compare it to the elements before. Move the greater elements one position up to make space for the swapped element.\n",
    "\n",
    "**Time Complexity:** O(n<sup>2</sup>)\n",
    "\n",
    "**Auxiliary Space:** O(1)"
   ]
  },
  {
   "cell_type": "code",
   "execution_count": 21,
   "id": "4dfce14d",
   "metadata": {},
   "outputs": [],
   "source": [
    "def insertionSort(arr):\n",
    "    for i in range(len(arr)):\n",
    "        \n",
    "        key=arr[i]  #Assigning key\n",
    "        \n",
    "        j=i-1\n",
    "        while(j>=0 and key<arr[j]):\n",
    "            arr[j+1]=arr[j]\n",
    "            j-=1\n",
    "        arr[j+1]=key\n",
    "    return arr"
   ]
  },
  {
   "cell_type": "code",
   "execution_count": 22,
   "id": "4ce88d9f",
   "metadata": {},
   "outputs": [
    {
     "data": {
      "text/plain": [
       "[1, 2, 4, 6, 7, 8, 9]"
      ]
     },
     "execution_count": 22,
     "metadata": {},
     "output_type": "execute_result"
    }
   ],
   "source": [
    "insertionSort([9,4,2,8,6,7,1])"
   ]
  },
  {
   "cell_type": "markdown",
   "id": "3f633f29",
   "metadata": {},
   "source": [
    "# Selection Sort\n",
    "The selection sort algorithm sorts an array by repeatedly finding the minimum element (considering ascending order) from unsorted part and putting it at the beginning. The algorithm maintains two subarrays in a given array.\n",
    "\n",
    "1) The subarray which is already sorted.\n",
    "\n",
    "2) Remaining subarray which is unsorted.\n",
    "\n",
    "In every iteration of selection sort, the minimum element (considering ascending order) from the unsorted subarray is picked and moved to the sorted subarray.\n",
    "\n",
    "**Time Complexity:** O(n<sup>2</sup>) as there are two nested loops.\n",
    "\n",
    "**Auxiliary Space:** O(1) \n",
    "\n",
    "The good thing about selection sort is it never makes more than O(n) swaps and can be useful when memory write is a costly operation. "
   ]
  },
  {
   "cell_type": "code",
   "execution_count": 23,
   "id": "8c20e94a",
   "metadata": {},
   "outputs": [],
   "source": [
    "def selectionSort(arr):\n",
    "    for i in range(len(arr)):\n",
    "        \n",
    "        min_index=i\n",
    "        \n",
    "        for j in range(i+1,len(arr)):\n",
    "            if(arr[min_index]>arr[j]):\n",
    "                min_index=j\n",
    "        arr[i],arr[min_index]=arr[min_index],arr[i]\n",
    "        \n",
    "    return arr"
   ]
  },
  {
   "cell_type": "code",
   "execution_count": 24,
   "id": "eb2dc018",
   "metadata": {},
   "outputs": [
    {
     "data": {
      "text/plain": [
       "[1, 2, 4, 6, 7, 8, 9]"
      ]
     },
     "execution_count": 24,
     "metadata": {},
     "output_type": "execute_result"
    }
   ],
   "source": [
    "selectionSort([9,4,2,8,6,7,1])"
   ]
  },
  {
   "cell_type": "markdown",
   "id": "5dda65da",
   "metadata": {},
   "source": [
    "# Merge Sort\n",
    "Merge Sort is a Divide and Conquer algorithm. It divides the input array into two halves, calls itself for the two halves, and then merges the two sorted halves.\n",
    "\n",
    "MergeSort(arr[], l,  r)\n",
    "\n",
    "If r > l\n",
    "\n",
    "     1. Find the middle point to divide the array into two halves:\n",
    "     \n",
    "             middle m = l+ (r-l)/2\n",
    "             \n",
    "     2. Call mergeSort for first half:\n",
    "     \n",
    "             Call mergeSort(arr, l, m)\n",
    "             \n",
    "     3. Call mergeSort for second half:\n",
    "     \n",
    "             Call mergeSort(arr, m+1, r)\n",
    "             \n",
    "     4. Merge the two halves sorted in step 2 and 3:\n",
    "     \n",
    "             Call merge(arr, l, m, r)\n",
    "             \n",
    "**Time Complexity:** Sorting arrays on different machines. Merge Sort is a recursive algorithm and time complexity can be expressed as following recurrence relation.\n",
    "\n",
    "T(n) = 2T(n/2) + θ(n)\n",
    "\n",
    "**Auxiliary Space:** O(n)"
   ]
  },
  {
   "cell_type": "code",
   "execution_count": 7,
   "id": "b04a1c48",
   "metadata": {},
   "outputs": [],
   "source": [
    "def mergeSort(arr):\n",
    "    if(len(arr)>1):\n",
    "        \n",
    "        mid=len(arr)//2\n",
    "        \n",
    "        L=arr[:mid]\n",
    "        \n",
    "        R=arr[mid:]\n",
    "        \n",
    "        mergeSort(L)\n",
    "        \n",
    "        mergeSort(R)\n",
    "        \n",
    "        i=j=k=0\n",
    "        \n",
    "        while(i<len(L) and j<len(R)):\n",
    "            \n",
    "            if(L[i]<R[j]):\n",
    "                arr[k]=L[i]\n",
    "                i+=1\n",
    "                \n",
    "            else:\n",
    "                arr[k]=R[j]\n",
    "                j+=1\n",
    "                \n",
    "            k+=1\n",
    "            \n",
    "        while i<len(L):\n",
    "            arr[k]=L[i]\n",
    "            i+=1\n",
    "            k+=1\n",
    "        \n",
    "        \n",
    "        while j<len(R):\n",
    "            arr[k]=R[j]\n",
    "            j+=1\n",
    "            k+=1\n",
    "        \n",
    "            \n",
    "    return arr"
   ]
  },
  {
   "cell_type": "code",
   "execution_count": 33,
   "id": "76cfa526",
   "metadata": {},
   "outputs": [
    {
     "data": {
      "text/plain": [
       "[1, 2, 4, 6, 7, 8, 9]"
      ]
     },
     "execution_count": 33,
     "metadata": {},
     "output_type": "execute_result"
    }
   ],
   "source": [
    "mergeSort([9,4,2,8,6,7,1])"
   ]
  },
  {
   "cell_type": "markdown",
   "id": "1f158bc2",
   "metadata": {},
   "source": [
    "# Quick Sort\n",
    "Like Merge Sort, QuickSort is a Divide and Conquer algorithm. It picks an element as pivot and partitions the given array around the picked pivot. There are many different versions of quickSort that pick pivot in different ways. \n",
    "<ol>\n",
    "    <li>Always pick first element as pivot.</li>\n",
    "    <li>Always pick last element as pivot (implemented below)</li>\n",
    "    <li>Pick a random element as pivot.</li>\n",
    "    <li>Pick median as pivot.</li>\n",
    "</ol>\n",
    "\n",
    "**Pseudo Code for recursive QuickSort function :** \n",
    "\n",
    " \n",
    "/* low  --> Starting index,  high  --> Ending index */\n",
    "\n",
    "quickSort(arr[], low, high)\n",
    "\n",
    "{\n",
    "    if (low < high)\n",
    "    \n",
    "    {\n",
    "        /* pi is partitioning index, arr[pi] is now\n",
    "           at right place */\n",
    "           \n",
    "        pi = partition(arr, low, high);\n",
    "\n",
    "        quickSort(arr, low, pi - 1);  // Before pi\n",
    "        \n",
    "        quickSort(arr, pi + 1, high); // After pi\n",
    "        \n",
    "    }\n",
    "    \n",
    "}\n",
    "\n",
    "partition (arr[], low, high)\n",
    "{\n",
    "    // pivot (Element to be placed at right position)\n",
    "    \n",
    "    pivot = arr[high];  \n",
    " \n",
    "    i = (low - 1)  // Index of smaller element and indicates the \n",
    "                   // right position of pivot found so far\n",
    "\n",
    "    for (j = low; j <= high- 1; j++)\n",
    "    \n",
    "    {\n",
    "        // If current element is smaller than the pivot\n",
    "        \n",
    "        if (arr[j] < pivot)\n",
    "        \n",
    "        {\n",
    "            i++;    // increment index of smaller element\n",
    "            \n",
    "            swap arr[i] and arr[j]\n",
    "            \n",
    "        }\n",
    "        \n",
    "    }\n",
    "    \n",
    "    swap arr[i + 1] and arr[high])\n",
    "    \n",
    "    return (i + 1)\n",
    "\n",
    "}\n",
    "\n",
    "Time taken by QuickSort, in general, can be written as following. \n",
    "\n",
    " T(n) = T(k) + T(n-k-1) + \\theta(n)"
   ]
  },
  {
   "cell_type": "code",
   "execution_count": 2,
   "id": "f96ee2bf",
   "metadata": {},
   "outputs": [],
   "source": [
    "def quickSort(arr,start,end):\n",
    "    \n",
    "    if(start<end):\n",
    "        \n",
    "        p=partition(arr,start,end)\n",
    "        \n",
    "        quickSort(arr,start,p-1)\n",
    "        \n",
    "        quickSort(arr,p+1,end)\n",
    "    \n",
    "    return arr"
   ]
  },
  {
   "cell_type": "code",
   "execution_count": 3,
   "id": "16c69b9b",
   "metadata": {},
   "outputs": [],
   "source": [
    "def partition(arr,start,end):\n",
    "    \n",
    "    pivot_index=start\n",
    "    pivot=arr[pivot_index]\n",
    "    \n",
    "    while(start<end):\n",
    "        \n",
    "        while(start<len(arr) and arr[start]<=pivot):\n",
    "            start+=1\n",
    "            \n",
    "        while(arr[end]>pivot):\n",
    "            end-=1\n",
    "            \n",
    "        if(start<end):\n",
    "            arr[start],arr[end]=arr[end],arr[start]\n",
    "    \n",
    "    arr[pivot_index],arr[end]=arr[end],arr[pivot_index]\n",
    "    \n",
    "    return end"
   ]
  },
  {
   "cell_type": "code",
   "execution_count": 39,
   "id": "6aaa32d1",
   "metadata": {},
   "outputs": [
    {
     "data": {
      "text/plain": [
       "[1, 2, 4, 6, 7, 8, 9]"
      ]
     },
     "execution_count": 39,
     "metadata": {},
     "output_type": "execute_result"
    }
   ],
   "source": [
    "arr=[9,4,2,8,6,7,1]\n",
    "n=len(arr)\n",
    "quickSort(arr,0,n-1)"
   ]
  },
  {
   "cell_type": "markdown",
   "id": "7ac0b24f",
   "metadata": {},
   "source": [
    "# Count Sort\n",
    "Counting sort is a sorting algorithm that sorts the elements of an array by counting the number of occurrences of each unique element in the array. The count is stored in an auxiliary array and the sorting is done by mapping the count as an index of the auxiliary array.\n",
    "\n",
    "**Working of count sort**\n",
    "\n",
    "1-Find out the maximum element (let it be max) from the given array\n",
    "\n",
    "2-Initialize an array of length max+1 with all elements 0. This array is used for storing the count of the elements in the array.\n",
    "\n",
    "3-Store the count of each element at their respective index in count array\n",
    "\n",
    "For example: if the count of element 3 is 2 then, 2 is stored in the 3rd position of count array. If element \"5\" is not present in the array, then 0 is stored in 5th position.\n",
    "\n",
    "4-Store cumulative sum of the elements of the count array. It helps in placing the elements into the correct index of the sorted array.\n",
    "\n",
    "5-Find the index of each element of the original array in the count array. This gives the cumulative count. Place the element at the index calculated as shown in figure below.\n",
    "\n",
    "6-After placing each element at its correct position, decrease its count by one."
   ]
  },
  {
   "cell_type": "code",
   "execution_count": 19,
   "id": "8e5220ce",
   "metadata": {},
   "outputs": [],
   "source": [
    "def countSort(arr):\n",
    "    n=len(arr)\n",
    "    result=[0]*n\n",
    "    \n",
    "    count=[0]*50001    #generally it should be the maximum element of array arr but here we take a count array of size 10\n",
    "    \n",
    "    for i in range(n):   #Finding the number of occurences of each element in the count array\n",
    "        count[arr[i]]+=1\n",
    "        \n",
    "    print(count)\n",
    "    \n",
    "    for i in range(1,10):       #Finding the cummulative sum of array\n",
    "        count[i]+=count[i-1]\n",
    "    \n",
    "    print(count)\n",
    "    \n",
    "    i=n-1\n",
    "    while(i>=0):\n",
    "        result[count[arr[i]]-1]=arr[i]\n",
    "        count[arr[i]]-=1\n",
    "        i-=1\n",
    "        \n",
    "    print(count)    \n",
    "    print(result)"
   ]
  },
  {
   "cell_type": "code",
   "execution_count": 51,
   "id": "c82773e8",
   "metadata": {},
   "outputs": [
    {
     "name": "stdout",
     "output_type": "stream",
     "text": [
      "[0, 2, 1, 0, 1, 0, 1, 1, 1, 1]\n",
      "[0, 2, 3, 3, 4, 4, 5, 6, 7, 8]\n",
      "[0, 0, 2, 3, 3, 4, 4, 5, 6, 7]\n",
      "[1, 1, 2, 4, 6, 7, 8, 9]\n"
     ]
    }
   ],
   "source": [
    "countSort([9,4,2,8,6,7,1,1])"
   ]
  },
  {
   "cell_type": "code",
   "execution_count": 11,
   "id": "bf4ba084",
   "metadata": {},
   "outputs": [],
   "source": [
    "import numpy as np\n",
    "arr=np.random.randint(1,1000000,50000)\n",
    "n=len(arr)"
   ]
  },
  {
   "cell_type": "code",
   "execution_count": 12,
   "id": "3675760b",
   "metadata": {},
   "outputs": [
    {
     "data": {
      "text/plain": [
       "array([     8,     15,     17, ..., 999939, 999963, 999986])"
      ]
     },
     "execution_count": 12,
     "metadata": {},
     "output_type": "execute_result"
    }
   ],
   "source": [
    "quickSort(arr,0,n-1)"
   ]
  },
  {
   "cell_type": "code",
   "execution_count": 13,
   "id": "1b346fe2",
   "metadata": {},
   "outputs": [
    {
     "data": {
      "text/plain": [
       "array([     8,     15,     17, ..., 999939, 999963, 999986])"
      ]
     },
     "execution_count": 13,
     "metadata": {},
     "output_type": "execute_result"
    }
   ],
   "source": [
    "mergeSort(arr)"
   ]
  },
  {
   "cell_type": "code",
   "execution_count": 14,
   "id": "03d78e7b",
   "metadata": {},
   "outputs": [
    {
     "ename": "KeyboardInterrupt",
     "evalue": "",
     "output_type": "error",
     "traceback": [
      "\u001b[1;31m---------------------------------------------------------------------------\u001b[0m",
      "\u001b[1;31mKeyboardInterrupt\u001b[0m                         Traceback (most recent call last)",
      "\u001b[1;32m<ipython-input-14-c552aa9aaacc>\u001b[0m in \u001b[0;36m<module>\u001b[1;34m\u001b[0m\n\u001b[1;32m----> 1\u001b[1;33m \u001b[0mbubbleSort\u001b[0m\u001b[1;33m(\u001b[0m\u001b[0marr\u001b[0m\u001b[1;33m)\u001b[0m\u001b[1;33m\u001b[0m\u001b[1;33m\u001b[0m\u001b[0m\n\u001b[0m",
      "\u001b[1;32m<ipython-input-9-700546603334>\u001b[0m in \u001b[0;36mbubbleSort\u001b[1;34m(arr)\u001b[0m\n\u001b[0;32m      3\u001b[0m     \u001b[1;32mfor\u001b[0m \u001b[0mi\u001b[0m \u001b[1;32min\u001b[0m \u001b[0mrange\u001b[0m\u001b[1;33m(\u001b[0m\u001b[0mm\u001b[0m\u001b[1;33m)\u001b[0m\u001b[1;33m:\u001b[0m\u001b[1;33m\u001b[0m\u001b[1;33m\u001b[0m\u001b[0m\n\u001b[0;32m      4\u001b[0m         \u001b[1;32mfor\u001b[0m \u001b[0mj\u001b[0m \u001b[1;32min\u001b[0m \u001b[0mrange\u001b[0m\u001b[1;33m(\u001b[0m\u001b[1;36m0\u001b[0m\u001b[1;33m,\u001b[0m\u001b[0mm\u001b[0m\u001b[1;33m-\u001b[0m\u001b[0mi\u001b[0m\u001b[1;33m-\u001b[0m\u001b[1;36m1\u001b[0m\u001b[1;33m)\u001b[0m\u001b[1;33m:\u001b[0m\u001b[1;33m\u001b[0m\u001b[1;33m\u001b[0m\u001b[0m\n\u001b[1;32m----> 5\u001b[1;33m             \u001b[1;32mif\u001b[0m\u001b[1;33m(\u001b[0m\u001b[0marr\u001b[0m\u001b[1;33m[\u001b[0m\u001b[0mj\u001b[0m\u001b[1;33m]\u001b[0m\u001b[1;33m>\u001b[0m\u001b[0marr\u001b[0m\u001b[1;33m[\u001b[0m\u001b[0mj\u001b[0m\u001b[1;33m+\u001b[0m\u001b[1;36m1\u001b[0m\u001b[1;33m]\u001b[0m\u001b[1;33m)\u001b[0m\u001b[1;33m:\u001b[0m\u001b[1;33m\u001b[0m\u001b[1;33m\u001b[0m\u001b[0m\n\u001b[0m\u001b[0;32m      6\u001b[0m                 \u001b[0mtemp\u001b[0m\u001b[1;33m=\u001b[0m\u001b[0marr\u001b[0m\u001b[1;33m[\u001b[0m\u001b[0mj\u001b[0m\u001b[1;33m]\u001b[0m\u001b[1;33m\u001b[0m\u001b[1;33m\u001b[0m\u001b[0m\n\u001b[0;32m      7\u001b[0m                 \u001b[0marr\u001b[0m\u001b[1;33m[\u001b[0m\u001b[0mj\u001b[0m\u001b[1;33m]\u001b[0m\u001b[1;33m=\u001b[0m\u001b[0marr\u001b[0m\u001b[1;33m[\u001b[0m\u001b[0mj\u001b[0m\u001b[1;33m+\u001b[0m\u001b[1;36m1\u001b[0m\u001b[1;33m]\u001b[0m\u001b[1;33m\u001b[0m\u001b[1;33m\u001b[0m\u001b[0m\n",
      "\u001b[1;31mKeyboardInterrupt\u001b[0m: "
     ]
    }
   ],
   "source": [
    "bubbleSort(arr)"
   ]
  },
  {
   "cell_type": "code",
   "execution_count": 20,
   "id": "c46e795f",
   "metadata": {},
   "outputs": [
    {
     "ename": "IndexError",
     "evalue": "list index out of range",
     "output_type": "error",
     "traceback": [
      "\u001b[1;31m---------------------------------------------------------------------------\u001b[0m",
      "\u001b[1;31mIndexError\u001b[0m                                Traceback (most recent call last)",
      "\u001b[1;32m<ipython-input-20-0331fdf6bf5f>\u001b[0m in \u001b[0;36m<module>\u001b[1;34m\u001b[0m\n\u001b[1;32m----> 1\u001b[1;33m \u001b[0mcountSort\u001b[0m\u001b[1;33m(\u001b[0m\u001b[0marr\u001b[0m\u001b[1;33m)\u001b[0m\u001b[1;33m\u001b[0m\u001b[1;33m\u001b[0m\u001b[0m\n\u001b[0m",
      "\u001b[1;32m<ipython-input-19-17ae4a019278>\u001b[0m in \u001b[0;36mcountSort\u001b[1;34m(arr)\u001b[0m\n\u001b[0;32m      6\u001b[0m \u001b[1;33m\u001b[0m\u001b[0m\n\u001b[0;32m      7\u001b[0m     \u001b[1;32mfor\u001b[0m \u001b[0mi\u001b[0m \u001b[1;32min\u001b[0m \u001b[0mrange\u001b[0m\u001b[1;33m(\u001b[0m\u001b[0mn\u001b[0m\u001b[1;33m)\u001b[0m\u001b[1;33m:\u001b[0m   \u001b[1;31m#Finding the number of occurences of each element in the count array\u001b[0m\u001b[1;33m\u001b[0m\u001b[1;33m\u001b[0m\u001b[0m\n\u001b[1;32m----> 8\u001b[1;33m         \u001b[0mcount\u001b[0m\u001b[1;33m[\u001b[0m\u001b[0marr\u001b[0m\u001b[1;33m[\u001b[0m\u001b[0mi\u001b[0m\u001b[1;33m]\u001b[0m\u001b[1;33m]\u001b[0m\u001b[1;33m+=\u001b[0m\u001b[1;36m1\u001b[0m\u001b[1;33m\u001b[0m\u001b[1;33m\u001b[0m\u001b[0m\n\u001b[0m\u001b[0;32m      9\u001b[0m \u001b[1;33m\u001b[0m\u001b[0m\n\u001b[0;32m     10\u001b[0m     \u001b[0mprint\u001b[0m\u001b[1;33m(\u001b[0m\u001b[0mcount\u001b[0m\u001b[1;33m)\u001b[0m\u001b[1;33m\u001b[0m\u001b[1;33m\u001b[0m\u001b[0m\n",
      "\u001b[1;31mIndexError\u001b[0m: list index out of range"
     ]
    }
   ],
   "source": [
    "countSort(arr)"
   ]
  },
  {
   "cell_type": "code",
   "execution_count": null,
   "id": "a87515ff",
   "metadata": {},
   "outputs": [],
   "source": []
  }
 ],
 "metadata": {
  "kernelspec": {
   "display_name": "Python 3",
   "language": "python",
   "name": "python3"
  },
  "language_info": {
   "codemirror_mode": {
    "name": "ipython",
    "version": 3
   },
   "file_extension": ".py",
   "mimetype": "text/x-python",
   "name": "python",
   "nbconvert_exporter": "python",
   "pygments_lexer": "ipython3",
   "version": "3.8.8"
  }
 },
 "nbformat": 4,
 "nbformat_minor": 5
}
