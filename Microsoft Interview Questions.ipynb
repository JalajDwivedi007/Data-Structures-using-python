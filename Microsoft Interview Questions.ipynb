{
 "cells": [
  {
   "cell_type": "markdown",
   "id": "58342926",
   "metadata": {},
   "source": [
    "## Converting a given number into word format"
   ]
  },
  {
   "cell_type": "code",
   "execution_count": 3,
   "id": "67a5e2e4",
   "metadata": {},
   "outputs": [],
   "source": [
    "arr=['zero','one','two','three','four','five','six','seven','eight','nine']\n",
    "def num_to_string(n):\n",
    "    ans=''\n",
    "    if(n==0):\n",
    "        return ''\n",
    "    else:\n",
    "        small_ans=arr[n%10]\n",
    "        ans=num_to_string(int(n//10))+small_ans+' '\n",
    "    return ans\n",
    "    "
   ]
  },
  {
   "cell_type": "code",
   "execution_count": 4,
   "id": "aac6d4ef",
   "metadata": {},
   "outputs": [
    {
     "data": {
      "text/plain": [
       "'six seven eight '"
      ]
     },
     "execution_count": 4,
     "metadata": {},
     "output_type": "execute_result"
    }
   ],
   "source": [
    "num_to_string(678)"
   ]
  },
  {
   "cell_type": "code",
   "execution_count": 5,
   "id": "ee62a9e2",
   "metadata": {},
   "outputs": [
    {
     "data": {
      "text/plain": [
       "'one two three '"
      ]
     },
     "execution_count": 5,
     "metadata": {},
     "output_type": "execute_result"
    }
   ],
   "source": [
    "num_to_string(123)"
   ]
  },
  {
   "cell_type": "code",
   "execution_count": 14,
   "id": "1845fad7",
   "metadata": {},
   "outputs": [],
   "source": [
    "def num_to_string(n):\n",
    "    l=len(n)\n",
    "    ans=''\n",
    "    if(l==0):\n",
    "        return ''\n",
    "    if l==1:\n",
    "        print(arr[ord(n[0])-48])\n",
    "    return ans"
   ]
  },
  {
   "cell_type": "code",
   "execution_count": 16,
   "id": "baeebee0",
   "metadata": {},
   "outputs": [
    {
     "name": "stdout",
     "output_type": "stream",
     "text": [
      "two\n"
     ]
    },
    {
     "data": {
      "text/plain": [
       "''"
      ]
     },
     "execution_count": 16,
     "metadata": {},
     "output_type": "execute_result"
    }
   ],
   "source": [
    "num_to_string('2')"
   ]
  },
  {
   "cell_type": "code",
   "execution_count": 20,
   "id": "1b4c4fe2",
   "metadata": {},
   "outputs": [
    {
     "data": {
      "text/plain": [
       "65"
      ]
     },
     "execution_count": 20,
     "metadata": {},
     "output_type": "execute_result"
    }
   ],
   "source": [
    "ord('1') #Returns the ASCII code of given string value\n",
    "ord('A')"
   ]
  },
  {
   "cell_type": "code",
   "execution_count": 4,
   "id": "47809648",
   "metadata": {},
   "outputs": [],
   "source": [
    "single_digits=['zero','one','two','three','four','five','six','seven','eight','nine']\n",
    "two_digits=['','ten','eleven','twelve','thirteen','fourteen','fifteen','sixteen','seventeen','eighteen','nineteen']\n",
    "ten_multiples=['','','twenty','thirty','fourty','fifty','sixty','seventy','eighty','ninety']\n",
    "power_tens=['hundred','thousand']"
   ]
  },
  {
   "cell_type": "code",
   "execution_count": 6,
   "id": "521aa068",
   "metadata": {},
   "outputs": [],
   "source": [
    "def convert_to_words(num):\n",
    "    l=len(num)\n",
    "    if l==0:\n",
    "        return ''\n",
    "    if l>4:\n",
    "        print('Not Supported!')\n",
    "        return\n",
    "    if l==1:\n",
    "        print(single_digits[ord(num[0])-48])\n",
    "        return\n",
    "    \n",
    "    x=0\n",
    "    while(x<len(num)):\n",
    "        if(l>=3):\n",
    "            if(ord(num[x]))-48!=0:\n",
    "                print(single_digits[ord(num[0])-48],end=' ')\n",
    "                print(power_tens[l-3],end=' ')\n",
    "            l-=1\n",
    "        else:\n",
    "            if(ord(num[x])-48)==1:\n",
    "                s=(ord(num[x])-48)+(ord(num[x+1])-48)\n",
    "                print(two_digits[s])\n",
    "                return\n",
    "            elif (ord(num[x])-48==2 and ord(num[x+1])-48==0):\n",
    "                print('twenty')\n",
    "                return\n",
    "            \n",
    "            else:\n",
    "                i=ord(num[x])-48\n",
    "                if i>0:\n",
    "                    print(ten_multiples[i],end=' ')\n",
    "                else:\n",
    "                    print(' ',end=' ')\n",
    "                x+=1\n",
    "                if (ord(num[x])-48 !=0):\n",
    "                    print(single_digits[ord(num[x])-48])\n",
    "        x+=1\n",
    "    "
   ]
  },
  {
   "cell_type": "code",
   "execution_count": 26,
   "id": "6c7c6bd0",
   "metadata": {},
   "outputs": [
    {
     "name": "stdout",
     "output_type": "stream",
     "text": [
      "nine thousand nine hundred twenty three\n"
     ]
    }
   ],
   "source": [
    "convert_to_words('9923')"
   ]
  },
  {
   "cell_type": "code",
   "execution_count": 9,
   "id": "e7e9f380",
   "metadata": {},
   "outputs": [
    {
     "name": "stdout",
     "output_type": "stream",
     "text": [
      "two thousand   "
     ]
    }
   ],
   "source": [
    "convert_to_words('2000')"
   ]
  },
  {
   "cell_type": "code",
   "execution_count": 8,
   "id": "304e62d2",
   "metadata": {},
   "outputs": [
    {
     "name": "stdout",
     "output_type": "stream",
     "text": [
      "one thousand   "
     ]
    }
   ],
   "source": [
    "convert_to_words('1000')"
   ]
  },
  {
   "cell_type": "markdown",
   "id": "c3d231a4",
   "metadata": {},
   "source": [
    "## Given a matrix of zeros and ones. Convert matrix such that if M[i][j]==1 then ith row and jth column should be 1.\n",
    "\n",
    "The Initial Approach with more space complexity.\n",
    "\n",
    "Time : O(m*n)\n",
    "\n",
    "Space: O(m+n)"
   ]
  },
  {
   "cell_type": "code",
   "execution_count": 36,
   "id": "3d524d2a",
   "metadata": {},
   "outputs": [],
   "source": [
    "def modifyMatrix(mat):\n",
    "    row=[0]*(len(mat))\n",
    "    col=[0]*(len(mat[0]))\n",
    "    \n",
    "    for i in range(len(mat)):\n",
    "        for j in range(len(mat[0])):\n",
    "            if(mat[i][j]==1):\n",
    "                row[i]=1\n",
    "                col[j]=1\n",
    "    #Modify the matrix accordingly\n",
    "    for i in range(len(mat)):\n",
    "        for j in range(len(mat[0])):\n",
    "            if row[i]==1 or col[j]==1:\n",
    "                mat[i][j]=1\n",
    "              \n",
    "           \n",
    "    return mat"
   ]
  },
  {
   "cell_type": "code",
   "execution_count": 37,
   "id": "0dd98ec6",
   "metadata": {},
   "outputs": [
    {
     "name": "stdout",
     "output_type": "stream",
     "text": [
      "[[1, 1, 1, 1], [1, 1, 1, 1], [1, 0, 1, 1]]\n"
     ]
    },
    {
     "data": {
      "text/plain": [
       "[[1, 1, 1, 1], [1, 1, 1, 1], [1, 0, 1, 1]]"
      ]
     },
     "execution_count": 37,
     "metadata": {},
     "output_type": "execute_result"
    }
   ],
   "source": [
    "modifyMatrix([[1,0,0,1],[0,0,1,0],[0,0,0,0]])"
   ]
  },
  {
   "cell_type": "markdown",
   "id": "fd14f955",
   "metadata": {},
   "source": [
    "Optimizing\n"
   ]
  },
  {
   "cell_type": "code",
   "execution_count": 40,
   "id": "8b371fc9",
   "metadata": {},
   "outputs": [],
   "source": [
    "def modifyMatrix(mat):\n",
    "    row_flag=False\n",
    "    col_flag=False\n",
    "    \n",
    "    for i in range(len(mat)):\n",
    "        for j in range(len(mat)):\n",
    "            if i==0 and mat[i][j]==1:\n",
    "                row_flag=True\n",
    "            if j ==0 and mat[i][j]==1:\n",
    "                col_flag=True\n",
    "            if mat[i][j]==1:\n",
    "                mat[0][j]=1\n",
    "                mat[i][0]=1\n",
    "            \n",
    "    for i in range(1,len(mat)):\n",
    "        for j in range(len(mat[0])):\n",
    "            if(mat[0][j]==1 or mat[i][0]==1):\n",
    "                mat[i][j]=1\n",
    "                \n",
    "    if row_flag==True:\n",
    "        for i in range(0,len(mat)):\n",
    "            mat[i][0]=1\n",
    "            \n",
    "    if col_flag==True:\n",
    "        for i in range(0,len(mat)):\n",
    "            mat[0][i]=1\n",
    "            \n",
    "    return mat\n",
    "            \n",
    "        "
   ]
  },
  {
   "cell_type": "code",
   "execution_count": 41,
   "id": "4e888e0e",
   "metadata": {},
   "outputs": [
    {
     "data": {
      "text/plain": [
       "[[1, 1, 1, 1], [1, 1, 1, 1], [1, 1, 1, 1]]"
      ]
     },
     "execution_count": 41,
     "metadata": {},
     "output_type": "execute_result"
    }
   ],
   "source": [
    "modifyMatrix([[1,0,0,1],[0,0,1,0],[0,0,0,0]])"
   ]
  },
  {
   "cell_type": "markdown",
   "id": "6c9f381b",
   "metadata": {},
   "source": [
    "## Program to Check if two strings are anagrams"
   ]
  },
  {
   "cell_type": "code",
   "execution_count": 46,
   "id": "e599fadb",
   "metadata": {},
   "outputs": [],
   "source": [
    "MAX_CHARS=256\n",
    "def areAnagrams(str1,str2):\n",
    "    if len(str1)!=len(str2):\n",
    "        return False\n",
    "    count=[0]*MAX_CHARS\n",
    "    \n",
    "    for i in range(len(str1)):\n",
    "        count[ord(str1[i])-ord('a')]+=1\n",
    "        count[ord(str2[i])-ord('a')]-=1\n",
    "        \n",
    "    for i in range(MAX_CHARS):\n",
    "        if count[i]!=0:\n",
    "            return False\n",
    "    return True\n",
    "        "
   ]
  },
  {
   "cell_type": "code",
   "execution_count": 48,
   "id": "59482638",
   "metadata": {},
   "outputs": [
    {
     "data": {
      "text/plain": [
       "True"
      ]
     },
     "execution_count": 48,
     "metadata": {},
     "output_type": "execute_result"
    }
   ],
   "source": [
    "areAnagrams('silent','listen')"
   ]
  },
  {
   "cell_type": "code",
   "execution_count": 50,
   "id": "e336efa3",
   "metadata": {},
   "outputs": [
    {
     "data": {
      "text/plain": [
       "False"
      ]
     },
     "execution_count": 50,
     "metadata": {},
     "output_type": "execute_result"
    }
   ],
   "source": [
    "areAnagrams('jalaj','saljj')"
   ]
  },
  {
   "cell_type": "code",
   "execution_count": null,
   "id": "8b30cebc",
   "metadata": {},
   "outputs": [],
   "source": []
  }
 ],
 "metadata": {
  "kernelspec": {
   "display_name": "Python 3",
   "language": "python",
   "name": "python3"
  },
  "language_info": {
   "codemirror_mode": {
    "name": "ipython",
    "version": 3
   },
   "file_extension": ".py",
   "mimetype": "text/x-python",
   "name": "python",
   "nbconvert_exporter": "python",
   "pygments_lexer": "ipython3",
   "version": "3.8.8"
  }
 },
 "nbformat": 4,
 "nbformat_minor": 5
}
