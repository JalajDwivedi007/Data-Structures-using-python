{
 "cells": [
  {
   "cell_type": "markdown",
   "id": "bcaf311c",
   "metadata": {},
   "source": [
    "# Binary Trees\n"
   ]
  },
  {
   "cell_type": "markdown",
   "id": "541e3ee9",
   "metadata": {},
   "source": [
    "Use the link to BT Algorithms\n",
    "\n",
    "https://www.youtube.com/watch?v=fAAZixBzIAI\n",
    "\n",
    "<center><h1>Rules for a Binary Tree</h1></center>\n",
    "\n",
    "<img src='BT-1a.jpeg' alt='The Tree' width=400px height=400px/>\n",
    "\n",
    "Designing a tree-\n",
    "\n",
    "<center><h1>The Tree</h1></center>\n",
    "\n",
    "<img src='BT-2a.jpeg' alt='The Tree' width=400px height=400px/>"
   ]
  },
  {
   "cell_type": "code",
   "execution_count": 1,
   "id": "69781200",
   "metadata": {},
   "outputs": [],
   "source": [
    "#The above tree\n",
    "class Node:\n",
    "    def __init__(self,val):\n",
    "        self.val=val\n",
    "        self.right=None\n",
    "        self.left=None\n",
    "\n",
    "#Initializing nodes        \n",
    "A=Node('A');\n",
    "B=Node('B');\n",
    "C=Node('C');\n",
    "D=Node('D');\n",
    "E=Node('E');\n",
    "F=Node('F');\n",
    "\n",
    "#Assigning pointers\n",
    "A.left=B\n",
    "A.right=C\n",
    "B.left=D\n",
    "B.right=E\n",
    "C.right=F\n",
    "\n"
   ]
  },
  {
   "cell_type": "markdown",
   "id": "faac2145",
   "metadata": {},
   "source": [
    "## Depth First Values\n",
    "We have root node traverse through the nodes according to depth.\n",
    "\n",
    "<img src='BT-2a.jpeg' alt='The Tree' width=400px height=400px/>\n",
    "\n",
    "**The DFS**\n",
    "\n",
    "a,b,d,e,c,f\n",
    "\n",
    "The DFS uses a stack. Stack follows Last in first out order.\n",
    "\n",
    "So, Steps that follows:\n",
    "\n",
    "a.push()\n",
    "\n",
    "stack=a \n",
    "\n",
    "a.pop()\n",
    "\n",
    "visited=a\n",
    "\n",
    "c.push()\n",
    "\n",
    "b.push()\n",
    "\n",
    "stack=b,c\n",
    "\n",
    "b.pop()\n",
    "\n",
    "visited=a,b\n",
    "\n",
    "e.push()\n",
    "\n",
    "d.push()\n",
    "\n",
    "stack=d,e,c\n",
    "\n",
    "d.pop()\n",
    "\n",
    "stack=e,c\n",
    "\n",
    "visited=a,b,d\n",
    "\n",
    "e.pop()\n",
    "\n",
    "stack=c\n",
    "\n",
    "visited=a,b,d,e\n",
    "\n",
    "c.pop()\n",
    "\n",
    "visited=a,b,d,e,c\n",
    "\n",
    "f.push()\n",
    "\n",
    "stack=f\n",
    "\n",
    "f.pop()\n",
    "\n",
    "visited=a,b,d,e,c,f\n",
    "\n",
    "\n",
    "Time:O(N) Adding every node eventually to stack\n",
    "\n",
    "Space:O(N) Stack elements\n",
    "\n",
    "## Iterative Version"
   ]
  },
  {
   "cell_type": "code",
   "execution_count": 41,
   "id": "06549a2e",
   "metadata": {},
   "outputs": [],
   "source": [
    "def depthFirstValues(root):\n",
    "    if(root==None): #If root is none return empty array\n",
    "        return []\n",
    "    result=[]\n",
    "    stack=[root]  #intialize stack with first root\n",
    "    while(len(stack)>0):\n",
    "        current=stack.pop()\n",
    "        result.append(current.val) #Result array updating\n",
    "        \n",
    "        if(current.right): #Right child is to be pushed first\n",
    "            stack.append(current.right)\n",
    "        if(current.left):\n",
    "            stack.append(current.left)\n",
    "    return result"
   ]
  },
  {
   "cell_type": "code",
   "execution_count": 42,
   "id": "3decffae",
   "metadata": {},
   "outputs": [],
   "source": [
    "class Node:\n",
    "    def __init__(self,val):\n",
    "        self.val=val\n",
    "        self.left=None\n",
    "        self.right=None\n",
    "        \n",
    "\n",
    "#Initializing nodes        \n",
    "A=Node('A');\n",
    "B=Node('B');\n",
    "C=Node('C');\n",
    "D=Node('D');\n",
    "E=Node('E');\n",
    "F=Node('F');\n",
    "\n",
    "#Assigning pointers\n",
    "A.left=B\n",
    "A.right=C\n",
    "B.left=D\n",
    "B.right=E\n",
    "C.right=F"
   ]
  },
  {
   "cell_type": "code",
   "execution_count": 43,
   "id": "9880b10e",
   "metadata": {},
   "outputs": [
    {
     "data": {
      "text/plain": [
       "['A', 'B', 'D', 'E', 'C', 'F']"
      ]
     },
     "execution_count": 43,
     "metadata": {},
     "output_type": "execute_result"
    }
   ],
   "source": [
    "depthFirstValues(A)"
   ]
  },
  {
   "cell_type": "markdown",
   "id": "6a8c3497",
   "metadata": {},
   "source": [
    "## Recursive Approach\n",
    "\n",
    "The '*' operator is a spread operator in python:-\n",
    "\n",
    "Visit:- https://how.wtf/spread-operator-in-python.html\n",
    "\n",
    "For more info"
   ]
  },
  {
   "cell_type": "code",
   "execution_count": 54,
   "id": "640673f0",
   "metadata": {},
   "outputs": [],
   "source": [
    "def depthFirstValuesR(root):\n",
    "    if (root==None):\n",
    "        return []\n",
    "    left_values=depthFirstValuesR(root.left) #expecting [b,d,e]\n",
    "    right_values=depthFirstValuesR(root.right) #expecting [c,f]\n",
    "    return [root.val,*left_values,*right_values]\n",
    "    "
   ]
  },
  {
   "cell_type": "code",
   "execution_count": 55,
   "id": "815e538c",
   "metadata": {},
   "outputs": [
    {
     "data": {
      "text/plain": [
       "['A', 'B', 'D', 'E', 'C', 'F']"
      ]
     },
     "execution_count": 55,
     "metadata": {},
     "output_type": "execute_result"
    }
   ],
   "source": [
    "depthFirstValuesR(A)"
   ]
  },
  {
   "cell_type": "markdown",
   "id": "5993e381",
   "metadata": {},
   "source": [
    "## Breadth First Values\n",
    "\n",
    "Use BFS to traverse through the tree\n",
    "\n",
    "<img src='BT-2a.jpeg' alt='The Tree' width=400px height=400px/>\n",
    "\n",
    "Steps to follow:-\n",
    "\n",
    "a.add()\n",
    "\n",
    "stack=a\n",
    "\n",
    "a.pop(0)\n",
    "\n",
    "visited=a\n",
    "\n",
    "b.add()\n",
    "\n",
    "c.add()\n",
    "\n",
    "stack=b,c\n",
    "\n",
    "b.del()\n",
    "\n",
    "visited=a,b\n",
    "\n",
    "d.add()\n",
    "\n",
    "e.add()\n",
    "\n",
    "stack=c,d,e\n",
    "\n",
    "c.del()\n",
    "\n",
    "stack=d,e\n",
    "\n",
    "f.add()\n",
    "\n",
    "visited=a,b,c\n",
    "\n",
    "d.del()\n",
    "\n",
    "stack=e,f\n",
    "\n",
    "visited=a,b,c,d\n",
    "\n",
    "e.del()\n",
    "\n",
    "visited=a,b,c,d,e\n",
    "\n",
    "f.del()\n",
    "\n",
    "visited=a,b,c,d,e,f\n",
    "\n",
    "Time:-O(N)\n",
    "\n",
    "Space:-O(N)\n",
    "\n",
    "## Iterative Approach"
   ]
  },
  {
   "cell_type": "code",
   "execution_count": 58,
   "id": "b36ab22b",
   "metadata": {},
   "outputs": [],
   "source": [
    "def breadthFirstValues(root):\n",
    "    if(root==None):\n",
    "        return []\n",
    "    queue=[root]\n",
    "    result=[]\n",
    "    while(len(queue)>0):\n",
    "        current=queue.pop(0)\n",
    "        result.append(current.val)\n",
    "        \n",
    "        if(current.left is not None):\n",
    "            queue.append(current.left)\n",
    "        if(current.right is not None):\n",
    "            queue.append(current.right)\n",
    "    return result"
   ]
  },
  {
   "cell_type": "code",
   "execution_count": 59,
   "id": "ac5fc772",
   "metadata": {},
   "outputs": [
    {
     "data": {
      "text/plain": [
       "['A', 'B', 'C', 'D', 'E', 'F']"
      ]
     },
     "execution_count": 59,
     "metadata": {},
     "output_type": "execute_result"
    }
   ],
   "source": [
    "breadthFirstValues(A)"
   ]
  },
  {
   "cell_type": "markdown",
   "id": "a5fb9ddf",
   "metadata": {},
   "source": [
    "## Tree Includes Problem \n",
    "\n",
    "Given a value or node. Find whether it exists in the tree or not"
   ]
  },
  {
   "cell_type": "code",
   "execution_count": 65,
   "id": "ea6636b3",
   "metadata": {},
   "outputs": [],
   "source": [
    "#Using BFS iterative\n",
    "\n",
    "def treeIncludesBI(root,target):\n",
    "    if(root==None):\n",
    "        return False\n",
    "    queue=[root]\n",
    "    while(len(queue)>0):\n",
    "        current=queue.pop(0)\n",
    "        if(current.val==target):\n",
    "            return True\n",
    "        \n",
    "        if(current.left):\n",
    "            queue.append(current.left)\n",
    "        if(current.right):\n",
    "            queue.append(current.right)\n",
    "    return False"
   ]
  },
  {
   "cell_type": "code",
   "execution_count": 67,
   "id": "f8295b29",
   "metadata": {},
   "outputs": [
    {
     "data": {
      "text/plain": [
       "True"
      ]
     },
     "execution_count": 67,
     "metadata": {},
     "output_type": "execute_result"
    }
   ],
   "source": [
    "treeIncludesBI(A,'B')"
   ]
  },
  {
   "cell_type": "code",
   "execution_count": 68,
   "id": "c922fe4b",
   "metadata": {},
   "outputs": [],
   "source": [
    "#Recursive DFS problem\n",
    "\n",
    "def treeIncludeDR(root,target):\n",
    "    if(root==None):\n",
    "        return False\n",
    "    if(root.val==target):\n",
    "        return True\n",
    "    leftTree=treeIncludeDR(root.left,target) #Returning boolean from left part\n",
    "    rightTree=treeIncludeDR(root.right,target) #Returning boolean from right part\n",
    "    \n",
    "    return leftTree or rightTree  #Returning logical OR whether we find the target in left or right doesn't matter"
   ]
  },
  {
   "cell_type": "code",
   "execution_count": 69,
   "id": "c37408ca",
   "metadata": {},
   "outputs": [
    {
     "data": {
      "text/plain": [
       "True"
      ]
     },
     "execution_count": 69,
     "metadata": {},
     "output_type": "execute_result"
    }
   ],
   "source": [
    "treeIncludeDR(A,'C')"
   ]
  },
  {
   "cell_type": "code",
   "execution_count": 70,
   "id": "fa393748",
   "metadata": {},
   "outputs": [
    {
     "data": {
      "text/plain": [
       "False"
      ]
     },
     "execution_count": 70,
     "metadata": {},
     "output_type": "execute_result"
    }
   ],
   "source": [
    "treeIncludeDR(A,'M')"
   ]
  },
  {
   "cell_type": "markdown",
   "id": "634fea99",
   "metadata": {},
   "source": [
    "## Tree Sum Problem\n",
    "\n",
    "Find the sum of all the number values in a tree.\n",
    "\n",
    "<center><h1>The Tree</h1></center>\n",
    "<img src='BT-4a.jpeg' alt='Binary Tree Image' width=400px height=400px/>"
   ]
  },
  {
   "cell_type": "code",
   "execution_count": 89,
   "id": "c6075388",
   "metadata": {},
   "outputs": [],
   "source": [
    "#The Tree\n",
    "class Node:\n",
    "    def __init__(self,val):\n",
    "        self.val=val\n",
    "        self.left=None\n",
    "        self.right=None\n",
    "        \n",
    "\n",
    "#Initializing nodes        \n",
    "A=Node(3);\n",
    "B=Node(11);\n",
    "C=Node(4);\n",
    "D=Node(4);\n",
    "E=Node(2);\n",
    "F=Node(1);\n",
    "\n",
    "#Assigning pointers\n",
    "A.left=B\n",
    "A.right=C\n",
    "B.left=D\n",
    "B.right=E\n",
    "C.right=F"
   ]
  },
  {
   "cell_type": "code",
   "execution_count": 72,
   "id": "bd707272",
   "metadata": {},
   "outputs": [],
   "source": [
    "#Iterative BFS\n",
    "def treeSum(root):\n",
    "    if(root==None):\n",
    "        return 0\n",
    "    sum=0\n",
    "    queue=[root]\n",
    "    while(len(queue)>0):\n",
    "        current=queue.pop(0)\n",
    "        sum+=current.val\n",
    "        \n",
    "        if(current.left):\n",
    "            queue.append(current.left)\n",
    "        if(current.right):\n",
    "            queue.append(current.right)\n",
    "    return sum"
   ]
  },
  {
   "cell_type": "code",
   "execution_count": 73,
   "id": "0663e2d0",
   "metadata": {},
   "outputs": [
    {
     "data": {
      "text/plain": [
       "25"
      ]
     },
     "execution_count": 73,
     "metadata": {},
     "output_type": "execute_result"
    }
   ],
   "source": [
    "treeSum(A)"
   ]
  },
  {
   "cell_type": "code",
   "execution_count": 78,
   "id": "c9c17f45",
   "metadata": {},
   "outputs": [],
   "source": [
    "#Recursive approach DFS\n",
    "#Time complexity - O(N) Space- O(N)\n",
    "def treeSumR(root):\n",
    "    if(root==None):\n",
    "        return 0\n",
    "    \n",
    "    leftTreeSum=treeSumR(root.left)\n",
    "    rightTreeSum=treeSumR(root.right)\n",
    "    return root.val+leftTreeSum + rightTreeSum"
   ]
  },
  {
   "cell_type": "code",
   "execution_count": 79,
   "id": "a11516d9",
   "metadata": {},
   "outputs": [
    {
     "data": {
      "text/plain": [
       "25"
      ]
     },
     "execution_count": 79,
     "metadata": {},
     "output_type": "execute_result"
    }
   ],
   "source": [
    "treeSumR(A)"
   ]
  },
  {
   "cell_type": "markdown",
   "id": "fdebc7fd",
   "metadata": {},
   "source": [
    "## Tree Min Value \n",
    "\n",
    "Find the minimum value in a binary tree\n",
    "\n",
    "<center><h1>The Tree</h1></center>\n",
    "\n",
    "<img src='BT-5a.jpeg' alt='Binary Tree' width=400px height=400px/>\n"
   ]
  },
  {
   "cell_type": "code",
   "execution_count": 86,
   "id": "62c1b3d0",
   "metadata": {},
   "outputs": [],
   "source": [
    "#Iterative BFS approach\n",
    "def treeMinValue(root):\n",
    "    if(root==None):\n",
    "        return 0\n",
    "    queue=[root]\n",
    "    mini=9999\n",
    "    while(len(queue)>0):\n",
    "        current=queue.pop(0)\n",
    "        if(current.val<mini):\n",
    "            mini=current.val\n",
    "        if(current.left is not None):\n",
    "            queue.append(current.left)\n",
    "        if(current.right is not None):\n",
    "            queue.append(current.right)\n",
    "    return mini"
   ]
  },
  {
   "cell_type": "code",
   "execution_count": 91,
   "id": "eeb14cd0",
   "metadata": {},
   "outputs": [],
   "source": [
    "#The Tree\n",
    "class Node:\n",
    "    def __init__(self,val):\n",
    "        self.val=val\n",
    "        self.left=None\n",
    "        self.right=None\n",
    "        \n",
    "\n",
    "#Initializing nodes        \n",
    "A=Node(5);\n",
    "B=Node(11);\n",
    "C=Node(3);\n",
    "D=Node(4);\n",
    "E=Node(15);\n",
    "F=Node(12);\n",
    "\n",
    "#Assigning pointers\n",
    "A.left=B\n",
    "A.right=C\n",
    "B.left=D\n",
    "B.right=E\n",
    "C.right=F"
   ]
  },
  {
   "cell_type": "code",
   "execution_count": 92,
   "id": "f5fd2ec1",
   "metadata": {},
   "outputs": [
    {
     "data": {
      "text/plain": [
       "3"
      ]
     },
     "execution_count": 92,
     "metadata": {},
     "output_type": "execute_result"
    }
   ],
   "source": [
    "treeMinValue(A)"
   ]
  },
  {
   "cell_type": "code",
   "execution_count": 99,
   "id": "ddccda32",
   "metadata": {},
   "outputs": [],
   "source": [
    "#Recursive approach DFS\n",
    "#Time O(N) Space O(N)\n",
    "# Math.inf is infinity value \n",
    "import math\n",
    "def treeMinValueR(root):\n",
    "    if(root==None):\n",
    "        return math.inf \n",
    "    leftSubTreeMin=treeMinValueR(root.left)\n",
    "    rightSubTreeMin=treeMinValueR(root.right)\n",
    "    \n",
    "    return min(root.val,leftSubTreeMin,rightSubTreeMin)\n"
   ]
  },
  {
   "cell_type": "code",
   "execution_count": 100,
   "id": "121ffd2c",
   "metadata": {},
   "outputs": [
    {
     "data": {
      "text/plain": [
       "3"
      ]
     },
     "execution_count": 100,
     "metadata": {},
     "output_type": "execute_result"
    }
   ],
   "source": [
    "treeMinValueR(A)"
   ]
  },
  {
   "cell_type": "markdown",
   "id": "deb5bf04",
   "metadata": {},
   "source": [
    "## Max Root to Leaf path Sum Problem\n",
    "\n",
    "In a given graph,\n",
    "\n",
    "<center><h1>The Tree</h1></center>\n",
    "\n",
    "<img src='BT-5a.jpeg' alt='Binary Tree' width=400px height=400px/>\n",
    "\n",
    "We need to find the maximum path sum. That is-\n",
    "\n",
    "Either - \n",
    "         \n",
    "         5+11+4=20\n",
    "\n",
    "         5+11+15=31\n",
    "         \n",
    "         5+3+12=20\n",
    "         \n",
    "Here 31 is the max sum so the max branch sum is 31 and branch is A->B->E\n",
    "\n",
    "Time: O(N)\n",
    "\n",
    "Space:O(N)"
   ]
  },
  {
   "cell_type": "code",
   "execution_count": 101,
   "id": "4f64dd76",
   "metadata": {},
   "outputs": [],
   "source": [
    "import math\n",
    "def maxBranchSum(root):\n",
    "    if(root==None):\n",
    "        return -math.inf                       #If the node has no child return -infinity\n",
    "    if(root.left==None and root.right==None):  #Checking a leaf node- if the node is a leaf node return the value of it\n",
    "        return root.val\n",
    "    maxChild=max(maxBranchSum(root.left),maxBranchSum(root.right))  #Checking the values of both left and right subtrees\n",
    "    return root.val+maxChild                             #Adding the values with the root value"
   ]
  },
  {
   "cell_type": "code",
   "execution_count": 102,
   "id": "60372d01",
   "metadata": {},
   "outputs": [
    {
     "data": {
      "text/plain": [
       "31"
      ]
     },
     "execution_count": 102,
     "metadata": {},
     "output_type": "execute_result"
    }
   ],
   "source": [
    "maxBranchSum(A)"
   ]
  },
  {
   "cell_type": "markdown",
   "id": "c2e208c9",
   "metadata": {},
   "source": [
    "## All the root to leaf paths\n",
    "\n",
    "Given graph print all the path from root to leaf.\n",
    "\n",
    "<center><h1>The Given Graph</h1></center>\n",
    "\n",
    "<img src='BT-6.png' alt='Binary Tree' width=400px height=400px/>\n",
    "\n",
    "**All The Paths**\n",
    "\n",
    "10 –> 8 –> 3 \n",
    "\n",
    "10 –> 8 –> 5 \n",
    "\n",
    "10 –> 2 –> 2\n",
    "\n",
    "**Approach**\n",
    "\n",
    "Print the path until the leaf is encountered."
   ]
  },
  {
   "cell_type": "code",
   "execution_count": 142,
   "id": "dc108ab5",
   "metadata": {},
   "outputs": [],
   "source": [
    "def allPaths(root):\n",
    "    paths=[]\n",
    "    printEachPath(root,paths,0)"
   ]
  },
  {
   "cell_type": "code",
   "execution_count": 141,
   "id": "7affc594",
   "metadata": {},
   "outputs": [],
   "source": [
    "def printEachPath(root,paths,pathLen):\n",
    "    if(root==None):\n",
    "        return 0\n",
    "    \n",
    "    #Storing the value of roots\n",
    "    #Path len variable keeps the value-index in check hence avoiding\n",
    "    if len(paths)>pathLen:\n",
    "        paths[pathLen]=root.val\n",
    "    else:\n",
    "        paths.append(root.val)\n",
    "    print(pathLen)\n",
    "    \n",
    "    pathLen+=1 \n",
    "    \n",
    "    if(root.left==None and root.right==None): #Leaf node is encountered\n",
    "        print(paths)\n",
    "    else:\n",
    "        printEachPath(root.left,paths,pathLen)\n",
    "        printEachPath(root.right,paths,pathLen)"
   ]
  },
  {
   "cell_type": "code",
   "execution_count": 143,
   "id": "ec659fba",
   "metadata": {},
   "outputs": [],
   "source": [
    "#The Tree\n",
    "class Node:\n",
    "    def __init__(self,val):\n",
    "        self.val=val\n",
    "        self.left=None\n",
    "        self.right=None\n",
    "        \n",
    "\n",
    "#Initializing nodes        \n",
    "A=Node(10);\n",
    "B=Node(8);\n",
    "C=Node(2);\n",
    "D=Node(3);\n",
    "E=Node(5);\n",
    "F=Node(2);\n",
    "\n",
    "#Assigning pointers\n",
    "A.left=B\n",
    "A.right=C\n",
    "B.left=D\n",
    "B.right=E\n",
    "C.right=F"
   ]
  },
  {
   "cell_type": "code",
   "execution_count": 146,
   "id": "1ea60098",
   "metadata": {},
   "outputs": [
    {
     "name": "stdout",
     "output_type": "stream",
     "text": [
      "0\n",
      "1\n",
      "2\n",
      "[10, 8, 3]\n",
      "2\n",
      "[10, 8, 5]\n",
      "1\n",
      "2\n",
      "[10, 2, 2]\n"
     ]
    }
   ],
   "source": [
    "allPaths(A)"
   ]
  },
  {
   "cell_type": "markdown",
   "id": "29a3d0a0",
   "metadata": {},
   "source": [
    "## hasPath Problem"
   ]
  },
  {
   "cell_type": "code",
   "execution_count": 185,
   "id": "df38f9de",
   "metadata": {},
   "outputs": [],
   "source": [
    "def hasPath(root,target,arr): #Array for appending elements\n",
    "    if(root==None):\n",
    "        return False\n",
    "    arr.append(root.val)\n",
    "    # if it is the required node\n",
    "    # return true\n",
    "    if(root.val==target):\n",
    "        return True\n",
    "    \n",
    "    # else check whether the required node\n",
    "    # lies in the left subtree or right\n",
    "    # subtree of the current node\n",
    "    if (hasPath(root.left,target,arr) or hasPath(root.right,target,arr)):\n",
    "        return True\n",
    "    \n",
    "    # required node does not lie either in\n",
    "    # the left or right subtree of the current\n",
    "    # node. Thus, remove current node's value \n",
    "    # from 'arr'and then return false\n",
    "    return False"
   ]
  },
  {
   "cell_type": "code",
   "execution_count": 186,
   "id": "04ffbc52",
   "metadata": {},
   "outputs": [
    {
     "data": {
      "text/plain": [
       "True"
      ]
     },
     "execution_count": 186,
     "metadata": {},
     "output_type": "execute_result"
    }
   ],
   "source": [
    "arr=[]\n",
    "hasPath(A,3,arr)"
   ]
  },
  {
   "cell_type": "code",
   "execution_count": 187,
   "id": "f9364448",
   "metadata": {},
   "outputs": [
    {
     "data": {
      "text/plain": [
       "[10, 8, 3]"
      ]
     },
     "execution_count": 187,
     "metadata": {},
     "output_type": "execute_result"
    }
   ],
   "source": [
    "arr"
   ]
  },
  {
   "cell_type": "code",
   "execution_count": 215,
   "id": "034f6150",
   "metadata": {},
   "outputs": [
    {
     "data": {
      "text/plain": [
       "[[2, 3, 6, 7], [2, 3, 6, 7], [2, 3, 6, 7], [2, 3, 6, 7]]"
      ]
     },
     "execution_count": 215,
     "metadata": {},
     "output_type": "execute_result"
    }
   ],
   "source": [
    "def combinationSum(candidates, target):\n",
    "        L=[]\n",
    "        for i in candidates:\n",
    "            ls=[]\n",
    "            tar=target\n",
    "            while(tar>0):\n",
    "                for j in candidates:\n",
    "                    tar=tar-j\n",
    "                    ls.append(j)  \n",
    "            L.append(ls)    \n",
    "        return L\n",
    "cand=[2,3,6,7]\n",
    "tar=7\n",
    "combinationSum(cand,tar)"
   ]
  },
  {
   "cell_type": "markdown",
   "id": "59f9ca8c",
   "metadata": {},
   "source": [
    "## In Order Traversal\n",
    "\n",
    "Traverse a binary tree in Left->Data->Right manner"
   ]
  },
  {
   "cell_type": "code",
   "execution_count": 11,
   "id": "c494d857",
   "metadata": {},
   "outputs": [],
   "source": [
    "def inOrder(root):\n",
    "    if root:\n",
    "        inOrder(root.left)\n",
    "        print(root.val)\n",
    "        inOrder(root.right)"
   ]
  },
  {
   "cell_type": "code",
   "execution_count": 10,
   "id": "e6058636",
   "metadata": {},
   "outputs": [],
   "source": [
    "class Node:\n",
    "    def __init__(self,val):\n",
    "        self.val=val\n",
    "        self.left=None\n",
    "        self.right=None\n",
    "        \n",
    "\n",
    "#Initializing nodes        \n",
    "A=Node('A');\n",
    "B=Node('B');\n",
    "C=Node('C');\n",
    "D=Node('D');\n",
    "E=Node('E');\n",
    "F=Node('F');\n",
    "\n",
    "#Assigning pointers\n",
    "A.left=B\n",
    "A.right=C\n",
    "B.left=D\n",
    "B.right=E\n",
    "C.right=F"
   ]
  },
  {
   "cell_type": "markdown",
   "id": "d547a704",
   "metadata": {},
   "source": [
    "<center><h1>The Graph</h1></center>\n",
    "<img src='BT-2a.jpeg' alt='The Tree' width=400px height=400px/>"
   ]
  },
  {
   "cell_type": "code",
   "execution_count": 12,
   "id": "c8e31492",
   "metadata": {},
   "outputs": [
    {
     "name": "stdout",
     "output_type": "stream",
     "text": [
      "D\n",
      "B\n",
      "E\n",
      "A\n",
      "C\n",
      "F\n"
     ]
    }
   ],
   "source": [
    "inOrder(A)"
   ]
  },
  {
   "cell_type": "markdown",
   "id": "36396e8f",
   "metadata": {},
   "source": [
    "## Post Order Traversal\n",
    "\n",
    "Traverse tree in left->right->data manner"
   ]
  },
  {
   "cell_type": "code",
   "execution_count": 13,
   "id": "1d19a1d4",
   "metadata": {},
   "outputs": [],
   "source": [
    "def postOrder(root):\n",
    "    if root:\n",
    "        postOrder(root.left)\n",
    "        postOrder(root.right)\n",
    "        print(root.val)"
   ]
  },
  {
   "cell_type": "code",
   "execution_count": 14,
   "id": "8c24e3ad",
   "metadata": {},
   "outputs": [
    {
     "name": "stdout",
     "output_type": "stream",
     "text": [
      "D\n",
      "E\n",
      "B\n",
      "F\n",
      "C\n",
      "A\n"
     ]
    }
   ],
   "source": [
    "postOrder(A)"
   ]
  },
  {
   "cell_type": "markdown",
   "id": "04e4be66",
   "metadata": {},
   "source": [
    "## Pre Order Traversal\n",
    "\n",
    "Traverse tree in data->left->right"
   ]
  },
  {
   "cell_type": "code",
   "execution_count": 15,
   "id": "2e4dbc31",
   "metadata": {},
   "outputs": [],
   "source": [
    "def preOrder(root):\n",
    "    if root:\n",
    "        print(root.val)\n",
    "        preOrder(root.left)\n",
    "        preOrder(root.right)"
   ]
  },
  {
   "cell_type": "code",
   "execution_count": 16,
   "id": "ce0b2742",
   "metadata": {},
   "outputs": [
    {
     "name": "stdout",
     "output_type": "stream",
     "text": [
      "A\n",
      "B\n",
      "D\n",
      "E\n",
      "C\n",
      "F\n"
     ]
    }
   ],
   "source": [
    "preOrder(A)"
   ]
  },
  {
   "cell_type": "markdown",
   "id": "68492ec6",
   "metadata": {},
   "source": [
    "## InOrder Traversal using a Stack\n",
    "\n",
    "**Approach**\n",
    "\n",
    "The graph nodes are in this order A B C D E F\n",
    "\n",
    "visited= D,B,E,A,C,F\n",
    "\n",
    "push(A)\n",
    "\n",
    "current=B\n",
    "\n",
    "push(B)\n",
    "\n",
    "current=D\n",
    "\n",
    "push(D)\n",
    "\n",
    "current=None\n",
    "\n",
    "D.pop()\n",
    "\n",
    "current=D\n",
    "\n",
    "print(D)\n",
    "\n",
    "current=None\n",
    "\n",
    "B.pop()\n",
    "\n",
    "current=B\n",
    "\n",
    "print(B)\n",
    "\n",
    "current=E\n",
    "\n",
    "push(E)\n",
    "\n",
    "current=None\n",
    "\n",
    "E.pop()                  \n",
    "\n",
    "print(E)\n",
    "\n",
    "current=None\n",
    "\n",
    "A.pop()\n",
    "\n",
    "print(A)\n",
    "\n",
    "push(C)\n",
    "\n",
    "current=None\n",
    "\n",
    "C.pop()\n",
    "\n",
    "print(C)\n",
    "\n",
    "push(F)\n",
    "\n",
    "current=None\n",
    "\n",
    "F.pop()\n",
    "\n",
    "print(F)\n",
    "\n",
    "current=None\n",
    "\n",
    "len(stack==0)\n",
    "\n",
    "break"
   ]
  },
  {
   "cell_type": "code",
   "execution_count": 19,
   "id": "384addb7",
   "metadata": {},
   "outputs": [],
   "source": [
    "def inOrderS(root):\n",
    "    stack=[]\n",
    "    current=root\n",
    "    while True:\n",
    "        # Reach the left most Node of the current Node\n",
    "        if current is not None:\n",
    "            \n",
    "            # Place pointer to a tree node on the stack\n",
    "            # before traversing the node's left subtree\n",
    "            stack.append(current) #pushed to the last\n",
    "            \n",
    "            current=current.left\n",
    "        \n",
    "        # BackTrack from the empty subtree and visit the Node\n",
    "        # at the top of the stack; however, if the stack is\n",
    "        # empty you are done\n",
    "        elif(stack):\n",
    "            current=stack.pop()\n",
    "            print(current.val)\n",
    "            \n",
    "            #Now visit the right subtree\n",
    "            current=current.right\n",
    "            \n",
    "        else:\n",
    "            break\n",
    "        "
   ]
  },
  {
   "cell_type": "code",
   "execution_count": 20,
   "id": "bc6ea4cf",
   "metadata": {},
   "outputs": [
    {
     "name": "stdout",
     "output_type": "stream",
     "text": [
      "D\n",
      "B\n",
      "E\n",
      "A\n",
      "C\n",
      "F\n"
     ]
    }
   ],
   "source": [
    "inOrderS(A)"
   ]
  },
  {
   "cell_type": "markdown",
   "id": "24eb97e7",
   "metadata": {},
   "source": [
    "## Construct a tree on the basis of given inorder and preorder sequence\n",
    "\n",
    "Inorder sequence: D B E A F C\n",
    "\n",
    "Preorder sequence: A B D E C F\n",
    "\n",
    "https://www.geeksforgeeks.org/construct-tree-from-given-inorder-and-preorder-traversal/?ref=lbp"
   ]
  },
  {
   "cell_type": "code",
   "execution_count": null,
   "id": "7dfe339f",
   "metadata": {},
   "outputs": [],
   "source": []
  }
 ],
 "metadata": {
  "kernelspec": {
   "display_name": "Python 3",
   "language": "python",
   "name": "python3"
  },
  "language_info": {
   "codemirror_mode": {
    "name": "ipython",
    "version": 3
   },
   "file_extension": ".py",
   "mimetype": "text/x-python",
   "name": "python",
   "nbconvert_exporter": "python",
   "pygments_lexer": "ipython3",
   "version": "3.8.8"
  }
 },
 "nbformat": 4,
 "nbformat_minor": 5
}
