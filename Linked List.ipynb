{
 "cells": [
  {
   "cell_type": "markdown",
   "id": "64a51871",
   "metadata": {},
   "source": [
    "# Linked List\n",
    "\n",
    "Creating a linked list:\n",
    "\n",
    "A->B->C->D->E->F"
   ]
  },
  {
   "cell_type": "code",
   "execution_count": 1,
   "id": "dcd87a77",
   "metadata": {},
   "outputs": [],
   "source": [
    "class Node:\n",
    "    def __init__(self,val):\n",
    "        self.val=val\n",
    "        self.next=None\n",
    "A=Node('A')\n",
    "B=Node('B')\n",
    "C=Node('C')\n",
    "D=Node('D')\n",
    "E=Node('E')\n",
    "F=Node('F')\n",
    "\n",
    "A.next=B\n",
    "B.next=C\n",
    "C.next=D\n",
    "D.next=E\n",
    "E.next=F"
   ]
  },
  {
   "cell_type": "markdown",
   "id": "34304fe5",
   "metadata": {},
   "source": [
    "## Traversal of Linked List"
   ]
  },
  {
   "cell_type": "code",
   "execution_count": 20,
   "id": "c0b8d6ca",
   "metadata": {},
   "outputs": [],
   "source": [
    "#iterative approach\n",
    "def printLinkList(head):\n",
    "    current=head\n",
    "    while(not(current==None)): #So we do not place current.next==None here as it is going to cut the iteration short.\n",
    "        print(current.val,end='->')\n",
    "        current=current.next\n",
    "    print('NULL')"
   ]
  },
  {
   "cell_type": "code",
   "execution_count": 21,
   "id": "a24035b5",
   "metadata": {},
   "outputs": [
    {
     "name": "stdout",
     "output_type": "stream",
     "text": [
      "A->B->C->D->E->F->NULL\n"
     ]
    }
   ],
   "source": [
    "printLinkList(A)"
   ]
  },
  {
   "cell_type": "code",
   "execution_count": 22,
   "id": "eeaa87d3",
   "metadata": {},
   "outputs": [],
   "source": [
    "#Recursive Approach\n",
    "def printLinkListR(head):\n",
    "    if(head==None):\n",
    "        print('NULL')\n",
    "        return None\n",
    "    print(head.val,end='->')\n",
    "    printLinkListR(head.next)"
   ]
  },
  {
   "cell_type": "code",
   "execution_count": 23,
   "id": "609b2af1",
   "metadata": {},
   "outputs": [
    {
     "name": "stdout",
     "output_type": "stream",
     "text": [
      "A->B->C->D->E->F->NULL\n"
     ]
    }
   ],
   "source": [
    "printLinkListR(A)"
   ]
  },
  {
   "cell_type": "markdown",
   "id": "ff24e957",
   "metadata": {},
   "source": [
    "## Checking if there is any loop in linked list\n",
    "\n",
    "A->B->C->D->E->F->A.... so on\n",
    "\n",
    "We can't print it as it is going to be an infinte loop.\n",
    "\n",
    "To detect the loop we can simply place two pointers running simultaneously and if they become equal then a loop is there."
   ]
  },
  {
   "cell_type": "code",
   "execution_count": 46,
   "id": "d9aee9a4",
   "metadata": {},
   "outputs": [],
   "source": [
    "#It is a looped linked list\n",
    "class Node:\n",
    "    def __init__(self,val):\n",
    "        self.val=val\n",
    "        self.next=None\n",
    "A=Node('A')\n",
    "B=Node('B')\n",
    "C=Node('C')\n",
    "D=Node('D')\n",
    "E=Node('E')\n",
    "F=Node('F')\n",
    "\n",
    "A.next=B\n",
    "B.next=C\n",
    "C.next=D\n",
    "D.next=E\n",
    "E.next=F\n",
    "F.next=A"
   ]
  },
  {
   "cell_type": "code",
   "execution_count": 47,
   "id": "36931cf5",
   "metadata": {},
   "outputs": [],
   "source": [
    "def detectLoop(head):\n",
    "    if(head==None):\n",
    "        return None\n",
    "    current1=head\n",
    "    current2=head\n",
    "    flag=0\n",
    "    while True:\n",
    "        current1=current1.next\n",
    "        current2=current2.next.next\n",
    "        if(current1==current2):\n",
    "            flag=1\n",
    "            break\n",
    "    if(flag==1):\n",
    "        print(\"The Loop exists!\")\n",
    "    else:\n",
    "        print(\"No loop!\")"
   ]
  },
  {
   "cell_type": "code",
   "execution_count": 48,
   "id": "8f0c84ac",
   "metadata": {},
   "outputs": [
    {
     "name": "stdout",
     "output_type": "stream",
     "text": [
      "The Loop exists!\n"
     ]
    }
   ],
   "source": [
    "detectLoop(A)"
   ]
  },
  {
   "cell_type": "code",
   "execution_count": 52,
   "id": "b5c07516",
   "metadata": {},
   "outputs": [],
   "source": [
    "#Graph without loop since it has no loop it will cause error.\n",
    "class Node:\n",
    "    def __init__(self,val):\n",
    "        self.val=val\n",
    "        self.next=None\n",
    "A=Node('A')\n",
    "B=Node('B')\n",
    "C=Node('C')\n",
    "D=Node('D')\n",
    "E=Node('E')\n",
    "F=Node('F')\n",
    "\n",
    "A.next=B\n",
    "B.next=C\n",
    "C.next=D\n",
    "D.next=E\n",
    "E.next=F"
   ]
  },
  {
   "cell_type": "code",
   "execution_count": 50,
   "id": "e625cc7e",
   "metadata": {},
   "outputs": [
    {
     "ename": "AttributeError",
     "evalue": "'NoneType' object has no attribute 'next'",
     "output_type": "error",
     "traceback": [
      "\u001b[1;31m---------------------------------------------------------------------------\u001b[0m",
      "\u001b[1;31mAttributeError\u001b[0m                            Traceback (most recent call last)",
      "\u001b[1;32m<ipython-input-50-ac9ae26151cc>\u001b[0m in \u001b[0;36m<module>\u001b[1;34m\u001b[0m\n\u001b[1;32m----> 1\u001b[1;33m \u001b[0mdetectLoop\u001b[0m\u001b[1;33m(\u001b[0m\u001b[0mA\u001b[0m\u001b[1;33m)\u001b[0m\u001b[1;33m\u001b[0m\u001b[1;33m\u001b[0m\u001b[0m\n\u001b[0m",
      "\u001b[1;32m<ipython-input-47-249c58469c13>\u001b[0m in \u001b[0;36mdetectLoop\u001b[1;34m(head)\u001b[0m\n\u001b[0;32m      7\u001b[0m     \u001b[1;32mwhile\u001b[0m \u001b[1;32mTrue\u001b[0m\u001b[1;33m:\u001b[0m\u001b[1;33m\u001b[0m\u001b[1;33m\u001b[0m\u001b[0m\n\u001b[0;32m      8\u001b[0m         \u001b[0mcurrent1\u001b[0m\u001b[1;33m=\u001b[0m\u001b[0mcurrent1\u001b[0m\u001b[1;33m.\u001b[0m\u001b[0mnext\u001b[0m\u001b[1;33m\u001b[0m\u001b[1;33m\u001b[0m\u001b[0m\n\u001b[1;32m----> 9\u001b[1;33m         \u001b[0mcurrent2\u001b[0m\u001b[1;33m=\u001b[0m\u001b[0mcurrent2\u001b[0m\u001b[1;33m.\u001b[0m\u001b[0mnext\u001b[0m\u001b[1;33m.\u001b[0m\u001b[0mnext\u001b[0m\u001b[1;33m\u001b[0m\u001b[1;33m\u001b[0m\u001b[0m\n\u001b[0m\u001b[0;32m     10\u001b[0m         \u001b[1;32mif\u001b[0m\u001b[1;33m(\u001b[0m\u001b[0mcurrent1\u001b[0m\u001b[1;33m==\u001b[0m\u001b[0mcurrent2\u001b[0m\u001b[1;33m)\u001b[0m\u001b[1;33m:\u001b[0m\u001b[1;33m\u001b[0m\u001b[1;33m\u001b[0m\u001b[0m\n\u001b[0;32m     11\u001b[0m             \u001b[0mflag\u001b[0m\u001b[1;33m=\u001b[0m\u001b[1;36m1\u001b[0m\u001b[1;33m\u001b[0m\u001b[1;33m\u001b[0m\u001b[0m\n",
      "\u001b[1;31mAttributeError\u001b[0m: 'NoneType' object has no attribute 'next'"
     ]
    }
   ],
   "source": [
    "detectLoop(A)"
   ]
  },
  {
   "cell_type": "markdown",
   "id": "9dc177e0",
   "metadata": {},
   "source": [
    "## Linked List Values Problem\n",
    "\n",
    "Return an array with all the values of linked list"
   ]
  },
  {
   "cell_type": "code",
   "execution_count": 51,
   "id": "a1982393",
   "metadata": {},
   "outputs": [],
   "source": [
    "#Iterative Approach\n",
    "def values(head):\n",
    "    if(head==None):\n",
    "        return []\n",
    "    result=[]\n",
    "    current=head\n",
    "    while(current is not None):\n",
    "        result.append(current.val)\n",
    "        current=current.next\n",
    "    return result"
   ]
  },
  {
   "cell_type": "code",
   "execution_count": 53,
   "id": "dbed6116",
   "metadata": {},
   "outputs": [
    {
     "data": {
      "text/plain": [
       "['A', 'B', 'C', 'D', 'E', 'F']"
      ]
     },
     "execution_count": 53,
     "metadata": {},
     "output_type": "execute_result"
    }
   ],
   "source": [
    "values(A)"
   ]
  },
  {
   "cell_type": "code",
   "execution_count": 61,
   "id": "cc7ab779",
   "metadata": {},
   "outputs": [],
   "source": [
    "#Recursive Approach O(N) complexity\n",
    "def valuesR(head):\n",
    "    values=[]\n",
    "    fillValues(head,values)\n",
    "    return values"
   ]
  },
  {
   "cell_type": "code",
   "execution_count": 60,
   "id": "aad62908",
   "metadata": {},
   "outputs": [],
   "source": [
    "def fillValues(head,values):\n",
    "    if(head==None):\n",
    "        return\n",
    "    values.append(head.val)\n",
    "    fillValues(head.next,values)"
   ]
  },
  {
   "cell_type": "code",
   "execution_count": 62,
   "id": "178ceff5",
   "metadata": {},
   "outputs": [
    {
     "data": {
      "text/plain": [
       "['A', 'B', 'C', 'D', 'E', 'F']"
      ]
     },
     "execution_count": 62,
     "metadata": {},
     "output_type": "execute_result"
    }
   ],
   "source": [
    "valuesR(A)"
   ]
  },
  {
   "cell_type": "markdown",
   "id": "3a86b401",
   "metadata": {},
   "source": [
    "## Sum of the List"
   ]
  },
  {
   "cell_type": "code",
   "execution_count": 66,
   "id": "54d34da9",
   "metadata": {},
   "outputs": [],
   "source": [
    "#Iterative Approach\n",
    "def sumList(head):\n",
    "    if(head is None):\n",
    "        return 0\n",
    "    s=0\n",
    "    current=head\n",
    "    while(current is not None):\n",
    "        s+=current.val\n",
    "        current=current.next\n",
    "    return s"
   ]
  },
  {
   "cell_type": "code",
   "execution_count": 67,
   "id": "4acd7d78",
   "metadata": {},
   "outputs": [],
   "source": [
    "class Node:\n",
    "    def __init__(self,val):\n",
    "        self.val=val\n",
    "        self.next=None\n",
    "A=Node(1)\n",
    "B=Node(2)\n",
    "C=Node(3)\n",
    "D=Node(4)\n",
    "\n",
    "\n",
    "A.next=B\n",
    "B.next=C\n",
    "C.next=D\n"
   ]
  },
  {
   "cell_type": "code",
   "execution_count": 68,
   "id": "1ebf2399",
   "metadata": {},
   "outputs": [
    {
     "data": {
      "text/plain": [
       "10"
      ]
     },
     "execution_count": 68,
     "metadata": {},
     "output_type": "execute_result"
    }
   ],
   "source": [
    "sumList(A)"
   ]
  },
  {
   "cell_type": "code",
   "execution_count": 75,
   "id": "578f7f92",
   "metadata": {},
   "outputs": [],
   "source": [
    "#Recursive Approach Complexity O(N)\n",
    "def sumListR(head):\n",
    "    if(head is None):\n",
    "        return 0\n",
    "    return head.val+sumListR(head.next) #It will keep calling until we encounter 0"
   ]
  },
  {
   "cell_type": "code",
   "execution_count": 76,
   "id": "fb3f0167",
   "metadata": {},
   "outputs": [
    {
     "data": {
      "text/plain": [
       "10"
      ]
     },
     "execution_count": 76,
     "metadata": {},
     "output_type": "execute_result"
    }
   ],
   "source": [
    "sumListR(A)"
   ]
  },
  {
   "cell_type": "markdown",
   "id": "1372e29b",
   "metadata": {},
   "source": [
    "## Search for element in linked list\n",
    "\n",
    "Given a value x and linked list. Find whether the value is in the linked list"
   ]
  },
  {
   "cell_type": "code",
   "execution_count": 88,
   "id": "6f731856",
   "metadata": {},
   "outputs": [],
   "source": [
    "#Iterative Approach\n",
    "def find(head,x):\n",
    "    if(head==None):\n",
    "        return False\n",
    "    flag=0\n",
    "    current=head\n",
    "    while(current is not None):\n",
    "        if(current.val==x):\n",
    "            return True\n",
    "        print(current.val,end=' ')\n",
    "        current=current.next\n",
    "    return False"
   ]
  },
  {
   "cell_type": "code",
   "execution_count": 89,
   "id": "91df2755",
   "metadata": {},
   "outputs": [
    {
     "name": "stdout",
     "output_type": "stream",
     "text": [
      "1 2 3 4 "
     ]
    },
    {
     "data": {
      "text/plain": [
       "False"
      ]
     },
     "execution_count": 89,
     "metadata": {},
     "output_type": "execute_result"
    }
   ],
   "source": [
    "find(A,10)"
   ]
  },
  {
   "cell_type": "code",
   "execution_count": 90,
   "id": "d8cffbfa",
   "metadata": {},
   "outputs": [],
   "source": [
    "#recursive Approach\n",
    "def findR(head,x):\n",
    "    if(head==None):\n",
    "        return False\n",
    "    if(head.val==x):\n",
    "        return True\n",
    "    return findR(head.next,x)"
   ]
  },
  {
   "cell_type": "code",
   "execution_count": 93,
   "id": "c6f58a0f",
   "metadata": {},
   "outputs": [
    {
     "data": {
      "text/plain": [
       "True"
      ]
     },
     "execution_count": 93,
     "metadata": {},
     "output_type": "execute_result"
    }
   ],
   "source": [
    "findR(A,4)"
   ]
  },
  {
   "cell_type": "markdown",
   "id": "fc0fa78c",
   "metadata": {},
   "source": [
    "## Get Node Value\n",
    "\n",
    "Given an index and linked list. Return the node value at that index.\n",
    "\n",
    "Complexity=Time : O(N)"
   ]
  },
  {
   "cell_type": "code",
   "execution_count": 102,
   "id": "fc5bc7e5",
   "metadata": {},
   "outputs": [],
   "source": [
    "#Iterative Approach Space Complexity O(N)\n",
    "def getNodeValue(head,index):\n",
    "    if(head==None):\n",
    "        return None\n",
    "    count=0\n",
    "    current=head\n",
    "    while(current is not None):\n",
    "        if(index==count):\n",
    "            return current.val\n",
    "        current=current.next\n",
    "        count+=1\n",
    "    return None\n",
    "    "
   ]
  },
  {
   "cell_type": "code",
   "execution_count": 103,
   "id": "cc31cae2",
   "metadata": {},
   "outputs": [
    {
     "data": {
      "text/plain": [
       "3"
      ]
     },
     "execution_count": 103,
     "metadata": {},
     "output_type": "execute_result"
    }
   ],
   "source": [
    "getNodeValue(A,2)"
   ]
  },
  {
   "cell_type": "code",
   "execution_count": 104,
   "id": "389c9d8d",
   "metadata": {},
   "outputs": [],
   "source": [
    "#Recursive Approach Space Complexity O(1)\n",
    "def getNodeR(head,index):\n",
    "    if(head is None):\n",
    "        return None\n",
    "    if(index == 0):\n",
    "        return head.val\n",
    "    return getNodeR(head.next,index-1)"
   ]
  },
  {
   "cell_type": "code",
   "execution_count": 105,
   "id": "cd12312a",
   "metadata": {},
   "outputs": [
    {
     "data": {
      "text/plain": [
       "3"
      ]
     },
     "execution_count": 105,
     "metadata": {},
     "output_type": "execute_result"
    }
   ],
   "source": [
    "getNodeR(A,2)"
   ]
  },
  {
   "cell_type": "markdown",
   "id": "14fabce5",
   "metadata": {},
   "source": [
    "## Reverse Linked List\n",
    "\n",
    "Given list\n",
    "\n",
    "A->B->C->D->E->F\n",
    "\n",
    "Return \n",
    "\n",
    "F->E->D->C->B->A\n",
    "\n",
    "**Approach**\n",
    "\n",
    "Make a previous pointer and set its value to None for start. After every iteration/call assign the current node's next to prev and at the same time store its next node value in a temporary variable. After this assign the next to current and current to previous.\n",
    "\n",
    "NULL    A->B->C->D->E\n",
    "\n",
    "prev=NULL  current=A  next=B\n",
    "\n",
    "prev=A     current=B  next=C\n",
    "\n",
    "...\n",
    "\n",
    "\n",
    "https://www.youtube.com/watch?v=Hj_rA0dhr2I"
   ]
  },
  {
   "cell_type": "code",
   "execution_count": 122,
   "id": "8aa00052",
   "metadata": {},
   "outputs": [],
   "source": [
    "#Iterative Approach\n",
    "def reverseList(head):\n",
    "    if(head is None):\n",
    "        return None\n",
    "    prev=None\n",
    "    current=head\n",
    "    while(current is not None):\n",
    "        temp=current.next        #Temporary variable to store the next node's reference\n",
    "        current.next=prev        #Now current.next will point to previous\n",
    "        prev=current             #Now previous is going to be current\n",
    "        current=temp             #Assign the next node's reference to current\n",
    "    return prev.val                  #Return the prev as it is going to be the new head\n",
    "         \n",
    "def printList(head):\n",
    "    current=head\n",
    "    while(current is not None):\n",
    "        print(current.val,end='->')\n",
    "        current=current.next\n",
    "    print('NULL')"
   ]
  },
  {
   "cell_type": "code",
   "execution_count": 123,
   "id": "88118e4a",
   "metadata": {},
   "outputs": [],
   "source": [
    "#Graph without loop since it has no loop it will cause error.\n",
    "class Node:\n",
    "    def __init__(self,val):\n",
    "        self.val=val\n",
    "        self.next=None\n",
    "A=Node('A')\n",
    "B=Node('B')\n",
    "C=Node('C')\n",
    "D=Node('D')\n",
    "E=Node('E')\n",
    "F=Node('F')\n",
    "\n",
    "A.next=B\n",
    "B.next=C\n",
    "C.next=D\n",
    "D.next=E\n",
    "E.next=F"
   ]
  },
  {
   "cell_type": "code",
   "execution_count": 124,
   "id": "e8393b13",
   "metadata": {},
   "outputs": [],
   "source": [
    "New_head=reverseList(A)"
   ]
  },
  {
   "cell_type": "code",
   "execution_count": 125,
   "id": "15895183",
   "metadata": {},
   "outputs": [
    {
     "name": "stdout",
     "output_type": "stream",
     "text": [
      "F->E->D->C->B->A->NULL\n"
     ]
    }
   ],
   "source": [
    "printList(F)"
   ]
  },
  {
   "cell_type": "code",
   "execution_count": 126,
   "id": "446f09a4",
   "metadata": {},
   "outputs": [],
   "source": [
    "#Recursive Approach\n",
    "def reverseListR(head,prev=None):\n",
    "    if(head is None):\n",
    "        return prev\n",
    "    temp=head.next\n",
    "    return reverseListR(temp,head)\n",
    "    \n",
    "    "
   ]
  },
  {
   "cell_type": "code",
   "execution_count": 128,
   "id": "3728caed",
   "metadata": {},
   "outputs": [
    {
     "name": "stdout",
     "output_type": "stream",
     "text": [
      "A->NULL\n"
     ]
    }
   ],
   "source": [
    "printList(reverseListR(F))"
   ]
  },
  {
   "cell_type": "markdown",
   "id": "96888a14",
   "metadata": {},
   "source": [
    "## Zipper List \n",
    "\n",
    "Given two linked list:\n",
    "\n",
    "A->B->C\n",
    "\n",
    "P->Q->R\n",
    "\n",
    "zip them in one.\n",
    "\n",
    "A->P->B->Q->C->R\n",
    "\n",
    "Note:- Both the lists are not empty\n",
    "\n",
    "In below given case.. Do the following\n",
    "\n",
    "<img src='LL-1a.jpeg' alt='Linked List Image' width=400px height=400px/>\n",
    "\n",
    "**Complexity in Iterative Case**\n",
    "\n",
    "n=length of list 1\n",
    "\n",
    "m=length of list 2\n",
    "\n",
    "Time: O(min(n,m))\n",
    "\n",
    "Space: O(1)"
   ]
  },
  {
   "cell_type": "code",
   "execution_count": 137,
   "id": "98316a5f",
   "metadata": {},
   "outputs": [],
   "source": [
    "def zipper(head1,head2):\n",
    "    count=0\n",
    "    tail=head1\n",
    "    current1=head1.next\n",
    "    current2=head2\n",
    "    while((current1 is not None) and (current2 is not None)):\n",
    "        if(count%2==0):\n",
    "            tail.next=current2\n",
    "            current2=current2.next\n",
    "        else:\n",
    "            tail.next=current1\n",
    "            current1=current1.next\n",
    "        tail=tail.next\n",
    "        count+=1\n",
    "    if(current1 is not None):\n",
    "        tail.next=current1\n",
    "    if(current2 is not None):\n",
    "        tail.next=current2\n",
    "        \n",
    "    return head1"
   ]
  },
  {
   "cell_type": "code",
   "execution_count": 146,
   "id": "9101632d",
   "metadata": {},
   "outputs": [],
   "source": [
    "#Graph without loop since it has no loop it will cause error.\n",
    "class Node:\n",
    "    def __init__(self,val):\n",
    "        self.val=val\n",
    "        self.next=None\n",
    "A=Node('A')\n",
    "B=Node('B')\n",
    "C=Node('C')\n",
    "D=Node('D')\n",
    "E=Node('E')\n",
    "F=Node('F')\n",
    "\n",
    "A.next=B\n",
    "B.next=C\n",
    "C.next=D\n",
    "D.next=E\n",
    "E.next=F"
   ]
  },
  {
   "cell_type": "code",
   "execution_count": 147,
   "id": "7dca348f",
   "metadata": {},
   "outputs": [],
   "source": [
    "P=Node('P')\n",
    "Q=Node('Q')\n",
    "R=Node('R')\n",
    "\n",
    "P.next=Q\n",
    "Q.next=R"
   ]
  },
  {
   "cell_type": "code",
   "execution_count": 141,
   "id": "d86dc00f",
   "metadata": {},
   "outputs": [],
   "source": [
    "new_node=zipper(A,P)"
   ]
  },
  {
   "cell_type": "code",
   "execution_count": 142,
   "id": "08870aab",
   "metadata": {},
   "outputs": [
    {
     "data": {
      "text/plain": [
       "'A'"
      ]
     },
     "execution_count": 142,
     "metadata": {},
     "output_type": "execute_result"
    }
   ],
   "source": [
    "new_node.val"
   ]
  },
  {
   "cell_type": "code",
   "execution_count": 148,
   "id": "6477c12b",
   "metadata": {},
   "outputs": [],
   "source": [
    "#Recursive Approach\n",
    "def zipperR(head1,head2):\n",
    "    if((head1 is None) and (head2 is None)):\n",
    "        return None\n",
    "    if(head1==None):\n",
    "        return head2\n",
    "    if(head2==None):\n",
    "        return head1\n",
    "    \n",
    "    next1=head1.next\n",
    "    next2=head2.next\n",
    "    \n",
    "    head1.next=head2\n",
    "    head2.next=zipperR(next1,next2)\n",
    "    \n",
    "    return head1"
   ]
  },
  {
   "cell_type": "code",
   "execution_count": 150,
   "id": "80909bef",
   "metadata": {},
   "outputs": [],
   "source": [
    "newnode=zipperR(A,P)"
   ]
  },
  {
   "cell_type": "code",
   "execution_count": 151,
   "id": "717c841d",
   "metadata": {},
   "outputs": [
    {
     "data": {
      "text/plain": [
       "'A'"
      ]
     },
     "execution_count": 151,
     "metadata": {},
     "output_type": "execute_result"
    }
   ],
   "source": [
    "newnode.val"
   ]
  },
  {
   "cell_type": "markdown",
   "id": "595dda6b",
   "metadata": {},
   "source": [
    "# Printing num presented by linked list"
   ]
  },
  {
   "cell_type": "code",
   "execution_count": 4,
   "id": "029404dc",
   "metadata": {},
   "outputs": [],
   "source": [
    "def printingNum(head):\n",
    "    if head is None:\n",
    "        return ''\n",
    "    num=''\n",
    "    while head is not None:\n",
    "        num+=str(head.val)\n",
    "        head=head.next\n",
    "    return int(num)"
   ]
  },
  {
   "cell_type": "code",
   "execution_count": 79,
   "id": "165c83fb",
   "metadata": {},
   "outputs": [],
   "source": [
    "class Node:\n",
    "    def __init__(self,val):\n",
    "        self.val=val\n",
    "        self.next=None\n",
    "        \n",
    "A=Node(1)\n",
    "B=Node(2)\n",
    "C=Node(3)\n",
    "D=Node(4)\n",
    "\n",
    "\n",
    "A.next=B\n",
    "B.next=C\n",
    "C.next=D\n",
    "\n",
    "P=Node(2)\n",
    "Q=Node(3)\n",
    "R=Node(4)\n",
    "\n",
    "P.next=Q\n",
    "Q.next=R"
   ]
  },
  {
   "cell_type": "code",
   "execution_count": 6,
   "id": "bf76d70b",
   "metadata": {},
   "outputs": [
    {
     "data": {
      "text/plain": [
       "1234"
      ]
     },
     "execution_count": 6,
     "metadata": {},
     "output_type": "execute_result"
    }
   ],
   "source": [
    "printingNum(A)"
   ]
  },
  {
   "cell_type": "markdown",
   "id": "00dd2f2d",
   "metadata": {},
   "source": [
    "# Adding two numbers presented by a linked list and return list of the third number"
   ]
  },
  {
   "cell_type": "code",
   "execution_count": 32,
   "id": "e748ef06",
   "metadata": {},
   "outputs": [],
   "source": [
    "def insertNode(head,val):\n",
    "\n",
    "    if(head==None):\n",
    "        temp=Node(val)\n",
    "        \n",
    "        head=temp\n",
    "    else:\n",
    "        temp=head\n",
    "        while(temp is not None):\n",
    "            temp=temp.next\n",
    "        r=Node(val)\n",
    "        temp.next=r\n",
    "    "
   ]
  },
  {
   "cell_type": "code",
   "execution_count": 143,
   "id": "458adc7a",
   "metadata": {},
   "outputs": [],
   "source": [
    "def addingNum(head1,head2):\n",
    "    if (head1 is None):\n",
    "        return head2\n",
    "    if (head2 is None):\n",
    "        return head1\n",
    "    if (head1 is None) and (head2 is None):\n",
    "        return None\n",
    "    num1=''\n",
    "    while head1 is not None:\n",
    "        num1+=str(head1.val)\n",
    "        head1=head1.next\n",
    "    num1=int(num1)\n",
    "    \n",
    "    num2=''\n",
    "    while head2 is not None:\n",
    "        num2+=str(head2.val)\n",
    "        head2=head2.next\n",
    "    num2=int(num2)\n",
    "    \n",
    "    res=num1+num2\n",
    "    result=[]\n",
    "    while(res>0):\n",
    "        rem=res%10\n",
    "        res=res//10\n",
    "        \n",
    "        result.append(rem)\n",
    "    result.reverse()\n",
    "    print(result)\n",
    "    root=arrayToList(result,len(result))\n",
    "        \n",
    "    return root"
   ]
  },
  {
   "cell_type": "code",
   "execution_count": 144,
   "id": "384fa13a",
   "metadata": {},
   "outputs": [
    {
     "ename": "ValueError",
     "evalue": "invalid literal for int() with base 10: 'A'",
     "output_type": "error",
     "traceback": [
      "\u001b[1;31m---------------------------------------------------------------------------\u001b[0m",
      "\u001b[1;31mValueError\u001b[0m                                Traceback (most recent call last)",
      "\u001b[1;32m<ipython-input-144-766e798db49e>\u001b[0m in \u001b[0;36m<module>\u001b[1;34m\u001b[0m\n\u001b[1;32m----> 1\u001b[1;33m \u001b[0mN\u001b[0m\u001b[1;33m=\u001b[0m\u001b[0maddingNum\u001b[0m\u001b[1;33m(\u001b[0m\u001b[0mA\u001b[0m\u001b[1;33m,\u001b[0m\u001b[0mP\u001b[0m\u001b[1;33m)\u001b[0m\u001b[1;33m\u001b[0m\u001b[1;33m\u001b[0m\u001b[0m\n\u001b[0m",
      "\u001b[1;32m<ipython-input-143-22ce8ca404e3>\u001b[0m in \u001b[0;36maddingNum\u001b[1;34m(head1, head2)\u001b[0m\n\u001b[0;32m     10\u001b[0m         \u001b[0mnum1\u001b[0m\u001b[1;33m+=\u001b[0m\u001b[0mstr\u001b[0m\u001b[1;33m(\u001b[0m\u001b[0mhead1\u001b[0m\u001b[1;33m.\u001b[0m\u001b[0mval\u001b[0m\u001b[1;33m)\u001b[0m\u001b[1;33m\u001b[0m\u001b[1;33m\u001b[0m\u001b[0m\n\u001b[0;32m     11\u001b[0m         \u001b[0mhead1\u001b[0m\u001b[1;33m=\u001b[0m\u001b[0mhead1\u001b[0m\u001b[1;33m.\u001b[0m\u001b[0mnext\u001b[0m\u001b[1;33m\u001b[0m\u001b[1;33m\u001b[0m\u001b[0m\n\u001b[1;32m---> 12\u001b[1;33m     \u001b[0mnum1\u001b[0m\u001b[1;33m=\u001b[0m\u001b[0mint\u001b[0m\u001b[1;33m(\u001b[0m\u001b[0mnum1\u001b[0m\u001b[1;33m)\u001b[0m\u001b[1;33m\u001b[0m\u001b[1;33m\u001b[0m\u001b[0m\n\u001b[0m\u001b[0;32m     13\u001b[0m \u001b[1;33m\u001b[0m\u001b[0m\n\u001b[0;32m     14\u001b[0m     \u001b[0mnum2\u001b[0m\u001b[1;33m=\u001b[0m\u001b[1;34m''\u001b[0m\u001b[1;33m\u001b[0m\u001b[1;33m\u001b[0m\u001b[0m\n",
      "\u001b[1;31mValueError\u001b[0m: invalid literal for int() with base 10: 'A'"
     ]
    }
   ],
   "source": [
    "N=addingNum(A,P)"
   ]
  },
  {
   "cell_type": "code",
   "execution_count": 145,
   "id": "5288259a",
   "metadata": {},
   "outputs": [],
   "source": [
    "def printLinkList(head):\n",
    "    current=head\n",
    "    while(not(current==None)): #So we do not place current.next==None here as it is going to cut the iteration short.\n",
    "        print(current.val,end='->')\n",
    "        current=current.next\n",
    "    print('NULL')"
   ]
  },
  {
   "cell_type": "code",
   "execution_count": 146,
   "id": "419dfc75",
   "metadata": {},
   "outputs": [
    {
     "ename": "NameError",
     "evalue": "name 'N' is not defined",
     "output_type": "error",
     "traceback": [
      "\u001b[1;31m---------------------------------------------------------------------------\u001b[0m",
      "\u001b[1;31mNameError\u001b[0m                                 Traceback (most recent call last)",
      "\u001b[1;32m<ipython-input-146-3d0e86d816a8>\u001b[0m in \u001b[0;36m<module>\u001b[1;34m\u001b[0m\n\u001b[1;32m----> 1\u001b[1;33m \u001b[0mprintLinkList\u001b[0m\u001b[1;33m(\u001b[0m\u001b[0mN\u001b[0m\u001b[1;33m)\u001b[0m\u001b[1;33m\u001b[0m\u001b[1;33m\u001b[0m\u001b[0m\n\u001b[0m",
      "\u001b[1;31mNameError\u001b[0m: name 'N' is not defined"
     ]
    }
   ],
   "source": [
    "printLinkList(N)"
   ]
  },
  {
   "cell_type": "code",
   "execution_count": 142,
   "id": "dca406d1",
   "metadata": {},
   "outputs": [],
   "source": [
    "def arrayToList(arr,n):\n",
    "    root=None\n",
    "    for i in range(n):\n",
    "        root=insert(root,arr[i])\n",
    "    return root"
   ]
  },
  {
   "cell_type": "code",
   "execution_count": 141,
   "id": "bf6bbb58",
   "metadata": {},
   "outputs": [],
   "source": [
    "def insert(root, item):\n",
    "    temp = Node(item)\n",
    "     \n",
    "    if (root == None):\n",
    "        root = temp\n",
    "    else :\n",
    "        ptr = root\n",
    "        while (ptr.next != None):\n",
    "            ptr = ptr.next\n",
    "        ptr.next = temp\n",
    "     \n",
    "    return root"
   ]
  },
  {
   "cell_type": "markdown",
   "id": "10dd590a",
   "metadata": {},
   "source": [
    "## Deleting a node from a linked list"
   ]
  },
  {
   "cell_type": "code",
   "execution_count": 82,
   "id": "0155e5f9",
   "metadata": {},
   "outputs": [],
   "source": [
    "def deleteNode(root,target):\n",
    "    temp=root\n",
    "    if (temp is not None):\n",
    "        if temp.val==target:\n",
    "            root=temp.next\n",
    "            return\n",
    "    while(temp is not None):\n",
    "        if(temp.val==target):\n",
    "            break\n",
    "        prev=temp\n",
    "        temp=temp.next\n",
    "    if(temp==None):\n",
    "        return\n",
    "    prev.next=temp.next"
   ]
  },
  {
   "cell_type": "code",
   "execution_count": 87,
   "id": "b03789a2",
   "metadata": {},
   "outputs": [
    {
     "name": "stdout",
     "output_type": "stream",
     "text": [
      "1->2->4->NULL\n"
     ]
    }
   ],
   "source": [
    "printLinkList(A)"
   ]
  },
  {
   "cell_type": "code",
   "execution_count": 86,
   "id": "f923c222",
   "metadata": {},
   "outputs": [],
   "source": [
    "deleteNode(A,3)"
   ]
  },
  {
   "cell_type": "code",
   "execution_count": null,
   "id": "0eaef7f4",
   "metadata": {},
   "outputs": [],
   "source": []
  },
  {
   "cell_type": "code",
   "execution_count": 147,
   "id": "f319003e",
   "metadata": {},
   "outputs": [
    {
     "data": {
      "text/plain": [
       "<__main__.Node at 0x2aa5c3d2760>"
      ]
     },
     "execution_count": 147,
     "metadata": {},
     "output_type": "execute_result"
    }
   ],
   "source": [
    "insert(A,3)"
   ]
  },
  {
   "cell_type": "code",
   "execution_count": 148,
   "id": "1df058c9",
   "metadata": {},
   "outputs": [
    {
     "name": "stdout",
     "output_type": "stream",
     "text": [
      "A->3->NULL\n"
     ]
    }
   ],
   "source": [
    "printLinkList(A)"
   ]
  },
  {
   "cell_type": "code",
   "execution_count": null,
   "id": "035d958d",
   "metadata": {},
   "outputs": [],
   "source": []
  },
  {
   "cell_type": "code",
   "execution_count": null,
   "id": "ff984d3f",
   "metadata": {},
   "outputs": [],
   "source": []
  },
  {
   "cell_type": "code",
   "execution_count": null,
   "id": "bb2e1cdf",
   "metadata": {},
   "outputs": [],
   "source": []
  },
  {
   "cell_type": "code",
   "execution_count": null,
   "id": "dabc75fa",
   "metadata": {},
   "outputs": [],
   "source": []
  },
  {
   "cell_type": "code",
   "execution_count": null,
   "id": "71d8e358",
   "metadata": {},
   "outputs": [],
   "source": []
  },
  {
   "cell_type": "code",
   "execution_count": null,
   "id": "5fe06902",
   "metadata": {},
   "outputs": [],
   "source": []
  },
  {
   "cell_type": "code",
   "execution_count": null,
   "id": "905be92a",
   "metadata": {},
   "outputs": [],
   "source": []
  },
  {
   "cell_type": "code",
   "execution_count": 138,
   "id": "3f1d7436",
   "metadata": {},
   "outputs": [],
   "source": [
    "class Node:\n",
    "    def __init__(self,val):\n",
    "        self.val=val\n",
    "        self.next=None\n",
    "class linkedList:\n",
    "    def __init__(self):\n",
    "        self.head=None\n",
    "        \n",
    "    def printList(self):\n",
    "        current=self.head\n",
    "        while(current is not None):\n",
    "            print(current.val)\n",
    "            current=current.next\n",
    "    \n",
    "    def insert(self,elem):\n",
    "        temp=Node(elem)\n",
    "        \n",
    "        if(self.head==None):\n",
    "            self.head=temp\n",
    "        else:\n",
    "            ptr=self.head\n",
    "            \n",
    "            while(ptr!=None):\n",
    "                ptr=ptr.next\n",
    "            ptr.next=temp\n",
    "    \n",
    "    def deleteNode(self,target):\n",
    "        temp=self.head\n",
    "        if(temp.val==target):\n",
    "            self.head.next=temp.next\n",
    "            temp=None\n",
    "            return\n",
    "            \n",
    "        while(temp!=None):\n",
    "            if(temp.val==target):\n",
    "                break\n",
    "            prev=temp\n",
    "            temp=temp.next\n",
    "            \n",
    "        if(temp==None):\n",
    "            return \n",
    "        \n",
    "        prev.next=temp.next\n",
    "        \n",
    "    def reverseList(self):\n",
    "        current=self.head\n",
    "        prev=None\n",
    "        while(current!=None):\n",
    "            temp=current.next\n",
    "            current.next=prev\n",
    "            prev=current\n",
    "            current=temp\n",
    "                \n",
    "        return prev\n",
    "    def countNodes(self):\n",
    "            current=self.head\n",
    "            count=0\n",
    "            while(current!=None):\n",
    "                count+=1\n",
    "            return count\n",
    "        "
   ]
  },
  {
   "cell_type": "code",
   "execution_count": 139,
   "id": "68651602",
   "metadata": {},
   "outputs": [],
   "source": [
    "LList=linkedList()"
   ]
  },
  {
   "cell_type": "code",
   "execution_count": 140,
   "id": "cc7ee77f",
   "metadata": {},
   "outputs": [
    {
     "ename": "AttributeError",
     "evalue": "'NoneType' object has no attribute 'next'",
     "output_type": "error",
     "traceback": [
      "\u001b[1;31m---------------------------------------------------------------------------\u001b[0m",
      "\u001b[1;31mAttributeError\u001b[0m                            Traceback (most recent call last)",
      "\u001b[1;32m<ipython-input-140-51d7422a55df>\u001b[0m in \u001b[0;36m<module>\u001b[1;34m\u001b[0m\n\u001b[0;32m      1\u001b[0m \u001b[0mLList\u001b[0m\u001b[1;33m.\u001b[0m\u001b[0minsert\u001b[0m\u001b[1;33m(\u001b[0m\u001b[1;34m'A'\u001b[0m\u001b[1;33m)\u001b[0m\u001b[1;33m\u001b[0m\u001b[1;33m\u001b[0m\u001b[0m\n\u001b[1;32m----> 2\u001b[1;33m \u001b[0mLList\u001b[0m\u001b[1;33m.\u001b[0m\u001b[0minsert\u001b[0m\u001b[1;33m(\u001b[0m\u001b[1;34m'B'\u001b[0m\u001b[1;33m)\u001b[0m\u001b[1;33m\u001b[0m\u001b[1;33m\u001b[0m\u001b[0m\n\u001b[0m\u001b[0;32m      3\u001b[0m \u001b[0mLList\u001b[0m\u001b[1;33m.\u001b[0m\u001b[0minsert\u001b[0m\u001b[1;33m(\u001b[0m\u001b[1;34m'C'\u001b[0m\u001b[1;33m)\u001b[0m\u001b[1;33m\u001b[0m\u001b[1;33m\u001b[0m\u001b[0m\n\u001b[0;32m      4\u001b[0m \u001b[0mLList\u001b[0m\u001b[1;33m.\u001b[0m\u001b[0minsert\u001b[0m\u001b[1;33m(\u001b[0m\u001b[1;34m'D'\u001b[0m\u001b[1;33m)\u001b[0m\u001b[1;33m\u001b[0m\u001b[1;33m\u001b[0m\u001b[0m\n\u001b[0;32m      5\u001b[0m \u001b[0mLList\u001b[0m\u001b[1;33m.\u001b[0m\u001b[0minsert\u001b[0m\u001b[1;33m(\u001b[0m\u001b[1;34m'E'\u001b[0m\u001b[1;33m)\u001b[0m\u001b[1;33m\u001b[0m\u001b[1;33m\u001b[0m\u001b[0m\n",
      "\u001b[1;32m<ipython-input-138-a7fdbd873c67>\u001b[0m in \u001b[0;36minsert\u001b[1;34m(self, elem)\u001b[0m\n\u001b[0;32m     23\u001b[0m             \u001b[1;32mwhile\u001b[0m\u001b[1;33m(\u001b[0m\u001b[0mptr\u001b[0m\u001b[1;33m!=\u001b[0m\u001b[1;32mNone\u001b[0m\u001b[1;33m)\u001b[0m\u001b[1;33m:\u001b[0m\u001b[1;33m\u001b[0m\u001b[1;33m\u001b[0m\u001b[0m\n\u001b[0;32m     24\u001b[0m                 \u001b[0mptr\u001b[0m\u001b[1;33m=\u001b[0m\u001b[0mptr\u001b[0m\u001b[1;33m.\u001b[0m\u001b[0mnext\u001b[0m\u001b[1;33m\u001b[0m\u001b[1;33m\u001b[0m\u001b[0m\n\u001b[1;32m---> 25\u001b[1;33m             \u001b[0mptr\u001b[0m\u001b[1;33m.\u001b[0m\u001b[0mnext\u001b[0m\u001b[1;33m=\u001b[0m\u001b[0mtemp\u001b[0m\u001b[1;33m\u001b[0m\u001b[1;33m\u001b[0m\u001b[0m\n\u001b[0m\u001b[0;32m     26\u001b[0m \u001b[1;33m\u001b[0m\u001b[0m\n\u001b[0;32m     27\u001b[0m     \u001b[1;32mdef\u001b[0m \u001b[0mdeleteNode\u001b[0m\u001b[1;33m(\u001b[0m\u001b[0mself\u001b[0m\u001b[1;33m,\u001b[0m\u001b[0mtarget\u001b[0m\u001b[1;33m)\u001b[0m\u001b[1;33m:\u001b[0m\u001b[1;33m\u001b[0m\u001b[1;33m\u001b[0m\u001b[0m\n",
      "\u001b[1;31mAttributeError\u001b[0m: 'NoneType' object has no attribute 'next'"
     ]
    }
   ],
   "source": [
    "LList.insert('A')\n",
    "LList.insert('B')\n",
    "LList.insert('C')\n",
    "LList.insert('D')\n",
    "LList.insert('E')"
   ]
  },
  {
   "cell_type": "code",
   "execution_count": 149,
   "id": "84cc8a98",
   "metadata": {},
   "outputs": [
    {
     "name": "stdout",
     "output_type": "stream",
     "text": [
      "A\n"
     ]
    }
   ],
   "source": [
    "LList.printList()"
   ]
  },
  {
   "cell_type": "code",
   "execution_count": 150,
   "id": "7ff4cb99",
   "metadata": {},
   "outputs": [],
   "source": [
    "LList.head=Node('A')"
   ]
  },
  {
   "cell_type": "code",
   "execution_count": 151,
   "id": "60b96609",
   "metadata": {},
   "outputs": [
    {
     "name": "stdout",
     "output_type": "stream",
     "text": [
      "A\n"
     ]
    }
   ],
   "source": [
    "LList.printList()"
   ]
  },
  {
   "cell_type": "code",
   "execution_count": 152,
   "id": "f1d8d4d7",
   "metadata": {},
   "outputs": [
    {
     "ename": "AttributeError",
     "evalue": "'NoneType' object has no attribute 'next'",
     "output_type": "error",
     "traceback": [
      "\u001b[1;31m---------------------------------------------------------------------------\u001b[0m",
      "\u001b[1;31mAttributeError\u001b[0m                            Traceback (most recent call last)",
      "\u001b[1;32m<ipython-input-152-022aa0ed0b43>\u001b[0m in \u001b[0;36m<module>\u001b[1;34m\u001b[0m\n\u001b[1;32m----> 1\u001b[1;33m \u001b[0mLList\u001b[0m\u001b[1;33m.\u001b[0m\u001b[0minsert\u001b[0m\u001b[1;33m(\u001b[0m\u001b[1;34m'B'\u001b[0m\u001b[1;33m)\u001b[0m\u001b[1;33m\u001b[0m\u001b[1;33m\u001b[0m\u001b[0m\n\u001b[0m",
      "\u001b[1;32m<ipython-input-138-a7fdbd873c67>\u001b[0m in \u001b[0;36minsert\u001b[1;34m(self, elem)\u001b[0m\n\u001b[0;32m     23\u001b[0m             \u001b[1;32mwhile\u001b[0m\u001b[1;33m(\u001b[0m\u001b[0mptr\u001b[0m\u001b[1;33m!=\u001b[0m\u001b[1;32mNone\u001b[0m\u001b[1;33m)\u001b[0m\u001b[1;33m:\u001b[0m\u001b[1;33m\u001b[0m\u001b[1;33m\u001b[0m\u001b[0m\n\u001b[0;32m     24\u001b[0m                 \u001b[0mptr\u001b[0m\u001b[1;33m=\u001b[0m\u001b[0mptr\u001b[0m\u001b[1;33m.\u001b[0m\u001b[0mnext\u001b[0m\u001b[1;33m\u001b[0m\u001b[1;33m\u001b[0m\u001b[0m\n\u001b[1;32m---> 25\u001b[1;33m             \u001b[0mptr\u001b[0m\u001b[1;33m.\u001b[0m\u001b[0mnext\u001b[0m\u001b[1;33m=\u001b[0m\u001b[0mtemp\u001b[0m\u001b[1;33m\u001b[0m\u001b[1;33m\u001b[0m\u001b[0m\n\u001b[0m\u001b[0;32m     26\u001b[0m \u001b[1;33m\u001b[0m\u001b[0m\n\u001b[0;32m     27\u001b[0m     \u001b[1;32mdef\u001b[0m \u001b[0mdeleteNode\u001b[0m\u001b[1;33m(\u001b[0m\u001b[0mself\u001b[0m\u001b[1;33m,\u001b[0m\u001b[0mtarget\u001b[0m\u001b[1;33m)\u001b[0m\u001b[1;33m:\u001b[0m\u001b[1;33m\u001b[0m\u001b[1;33m\u001b[0m\u001b[0m\n",
      "\u001b[1;31mAttributeError\u001b[0m: 'NoneType' object has no attribute 'next'"
     ]
    }
   ],
   "source": [
    "LList.insert('B')"
   ]
  },
  {
   "cell_type": "code",
   "execution_count": null,
   "id": "7e5af0e6",
   "metadata": {},
   "outputs": [],
   "source": []
  }
 ],
 "metadata": {
  "kernelspec": {
   "display_name": "Python 3",
   "language": "python",
   "name": "python3"
  },
  "language_info": {
   "codemirror_mode": {
    "name": "ipython",
    "version": 3
   },
   "file_extension": ".py",
   "mimetype": "text/x-python",
   "name": "python",
   "nbconvert_exporter": "python",
   "pygments_lexer": "ipython3",
   "version": "3.8.8"
  }
 },
 "nbformat": 4,
 "nbformat_minor": 5
}
